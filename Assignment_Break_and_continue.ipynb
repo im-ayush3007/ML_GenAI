{
 "cells": [
  {
   "cell_type": "markdown",
   "id": "bba09518-4823-421c-897b-87cae1ab117b",
   "metadata": {},
   "source": [
    "PW Skills Assignment Solutions\n",
    "Assignment-05 Python Break and Continue Statements"
   ]
  },
  {
   "cell_type": "markdown",
   "id": "87590c90-4694-46dc-aabd-ef7c7cba6dca",
   "metadata": {},
   "source": [
    "1. Write a program to print numbers from 1 to 10, but stop if the number is 5."
   ]
  },
  {
   "cell_type": "code",
   "execution_count": 1,
   "id": "9f970f35-5500-4213-a701-d9ed2dbbab77",
   "metadata": {},
   "outputs": [
    {
     "name": "stdout",
     "output_type": "stream",
     "text": [
      "1\n",
      "2\n",
      "3\n",
      "4\n"
     ]
    }
   ],
   "source": [
    "n=1\n",
    "while (n<=10):\n",
    "    print(n)\n",
    "    n+=1 \n",
    "    if n==5:\n",
    "        break\n",
    "    "
   ]
  },
  {
   "cell_type": "markdown",
   "id": "ed1fc89e-5a17-4777-8cb8-905e6c6c3fdb",
   "metadata": {},
   "source": [
    "2. Write a program to iterate through a list and stop when encountering a specific element."
   ]
  },
  {
   "cell_type": "code",
   "execution_count": 6,
   "id": "ce811f02-e6a4-40f1-bf21-a0823f76cbd6",
   "metadata": {},
   "outputs": [
    {
     "name": "stdout",
     "output_type": "stream",
     "text": [
      "1\n",
      "2\n",
      "apple\n",
      "(5, 7, 8)\n"
     ]
    }
   ],
   "source": [
    "lst=[1,2,'apple', (5,7,8),'banana', 4.5, 7.8]\n",
    "for i in range(0,len(lst)):\n",
    "    if lst[i]=='banana':\n",
    "        break\n",
    "    print(lst[i])"
   ]
  },
  {
   "cell_type": "markdown",
   "id": "b60c1405-b0bc-4b18-b0e3-c1aa1f427540",
   "metadata": {},
   "source": [
    "3. Write a program to skip printing even numbers from 1 to 10."
   ]
  },
  {
   "cell_type": "code",
   "execution_count": 2,
   "id": "5535fedd-977f-4a1c-b793-241ea76e5358",
   "metadata": {},
   "outputs": [
    {
     "name": "stdout",
     "output_type": "stream",
     "text": [
      "1\n",
      "3\n",
      "5\n",
      "7\n",
      "9\n"
     ]
    }
   ],
   "source": [
    "for i in range (0,11):\n",
    "    if i%2==0:\n",
    "        continue\n",
    "    print(i)"
   ]
  },
  {
   "cell_type": "markdown",
   "id": "6a291c5f-27c8-4257-b7d9-e361c4c2d9b7",
   "metadata": {},
   "source": [
    "4. Write a program to print numbers from 0 to 9 using range()."
   ]
  },
  {
   "cell_type": "code",
   "execution_count": 4,
   "id": "b486a2a7-1dc2-429e-a24e-93baee0776f2",
   "metadata": {},
   "outputs": [
    {
     "name": "stdout",
     "output_type": "stream",
     "text": [
      "0\n",
      "1\n",
      "2\n",
      "3\n",
      "4\n",
      "5\n",
      "6\n",
      "7\n",
      "8\n",
      "9\n"
     ]
    }
   ],
   "source": [
    "for i in range(10):\n",
    "    print(i)"
   ]
  },
  {
   "cell_type": "markdown",
   "id": "d0979dae-f512-4c41-bc87-881e740f6fed",
   "metadata": {},
   "source": [
    "5. Write a program to print multiplication tables from 1 to 5, but stop after the first table is printed for each number."
   ]
  },
  {
   "cell_type": "code",
   "execution_count": 8,
   "id": "889039cd-74aa-4c1e-8f39-9a9d79218c02",
   "metadata": {},
   "outputs": [
    {
     "name": "stdout",
     "output_type": "stream",
     "text": [
      "1 * 1 = 1\t2 * 1 = 2\t3 * 1 = 3\t4 * 1 = 4\t5 * 1 = 5\t"
     ]
    }
   ],
   "source": [
    "for i in range(1,6):\n",
    "    for j in range(1,11):\n",
    "        if j==2:\n",
    "            break\n",
    "        print(f\"{i} * {j} = {i*j}\", end=\"\\t\")\n",
    "        "
   ]
  },
  {
   "cell_type": "markdown",
   "id": "098a63aa-f4a2-4e54-ae16-bfabf61e691a",
   "metadata": {},
   "source": [
    "6. Write a program to skip printing even numbers using a while loop."
   ]
  },
  {
   "cell_type": "code",
   "execution_count": 1,
   "id": "1bd89f61-65ca-4697-a0cc-0f495d4f2a52",
   "metadata": {},
   "outputs": [
    {
     "name": "stdout",
     "output_type": "stream",
     "text": [
      "1\n",
      "3\n",
      "5\n",
      "7\n",
      "9\n"
     ]
    }
   ],
   "source": [
    "i=1\n",
    "while (i<11):\n",
    "    if i%2!=0:\n",
    "        print(i)\n",
    "    i=i+1"
   ]
  },
  {
   "cell_type": "code",
   "execution_count": null,
   "id": "123ddad8-f08c-4279-9117-4eb6ccce7582",
   "metadata": {},
   "outputs": [],
   "source": []
  }
 ],
 "metadata": {
  "kernelspec": {
   "display_name": "Python 3 (ipykernel)",
   "language": "python",
   "name": "python3"
  },
  "language_info": {
   "codemirror_mode": {
    "name": "ipython",
    "version": 3
   },
   "file_extension": ".py",
   "mimetype": "text/x-python",
   "name": "python",
   "nbconvert_exporter": "python",
   "pygments_lexer": "ipython3",
   "version": "3.10.8"
  }
 },
 "nbformat": 4,
 "nbformat_minor": 5
}
