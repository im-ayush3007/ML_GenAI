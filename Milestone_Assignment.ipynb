{
  "nbformat": 4,
  "nbformat_minor": 0,
  "metadata": {
    "colab": {
      "provenance": []
    },
    "kernelspec": {
      "name": "python3",
      "display_name": "Python 3"
    },
    "language_info": {
      "name": "python"
    }
  },
  "cells": [
    {
      "cell_type": "markdown",
      "source": [
        "Question 1.1: Write the Answer to these questions.\n",
        "Note: Give at least one examBle or eac o te questions"
      ],
      "metadata": {
        "id": "m3AcDrohMhm2"
      }
    },
    {
      "cell_type": "code",
      "execution_count": null,
      "metadata": {
        "id": "Zv2d2h2wMHFj"
      },
      "outputs": [],
      "source": [
        "#Q1 What is the difference between static and dynamic variables in Python?\n",
        "\"\"\"Static variables are also called as class variables and therefore they have fixed memory locations,\n",
        "limited scope, and persistent values across function calls, while dynamic variables have runtime memory allocation,\n",
        "broader scope, and object-specific data\"\"\""
      ]
    },
    {
      "cell_type": "code",
      "source": [
        "#Q2 Explain te purpose of \"pop\",\"popitem\",\"clear()\" in a dictionary with suitable examples\n",
        "dict1={\"a\":1,\"b\":2,\"c\":3,\"d\":4,\"e\":5}\n",
        "print(dict1) #original dictionary\n",
        "dict1.pop(\"b\")\n",
        "print(dict1) #dictionary after popping one item\n",
        "dict1.popitem()\n",
        "print(dict1) #dictionary after popping last item\n",
        "dict1.clear()\n",
        "print(dict1) #dictionary after clearing all items"
      ],
      "metadata": {
        "colab": {
          "base_uri": "https://localhost:8080/"
        },
        "id": "7O9erK3orngG",
        "outputId": "5f030565-3fb7-400a-8f73-65302c1fc201"
      },
      "execution_count": 1,
      "outputs": [
        {
          "output_type": "stream",
          "name": "stdout",
          "text": [
            "{'a': 1, 'b': 2, 'c': 3, 'd': 4, 'e': 5}\n",
            "{'a': 1, 'c': 3, 'd': 4, 'e': 5}\n",
            "{'a': 1, 'c': 3, 'd': 4}\n",
            "{}\n"
          ]
        }
      ]
    },
    {
      "cell_type": "code",
      "source": [
        "#What do you mean by FrozenSet? Explain it with suitable examples\n",
        "\"\"\" Frozen sets are build in data type in python which are like sets but are IMMUTABLE and can be used as a key in dictionary unlike normal set.\n",
        "They can perform union difference and other operations of set by creating a new frozen set \"\"\"\n",
        "# Creating a frozenset from a list\n",
        "fs1 = frozenset([1, 2, 3, 4])\n",
        "print(fs1)\n",
        "\n",
        "# Creating a frozenset from a set\n",
        "fs2 = frozenset({5, 6, 7, 8})\n",
        "print(fs2)\n",
        "\n",
        "# Creating a frozenset from a string\n",
        "fs3 = frozenset('hello')\n",
        "print(fs3)\n"
      ],
      "metadata": {
        "colab": {
          "base_uri": "https://localhost:8080/"
        },
        "id": "lPswklBystM0",
        "outputId": "baf04d0b-7561-4625-c378-bf866be0447f"
      },
      "execution_count": null,
      "outputs": [
        {
          "output_type": "stream",
          "name": "stdout",
          "text": [
            "frozenset({1, 2, 3, 4})\n",
            "frozenset({8, 5, 6, 7})\n",
            "frozenset({'h', 'o', 'e', 'l'})\n"
          ]
        }
      ]
    },
    {
      "cell_type": "code",
      "source": [
        "#Differentiate between mutable and immutable data types in Python and give examples of mutable and immutable data types\n",
        "\"\"\"Mutable Data types: They can be changed/modified after creation eg. list, set, dictionary\n",
        "Immutable Data types: They cannot be changed after creation eg. int, float, string, tuple, frozenset\"\"\""
      ],
      "metadata": {
        "id": "ox9Bi9k2t_oX"
      },
      "execution_count": null,
      "outputs": []
    },
    {
      "cell_type": "code",
      "source": [
        "#What is __init__?Explain with an example\n",
        "\"\"\"The __init__ method in Python is a special method(Dunder method) used in classes for initializing new instances of the class.\n",
        "It's known as the constructor method and is automatically called when a new object of the class is created.\n",
        "The purpose of __init__ is to set up the initial state of the object by assigning values to its attributes.\n",
        "Initialization: __init__ initializes the newly created object. It’s where you define the attributes that the\n",
        "object will have and set their initial values.\n",
        "Self Parameter: The first parameter of __init__ is always self, which refers to the instance being created.\n",
        "It allows you to access and set attributes on the instance.\n",
        "Other Parameters: You can add more parameters to __init__ to pass initial values when creating an instance.\"\"\"\n",
        "\n",
        "class Person:\n",
        "    def __init__(self, name, age):\n",
        "        self.name = name  # Initialize the name attribute\n",
        "        self.age = age    # Initialize the age attribute\n",
        "\n",
        "    def greet(self):\n",
        "        return f\"Hello, my name is {self.name} and I am {self.age} years old.\"\n",
        "\n",
        "# Creating an instance of Person\n",
        "person1 = Person(\"Ayushman\", 24)\n",
        "\n",
        "# Accessing attributes and methods\n",
        "print(person1.name)\n",
        "print(person1.age)\n",
        "print(person1.greet())"
      ],
      "metadata": {
        "colab": {
          "base_uri": "https://localhost:8080/"
        },
        "id": "cUOIwZycwgQr",
        "outputId": "7531cf17-bda0-4b8a-95f8-e65395a45a22"
      },
      "execution_count": 2,
      "outputs": [
        {
          "output_type": "stream",
          "name": "stdout",
          "text": [
            "Ayushman\n",
            "24\n",
            "Hello, my name is Ayushman and I am 24 years old.\n"
          ]
        }
      ]
    },
    {
      "cell_type": "code",
      "source": [
        "#What is docstring in Python?Explain with an example\n",
        "\"\"\"A docstring in Python is a string literal that appears right after the definition of a function, method, class, or module.\n",
        "It is used to document what the function, method, class, or module does.\n",
        "A docstring is written within triple quotes (\"\"\" or ''').\n",
        "This allows the docstring to span multiple lines, which is useful for providing detailed documentation.\n",
        "the above codes are the example for the same\"\"\""
      ],
      "metadata": {
        "id": "78aokOa9xZCn"
      },
      "execution_count": null,
      "outputs": []
    },
    {
      "cell_type": "code",
      "source": [
        "#What are unit tests in Python?\n"
      ],
      "metadata": {
        "id": "QMZ-XPS4yHsO"
      },
      "execution_count": null,
      "outputs": []
    },
    {
      "cell_type": "code",
      "source": [
        "#What is break, continue and pass in Python?\n",
        "\"\"\"break:it used to break an iterative loop or switch statement if the condition is fulfilled\n",
        "continue: is used to continue an iterative loop if the above condition is done\n",
        "pass; it simply passes to the next iteration \"\"\"\n",
        "\n",
        "#eg of break statement\n",
        "for i in range (11): #0 to 10\n",
        "    print(i)\n",
        "    if i==5: #when i attains value 5 the loop will break and comeout of the loop\n",
        "        break\n",
        "\n",
        "print(\"\\n\")\n",
        "#eg of continue statement\n",
        "for j in range (11):\n",
        "  if j%2==0:\n",
        "    print(j) #for even values of j it will print and for odd values it will continue the next iteration\n",
        "  else:\n",
        "    continue\n",
        "\n",
        "print(\"\\n\")\n",
        "#eg of pass statement\n",
        "for k in range (6):\n",
        "  if k==3:\n",
        "    pass #it will pass when k=3\n",
        "  else:\n",
        "    print(k)"
      ],
      "metadata": {
        "colab": {
          "base_uri": "https://localhost:8080/"
        },
        "id": "zq-cUdV2zKk_",
        "outputId": "783eae67-adaf-4dc0-9047-eaf2ec29dea1"
      },
      "execution_count": null,
      "outputs": [
        {
          "output_type": "stream",
          "name": "stdout",
          "text": [
            "0\n",
            "1\n",
            "2\n",
            "3\n",
            "4\n",
            "5\n",
            "\n",
            "\n",
            "0\n",
            "2\n",
            "4\n",
            "6\n",
            "8\n",
            "10\n",
            "\n",
            "\n",
            "0\n",
            "1\n",
            "2\n",
            "4\n",
            "5\n"
          ]
        }
      ]
    },
    {
      "cell_type": "code",
      "source": [
        "#What is the use of self in Python?\n",
        "\"\"\"self is NOT a keyword of Python, it is used to initialise the function to call itself\n",
        "Self Parameter: The first parameter of any function is always self, which refers to the instance being created.\n",
        "It allows you to access and set attributes on the instance.\"\"\""
      ],
      "metadata": {
        "id": "aRsLu5vIz4k1"
      },
      "execution_count": null,
      "outputs": []
    },
    {
      "cell_type": "code",
      "source": [
        "#What are global, protected and private attributes in Python?\n",
        "\"\"\"Global Attributes: Defined outside any class or function and accessible from anywhere in the module.\n",
        "Protected Attributes: Indicated by a single underscore (_). Intended for internal use within the class and subclasses, but can still be accessed directly.\n",
        "Private Attributes: Indicated by double underscores (__). Intended to be accessible only within the class due to name mangling, but not strictly enforced.\"\"\"\n",
        "\n",
        "class Student:\n",
        "    def __init__(self, name, age, std):\n",
        "        self.__name=name    #private\n",
        "        self._age=age       #protected\n",
        "        self.std=std        #public\n",
        "    def display(self):\n",
        "        print(f\"{self.__name}, {self._age} years old is studying in standard {self.std}\")\n",
        "\n",
        "stud=Student(\"Ankita\",16,\"Tenth\")\n",
        "stud.display()"
      ],
      "metadata": {
        "colab": {
          "base_uri": "https://localhost:8080/"
        },
        "id": "v9RKiPlc2-0Z",
        "outputId": "58f3315e-346a-404d-ebce-524f204a4266"
      },
      "execution_count": null,
      "outputs": [
        {
          "output_type": "stream",
          "name": "stdout",
          "text": [
            "Ankita, 16 years old is studying in standard Tenth\n"
          ]
        }
      ]
    },
    {
      "cell_type": "code",
      "source": [
        "#What are modules and packages in Python?\n",
        "\"\"\"A module is a single file containing Python code, whereas a package is a collection of modules that are organized in a directory hierarchy.\"\"\""
      ],
      "metadata": {
        "id": "Ac7BhrP34z9H"
      },
      "execution_count": null,
      "outputs": []
    },
    {
      "cell_type": "code",
      "source": [
        "#What are lists and tuples? What is the key difference between the two?\n",
        "\"\"\"Lists and Tuples are both in built data types of python that contain a group of data\n",
        "list is mutable data type whereas tuples are immutable\n",
        "list is ordered and tuples are unordered\n",
        "list is enclosed by square brackets whereas tuples are enclosed by round brackets\n",
        "tuples are more memory efficient than lists\"\"\"\n",
        "lst=list(range(10))\n",
        "print(lst, type(lst))\n",
        "tup=tuple(range(10))\n",
        "print(tup, type(tup))\n",
        "\n",
        "lst2=list([1,\"a\",3.4,True])\n",
        "lst2[2]=\"b\"\n",
        "print(lst2)\n",
        "tup2=(1,\"a\",3.4,True)\n",
        "tup2[2]=\"b\" #tuples are immutable it will throw type error\n",
        "print(tup2)"
      ],
      "metadata": {
        "colab": {
          "base_uri": "https://localhost:8080/",
          "height": 245
        },
        "id": "VXja0zLP5KbJ",
        "outputId": "04384a19-c064-4016-b0be-8486b8d5b279"
      },
      "execution_count": null,
      "outputs": [
        {
          "output_type": "stream",
          "name": "stdout",
          "text": [
            "[0, 1, 2, 3, 4, 5, 6, 7, 8, 9] <class 'list'>\n",
            "(0, 1, 2, 3, 4, 5, 6, 7, 8, 9) <class 'tuple'>\n",
            "[1, 'a', 'b', True]\n"
          ]
        },
        {
          "output_type": "error",
          "ename": "TypeError",
          "evalue": "'tuple' object does not support item assignment",
          "traceback": [
            "\u001b[0;31m---------------------------------------------------------------------------\u001b[0m",
            "\u001b[0;31mTypeError\u001b[0m                                 Traceback (most recent call last)",
            "\u001b[0;32m<ipython-input-25-6e9b3c1817e9>\u001b[0m in \u001b[0;36m<cell line: 16>\u001b[0;34m()\u001b[0m\n\u001b[1;32m     14\u001b[0m \u001b[0mprint\u001b[0m\u001b[0;34m(\u001b[0m\u001b[0mlst2\u001b[0m\u001b[0;34m)\u001b[0m\u001b[0;34m\u001b[0m\u001b[0;34m\u001b[0m\u001b[0m\n\u001b[1;32m     15\u001b[0m \u001b[0mtup2\u001b[0m\u001b[0;34m=\u001b[0m\u001b[0;34m(\u001b[0m\u001b[0;36m1\u001b[0m\u001b[0;34m,\u001b[0m\u001b[0;34m\"a\"\u001b[0m\u001b[0;34m,\u001b[0m\u001b[0;36m3.4\u001b[0m\u001b[0;34m,\u001b[0m\u001b[0;32mTrue\u001b[0m\u001b[0;34m)\u001b[0m\u001b[0;34m\u001b[0m\u001b[0;34m\u001b[0m\u001b[0m\n\u001b[0;32m---> 16\u001b[0;31m \u001b[0mtup2\u001b[0m\u001b[0;34m[\u001b[0m\u001b[0;36m2\u001b[0m\u001b[0;34m]\u001b[0m\u001b[0;34m=\u001b[0m\u001b[0;34m\"b\"\u001b[0m \u001b[0;31m#tuples are immutable it will throw type error\u001b[0m\u001b[0;34m\u001b[0m\u001b[0;34m\u001b[0m\u001b[0m\n\u001b[0m\u001b[1;32m     17\u001b[0m \u001b[0mprint\u001b[0m\u001b[0;34m(\u001b[0m\u001b[0mtup2\u001b[0m\u001b[0;34m)\u001b[0m\u001b[0;34m\u001b[0m\u001b[0;34m\u001b[0m\u001b[0m\n",
            "\u001b[0;31mTypeError\u001b[0m: 'tuple' object does not support item assignment"
          ]
        }
      ]
    },
    {
      "cell_type": "code",
      "source": [
        "#What is an Interpreted language & dynamically typed language?Write 5 differences between them.\n",
        "\"\"\"An interpreted language is a type of programming language for which most of the instructions are executed\n",
        "directly by an interpreter rather than being compiled into machine code beforehand. The interpreter reads\n",
        "and executes the code line-by-line or statement-by-statement, which can make development and debugging easier.\n",
        "Examples: Python, Ruby, JavaScript\n",
        "\n",
        "A dynamically typed language is a type of programming language in which the type of a variable is determined\n",
        "at runtime rather than at compile-time. This means that variables do not have fixed types and can change their\n",
        "type as the program executes.\n",
        "Examples: Python, Ruby, JavaScript\n",
        "\n",
        "Differences Between Interpreted and Dynamically Typed Languages\n",
        "Definition:\n",
        "Interpreted Language: Refers to how the code is executed (interpreted line-by-line).\n",
        "Dynamically Typed Language: Refers to how types are managed (types are assigned at runtime).\n",
        "\n",
        "Compilation:\n",
        "Interpreted Language: Does not require a separate compilation step; the interpreter executes the code directly.\n",
        "Dynamically Typed Language: Focuses on variable types being resolved at runtime, regardless of whether the language is interpreted or compiled.\n",
        "\n",
        "Type Checking:\n",
        "Interpreted Language: May or may not be dynamically typed; the focus is on the execution method (e.g., Python is both interpreted and dynamically typed).\n",
        "Dynamically Typed Language: Emphasizes type checking at runtime, not at compile-time, which can apply to both interpreted and compiled languages.\n",
        "\n",
        "Error Detection:\n",
        "Interpreted Language: Errors are often detected at runtime during execution. Errors in syntax or logic can be found while running the code.\n",
        "Dynamically Typed Language: Type-related errors are detected at runtime, but syntax errors may be caught by the interpreter.\n",
        "\n",
        "Flexibility:\n",
        "Interpreted Language: Offers flexibility in development and debugging because code is executed line-by-line, which allows for rapid testing and modifications.\n",
        "Dynamically Typed Language: Provides flexibility in terms of variable types and can lead to more versatile code, but also requires careful management of type-related issues during execution.\n",
        "\"\"\""
      ],
      "metadata": {
        "id": "hO9mfcQd5wBZ"
      },
      "execution_count": null,
      "outputs": []
    },
    {
      "cell_type": "code",
      "source": [
        "#What are Dict and List comprehensions?\n",
        "lst=[1,2,3,4,5,6,7,8,9,10]\n",
        "lst_comp=[i for i in lst if i%2==0]\n",
        "print(lst_comp)\n",
        "\n",
        "dict1={\"a\":1,\"b\":2,\"c\":3,\"d\":4,\"e\":5}\n",
        "dict_comp={k:v for k,v in dict1.items() if v%2==0}\n",
        "print(dict_comp)"
      ],
      "metadata": {
        "colab": {
          "base_uri": "https://localhost:8080/"
        },
        "id": "2LeO5pmrAa4H",
        "outputId": "f1167884-0354-426d-f0d8-52e48015560d"
      },
      "execution_count": null,
      "outputs": [
        {
          "output_type": "stream",
          "name": "stdout",
          "text": [
            "[2, 4, 6, 8, 10]\n",
            "{'b': 2, 'd': 4}\n"
          ]
        }
      ]
    },
    {
      "cell_type": "code",
      "source": [
        "#What are decorators in Python? Explain it with an example.Write down its use cases.\n",
        "\"\"\"A decorator is a higher-order function that takes another function or method as an argument and extends or alters its behavior.\"\"\"\n",
        "\n",
        "# Define the decorator function\n",
        "def my_decorator(func):\n",
        "    def wrapper():\n",
        "        print(\"Something is happening before the function is called.\")\n",
        "        func()\n",
        "        print(\"Something is happening after the function is called.\")\n",
        "    return wrapper\n",
        "\n",
        "# Use the decorator\n",
        "@my_decorator #syntax of decorator function\n",
        "def say_hello():\n",
        "    print(\"Hello!\")\n",
        "\n",
        "# Call the decorated function\n",
        "say_hello()\n"
      ],
      "metadata": {
        "colab": {
          "base_uri": "https://localhost:8080/"
        },
        "id": "zUoC9Ev4Arm-",
        "outputId": "c8d6eb16-2e87-4738-a142-2bfb1d7927a3"
      },
      "execution_count": null,
      "outputs": [
        {
          "output_type": "stream",
          "name": "stdout",
          "text": [
            "Something is happening before the function is called.\n",
            "Hello!\n",
            "Something is happening after the function is called.\n"
          ]
        }
      ]
    },
    {
      "cell_type": "code",
      "source": [
        "#How is memory managed in Python?\n",
        "\"\"\"\"1. Memory Allocation\n",
        "Object Creation: Memory is allocated dynamically for objects when they are created. Python handles this allocation internally\n",
        "and adapts to varying object sizes.\n",
        "\n",
        "2. Reference Counting\n",
        "Counting References: Each object maintains a count of how many references point to it. When the reference count drops to zero,\n",
        "the memory for the object can be reclaimed.\n",
        "\n",
        "3. Garbage Collection\n",
        "Cycle Detection: To handle reference cycles that reference counting alone can't manage, Python uses a cyclic garbage collector\n",
        " that detects and collects objects involved in cycles.\n",
        "\n",
        "4. Memory Pools and Object Interning\n",
        "Memory Pools: Small objects are managed using memory pools to improve efficiency and reduce fragmentation.\n",
        "Object Interning: Python interns small immutable objects (e.g., small integers and strings) to save memory and improve performance\n",
        "by reusing objects.\n",
        "\n",
        "5. Automatic Memory Management\n",
        "Automatic Allocation/Deallocation: Python automatically handles memory allocation and deallocation for objects, using the garbage\n",
        "collector to clean up unused memory.\n",
        "\n",
        "6. Profiling and Leak Detection\n",
        "Tools: Tools like gc, tracemalloc, and memory_profiler help analyze memory usage, detect leaks, and optimize performance.\"\"\""
      ],
      "metadata": {
        "id": "XrGZ5ieoCbNN"
      },
      "execution_count": null,
      "outputs": []
    },
    {
      "cell_type": "code",
      "source": [
        "#What is lambda in Python? Why is it used?\n",
        "\"\"\"lambda is a one line anonymous function of python\"\"\"\n",
        "\n",
        "x=lambda a,b:a+b\n",
        "print(x(2,3))"
      ],
      "metadata": {
        "colab": {
          "base_uri": "https://localhost:8080/"
        },
        "id": "ABnjjNIfEn2W",
        "outputId": "03fa0a77-a875-40c4-fd48-9e9179552295"
      },
      "execution_count": null,
      "outputs": [
        {
          "output_type": "stream",
          "name": "stdout",
          "text": [
            "5\n"
          ]
        }
      ]
    },
    {
      "cell_type": "code",
      "source": [
        "#Explain split() and join() functions in Python?\n",
        "str1=\"Apple, Oranges, Kiwi, pineapple, berry\"\n",
        "str1.split(\",\") #spliting string whereever comma is there\n",
        "print(str1)\n",
        "s1=\" \".join(str1.split(\",\"))\n",
        "print(s1)"
      ],
      "metadata": {
        "colab": {
          "base_uri": "https://localhost:8080/"
        },
        "id": "7dlm7stZE8Gw",
        "outputId": "eb9b2f62-d3a5-48d7-f8bc-33015d4396dd"
      },
      "execution_count": null,
      "outputs": [
        {
          "output_type": "stream",
          "name": "stdout",
          "text": [
            "Apple, Oranges, Kiwi, pineapple, berry\n",
            "Apple  Oranges  Kiwi  pineapple  berry\n"
          ]
        }
      ]
    },
    {
      "cell_type": "code",
      "source": [
        "#What are iterators , iterable & generators in Python?\n",
        "\"\"\"An iterable is any Python object capable of returning its members one at a time, allowing it to be iterated over.\n",
        "This means the object must implement the __iter__() method, which returns an iterator,\n",
        "or the __getitem__() method, which allows indexed access.\"\"\"\n",
        "\n",
        "# List is an iterable\n",
        "my_list = [1, 2, 3]\n",
        "\n",
        "# Iterating over the list\n",
        "for item in my_list:\n",
        "    print(item)\n",
        "\n",
        "print(\"\\n\")\n",
        "\"\"\"An iterator is an object that represents a stream of data. It is used to iterate over a sequence of values.\n",
        "An iterator must implement two methods:\n",
        "__iter__(): Returns the iterator object itself. This method is required to make the object an iterable.\n",
        "__next__(): Returns the next value from the stream. When there are no more items, it raises a StopIteration exception.\"\"\"\n",
        "\n",
        "# Creating an iterator from a list\n",
        "my_list = [1, 2, 3]\n",
        "iterator = iter(my_list)\n",
        "\n",
        "# Using the iterator\n",
        "print(next(iterator))  # Output: 1\n",
        "print(next(iterator))  # Output: 2\n",
        "print(next(iterator))  # Output: 3\n",
        "# print(next(iterator))  # This would raise StopIteration\n",
        "print(\"\\n\")\n",
        "\n",
        "\"\"\"Generators are a special type of iterator created using functions with the yield keyword. They provide a convenient way to produce a sequence\n",
        " of values which are not stored in memory all at once.\"\"\"\n",
        "\n",
        "\n",
        "def my_generator():\n",
        "    yield 1\n",
        "    yield 2\n",
        "    yield 3\n",
        "\n",
        "# Using the generator\n",
        "generator = my_generator()\n",
        "for value in generator:\n",
        "    print(value)"
      ],
      "metadata": {
        "colab": {
          "base_uri": "https://localhost:8080/"
        },
        "id": "_Ze0Rt2eGg6n",
        "outputId": "5f2e4f7f-d282-4a24-c5e4-b5b4d6b8e545"
      },
      "execution_count": null,
      "outputs": [
        {
          "output_type": "stream",
          "name": "stdout",
          "text": [
            "1\n",
            "2\n",
            "3\n",
            "\n",
            "\n",
            "1\n",
            "2\n",
            "3\n",
            "\n",
            "\n",
            "1\n",
            "2\n",
            "3\n"
          ]
        }
      ]
    },
    {
      "cell_type": "code",
      "source": [
        "#What is the difference between xrange and range in Python?\n",
        "\"\"\"Python 2 range: Stores the entire list of numbers in memory.\n",
        "Python 2 xrange: Uses an iterator and generates numbers on demand.\n",
        "Python 3 range: Similar to Python 2 xrange; generates numbers on demand and is memory-efficient.\n",
        "\n",
        "Python 2 range: Returns a list.\n",
        "Python 2 xrange: Returns an xrange object (iterator-like).\n",
        "Python 3 range: Returns a range object (iterator-like).\n",
        "\n",
        "Python 2 range and xrange: Both support three arguments (start, stop, step), but range returns a list and xrange returns an iterator.\n",
        "Python 3 range: Supports three arguments as well (start, stop, step), and behaves like the old xrange in Python 2.\"\"\"\n"
      ],
      "metadata": {
        "colab": {
          "base_uri": "https://localhost:8080/",
          "height": 104
        },
        "id": "RoLfly-eHeen",
        "outputId": "32eb0595-cb75-4a16-9536-19b32e7afff0"
      },
      "execution_count": null,
      "outputs": [
        {
          "output_type": "execute_result",
          "data": {
            "text/plain": [
              "'Python 2 range: Stores the entire list of numbers in memory.\\nPython 2 xrange: Uses an iterator and generates numbers on demand.\\nPython 3 range: Similar to Python 2 xrange; generates numbers on demand and is memory-efficient.\\n\\nPython 2 range: Returns a list.\\nPython 2 xrange: Returns an xrange object (iterator-like).\\nPython 3 range: Returns a range object (iterator-like).\\n\\nPython 2 range and xrange: Both support three arguments (start, stop, step), but range returns a list and xrange returns an iterator.\\nPython 3 range: Supports three arguments as well (start, stop, step), and behaves like the old xrange in Python 2.'"
            ],
            "application/vnd.google.colaboratory.intrinsic+json": {
              "type": "string"
            }
          },
          "metadata": {},
          "execution_count": 42
        }
      ]
    },
    {
      "cell_type": "code",
      "source": [
        "#Pillars of Oops\n",
        "\"\"\"Pillars of OOPs are Inheritance, Polymorphism, Encapsulation and Abstraction\"\"\"\n"
      ],
      "metadata": {
        "id": "utquzf46IkYS"
      },
      "execution_count": null,
      "outputs": []
    },
    {
      "cell_type": "code",
      "source": [
        "#How will you check if a class is a child of another class?\n",
        "\"\"\"The issubclass() function checks if a class is a subclass of another class. It returns True if the first class is a subclass (directly or indirectly)\n",
        " of the second class, otherwise, it returns False.\"\"\"\n",
        "class Animal:\n",
        "    pass\n",
        "\n",
        "class Mammal(Animal):\n",
        "    pass\n",
        "\n",
        "class Dog(Mammal):\n",
        "    pass\n",
        "\n",
        "print(issubclass(Dog, Mammal))\n",
        "print(issubclass(Dog, Animal))\n",
        "print(issubclass(Mammal, Dog))\n"
      ],
      "metadata": {
        "colab": {
          "base_uri": "https://localhost:8080/"
        },
        "id": "kHVK6te8Jr5K",
        "outputId": "d9ed7d0a-cbe0-476f-a423-b0f7003183ca"
      },
      "execution_count": null,
      "outputs": [
        {
          "output_type": "stream",
          "name": "stdout",
          "text": [
            "True\n",
            "True\n",
            "False\n"
          ]
        }
      ]
    },
    {
      "cell_type": "code",
      "source": [
        "#How does inheritance work in python? Explain all types of inheritance with an example\n",
        "\"\"\"Inheritance is a fundamental concept in object-oriented programming (OOP) that allows a class (called a subclass or derived class)\n",
        " to inherit attributes and methods from another class (called a superclass or base class). In Python, inheritance facilitates code reuse\n",
        " and helps in building a hierarchy of classes.\n",
        "\n",
        "Working of Inheritance:\n",
        "Base Class: The class whose properties and methods are inherited.\n",
        "Derived Class: The class that inherits from the base class and can extend or override its behavior.\n",
        "\n",
        "Types of Inheritance:\n",
        "1. Single Inheritance:In single inheritance, a class (derived class) inherits from a single base class.\n",
        "2. Multiple Inheritance: In multiple inheritance, a class inherits from more than one base class.\n",
        "3. Multilevel Inheritance: In multilevel inheritance, a class is derived from another derived class, forming a chain.\n",
        "4. Hierarchical Inheritance: In hierarchical inheritance, multiple classes are derived from a single base class.\n",
        "5. Hybrid Inheritance:It is a combination of two or more types of inheritance. It may involve multiple inheritance in a complex hierarchy.\"\"\""
      ],
      "metadata": {
        "id": "aJo4s8NqKKNh"
      },
      "execution_count": null,
      "outputs": []
    },
    {
      "cell_type": "code",
      "source": [
        "#single inheritance\n",
        "class Animal:\n",
        "    def speak(self):\n",
        "        return \"Animal speaks\"\n",
        "\n",
        "class Dog(Animal):\n",
        "    def bark(self):\n",
        "        return \"Dog barks\"\n",
        "\n",
        "# Usage\n",
        "dog = Dog()\n",
        "print(dog.speak())  # Output: Animal speaks\n",
        "print(dog.bark())   # Output: Dog barks\n"
      ],
      "metadata": {
        "colab": {
          "base_uri": "https://localhost:8080/"
        },
        "id": "cHyOJz_-L3nd",
        "outputId": "01625e07-c077-4e4d-8539-d11df9e93b86"
      },
      "execution_count": null,
      "outputs": [
        {
          "output_type": "stream",
          "name": "stdout",
          "text": [
            "Animal speaks\n",
            "Dog barks\n"
          ]
        }
      ]
    },
    {
      "cell_type": "code",
      "source": [
        "#multiple inheritance\n",
        "class Flyable:\n",
        "    def fly(self):\n",
        "        return \"Can fly\"\n",
        "\n",
        "class Swimmable:\n",
        "    def swim(self):\n",
        "        return \"Can swim\"\n",
        "\n",
        "class Duck(Flyable, Swimmable):\n",
        "    pass\n",
        "\n",
        "# Usage\n",
        "duck = Duck()\n",
        "print(duck.fly())  # Output: Can fly\n",
        "print(duck.swim()) # Output: Can swim\n"
      ],
      "metadata": {
        "colab": {
          "base_uri": "https://localhost:8080/"
        },
        "id": "_bwGYWFTL8sa",
        "outputId": "0518f70f-3e1e-4a8c-9673-2d12b511f250"
      },
      "execution_count": null,
      "outputs": [
        {
          "output_type": "stream",
          "name": "stdout",
          "text": [
            "Can fly\n",
            "Can swim\n"
          ]
        }
      ]
    },
    {
      "cell_type": "code",
      "source": [
        "#multilevel inheritance\n",
        "class Animal:\n",
        "    def speak(self):\n",
        "        return \"Animal speaks\"\n",
        "\n",
        "class Mammal(Animal):\n",
        "    def walk(self):\n",
        "        return \"Mammal walks\"\n",
        "\n",
        "class Dog(Mammal):\n",
        "    def bark(self):\n",
        "        return \"Dog barks\"\n",
        "\n",
        "# Usage\n",
        "dog = Dog()\n",
        "print(dog.speak())  # Output: Animal speaks\n",
        "print(dog.walk())   # Output: Mammal walks\n",
        "print(dog.bark())   # Output: Dog barks\n"
      ],
      "metadata": {
        "colab": {
          "base_uri": "https://localhost:8080/"
        },
        "id": "dQ81tJnFMDUA",
        "outputId": "665c2b00-84a5-4763-b636-9c6a183943ba"
      },
      "execution_count": null,
      "outputs": [
        {
          "output_type": "stream",
          "name": "stdout",
          "text": [
            "Animal speaks\n",
            "Mammal walks\n",
            "Dog barks\n"
          ]
        }
      ]
    },
    {
      "cell_type": "code",
      "source": [
        "#hierarchical inheritance\n",
        "class Animal:\n",
        "    def speak(self):\n",
        "        return \"Animal speaks\"\n",
        "\n",
        "class Dog(Animal):\n",
        "    def bark(self):\n",
        "        return \"Dog barks\"\n",
        "\n",
        "class Cat(Animal):\n",
        "    def meow(self):\n",
        "        return \"Cat meows\"\n",
        "\n",
        "# Usage\n",
        "dog = Dog()\n",
        "cat = Cat()\n",
        "print(dog.speak())  # Output: Animal speaks\n",
        "print(dog.bark())   # Output: Dog barks\n",
        "print(cat.speak())  # Output: Animal speaks\n",
        "print(cat.meow())   # Output: Cat meows\n"
      ],
      "metadata": {
        "colab": {
          "base_uri": "https://localhost:8080/"
        },
        "id": "r5YmZPZVMLe5",
        "outputId": "8a5a256a-d282-4a43-d211-15744fb902a1"
      },
      "execution_count": null,
      "outputs": [
        {
          "output_type": "stream",
          "name": "stdout",
          "text": [
            "Animal speaks\n",
            "Dog barks\n",
            "Animal speaks\n",
            "Cat meows\n"
          ]
        }
      ]
    },
    {
      "cell_type": "code",
      "source": [
        "#hybrid inheritance\n",
        "class Animal:\n",
        "    def speak(self):\n",
        "        return \"Animal speaks\"\n",
        "\n",
        "class Flyable:\n",
        "    def fly(self):\n",
        "        return \"Can fly\"\n",
        "\n",
        "class Swimmable:\n",
        "    def swim(self):\n",
        "        return \"Can swim\"\n",
        "\n",
        "class Bird(Flyable, Animal):\n",
        "    pass\n",
        "\n",
        "class Fish(Swimmable, Animal):\n",
        "    pass\n",
        "\n",
        "class Duck(Bird, Fish):\n",
        "    pass\n",
        "\n",
        "# Usage\n",
        "duck = Duck()\n",
        "print(duck.speak())  # Output: Animal speaks\n",
        "print(duck.fly())    # Output: Can fly\n",
        "print(duck.swim())   # Output: Can swim\n"
      ],
      "metadata": {
        "colab": {
          "base_uri": "https://localhost:8080/"
        },
        "id": "WdgB7J4SMSIw",
        "outputId": "1856406e-e321-482b-ff60-9045a824da81"
      },
      "execution_count": null,
      "outputs": [
        {
          "output_type": "stream",
          "name": "stdout",
          "text": [
            "Animal speaks\n",
            "Can fly\n",
            "Can swim\n"
          ]
        }
      ]
    },
    {
      "cell_type": "code",
      "source": [
        "#What is encapsulation? Explain it with an example\n",
        "\"\"\"Encapsulation is an pillar of OOPS. It refers to the bundling of data (attributes) and methods (functions)\n",
        "that operate on the data into a single unit, known as a class, and restricting direct access to some of the object's components.\"\"\"\n",
        "class Student:\n",
        "    def __init__(self, name, age, std):\n",
        "        self.__name=name    #private\n",
        "        self._age=age       #protected\n",
        "        self.std=std        #public\n",
        "    def display(self):\n",
        "        print(f\"{self.__name}, {self._age} years old is studying in standard {self.std}\")\n",
        "stud=Student(\"Ankita\", 16, \"Tenth\")\n",
        "stud.display()"
      ],
      "metadata": {
        "colab": {
          "base_uri": "https://localhost:8080/"
        },
        "id": "qQChmFOSMYjN",
        "outputId": "74b7af02-3998-4e88-91bc-5021c131114e"
      },
      "execution_count": null,
      "outputs": [
        {
          "output_type": "stream",
          "name": "stdout",
          "text": [
            "Ankita, 16 years old is studying in standard Tenth\n"
          ]
        }
      ]
    },
    {
      "cell_type": "code",
      "source": [
        "#What is polymorphism? Explain it with an example.\n",
        "\"\"\"Polymorphism means \"many shapes\".It is the ability of different objects to respond in its own way to the method call.\n",
        "Polymorphism lets us treat objects of different classes that have a common\n",
        "interface as if they were objects of a common superclass.\"\"\"\n",
        "\n",
        "class Animal:\n",
        "    def speaks(self):\n",
        "        print(\"Animal speaks\")\n",
        "class Dog(Animal):\n",
        "    def speaks(self):\n",
        "        print(\"Dog barks\")\n",
        "class Cat(Animal):\n",
        "    def speaks(self):\n",
        "        print(\"Cat meows\")\n",
        "def animalspeak(animal):\n",
        "    animal.speaks()\n",
        "\n",
        "d=Dog()\n",
        "c=Cat()\n",
        "animalspeak(d)\n",
        "animalspeak(c)"
      ],
      "metadata": {
        "colab": {
          "base_uri": "https://localhost:8080/"
        },
        "id": "qQYVp466NAsX",
        "outputId": "dbd972f4-39e1-4a51-8134-b8d11fdc64a6"
      },
      "execution_count": null,
      "outputs": [
        {
          "output_type": "stream",
          "name": "stdout",
          "text": [
            "Dog barks\n",
            "Cat meows\n"
          ]
        }
      ]
    },
    {
      "cell_type": "markdown",
      "source": [
        "Question 1. 2. Which of the following identifier names are invalid and why?\n",
        "a) Serial_no.\n",
        "b) 1st_Room\n",
        "c) Hundred$\n",
        "d) Total_Marks\n",
        "e) total-Marks\n",
        "f) Total Marks\n",
        "g) True\n",
        "h) _Percentag"
      ],
      "metadata": {
        "id": "5O9z3CUqOJy9"
      }
    },
    {
      "cell_type": "code",
      "source": [
        "\"\"\"Invalid identifiers are as bellow:\n",
        "a)Serial_no.: Due to .\n",
        "b)1st_Room: identifier name cannot start with number\n",
        "c)Hundred$: $ special symbols are not allowed\n",
        "e)total-Marks: - is not allowed\n",
        "f)Total Marks: space is not allowed\n",
        "g) True: true is a Python keyword\"\"\"\n"
      ],
      "metadata": {
        "colab": {
          "base_uri": "https://localhost:8080/",
          "height": 52
        },
        "id": "tH3bqb5jN78u",
        "outputId": "0e27c784-2d2f-4323-bf4b-2874affad605"
      },
      "execution_count": null,
      "outputs": [
        {
          "output_type": "execute_result",
          "data": {
            "text/plain": [
              "'Invalid identifiers are as bellow:\\na)Serial_no.: Due to .\\nb)1st_Room: identifier name cannot start with number\\nc)Hundred$: $ special symbols are not allowed\\ne)total-Marks: - is not allowed\\nf)Total Marks: space is not allowed\\ng) True: true is a Python keyword'"
            ],
            "application/vnd.google.colaboratory.intrinsic+json": {
              "type": "string"
            }
          },
          "metadata": {},
          "execution_count": 63
        }
      ]
    },
    {
      "cell_type": "markdown",
      "source": [
        "Question 1.3.\n",
        "name = [\"Mohan\", \"dash\", \"karam\", \"chandra\",\"gandhi\",\"Bapu\"]\n",
        "Do the following operations in this list;"
      ],
      "metadata": {
        "id": "InFpTxhbPq9D"
      }
    },
    {
      "cell_type": "code",
      "source": [
        "#a) add an element \"freedom_fighter\" in this list at the 0th index.\n",
        "name = [\"Mohan\", \"dash\", \"karam\", \"chandra\",\"gandhi\",\"Bapu\"]\n",
        "name.insert(0,\"freedom_fighter\")\n",
        "print(name)"
      ],
      "metadata": {
        "colab": {
          "base_uri": "https://localhost:8080/"
        },
        "id": "RHv2ddzPOUHL",
        "outputId": "b3b2e417-d0ae-46d1-bc2d-724d622ccffe"
      },
      "execution_count": null,
      "outputs": [
        {
          "output_type": "stream",
          "name": "stdout",
          "text": [
            "['freedom_fighter', 'Mohan', 'dash', 'karam', 'chandra', 'gandhi', 'Bapu']\n"
          ]
        }
      ]
    },
    {
      "cell_type": "code",
      "source": [
        "#b) find the output of the following ,and explain how?\n",
        "name = [\"freedom_fighter\",\"Bapuji\",\"Mohan\",\"dash\", \"karam\",\"chandra\",\"gandhi\"]\n",
        "length1=len((name[-len(name)+1:-1:2]))\n",
        "\"\"\"len(name)=7, then list comprehension name[-7+1:-1:2] i.e. name[-6:-1:2] which means from -6 to -1th\n",
        "element evry 2nd element is chosen and then finding its length which is equal to 3\"\"\"\n",
        "length2=len((name[-len(name)+1:-1]))\n",
        "\"\"\"len(name)=7, then list comprehension name[-7+1:-1] i.e. name[-6:-1] which means from -6 to -1th\n",
        "every element is chosen and then finding its length which is equal to 5\"\"\"\n",
        "print(length1+length2) #3+5=8 output"
      ],
      "metadata": {
        "colab": {
          "base_uri": "https://localhost:8080/"
        },
        "id": "J3ZIfeCMP4rN",
        "outputId": "be186a5a-9e41-4ece-be63-f3bf71dd569f"
      },
      "execution_count": null,
      "outputs": [
        {
          "output_type": "stream",
          "name": "stdout",
          "text": [
            "8\n"
          ]
        }
      ]
    },
    {
      "cell_type": "code",
      "source": [
        "#c) add two more elements in the name [\"NetaJi\",\"Bose\"] at the end of the list.\n",
        "name.extend([\"NetaJi\",\"Bose\"])\n",
        "print(name)"
      ],
      "metadata": {
        "colab": {
          "base_uri": "https://localhost:8080/"
        },
        "id": "Ut8AuqSOSVwb",
        "outputId": "37334935-3696-46f5-d77c-0e58206ea232"
      },
      "execution_count": null,
      "outputs": [
        {
          "output_type": "stream",
          "name": "stdout",
          "text": [
            "['freedom_fighter', 'Bapuji', 'Mohan', 'dash', 'karam', 'chandra', 'gandhi', 'NetaJi', 'Bose']\n"
          ]
        }
      ]
    },
    {
      "cell_type": "code",
      "source": [
        "#d) what will be the value of temp:\n",
        "name = [\"Bapuji\", \"dash\", \"karam\", \"chandra\",\"gandhi\",\"Mohan\"]\n",
        "temp=name[-1] #temp is \"Mohan\"\n",
        "name[-1]=name[0] #\"Mohan\" is \"Bapuji\"\n",
        "name[0]=temp #\"Bapuji\" is \"Mohan\"\n",
        "print(name) #Output: [\"Mohan\", \"dash\", \"karam\", \"chandra\",\"gandhi\",\"Bapuji\"]"
      ],
      "metadata": {
        "colab": {
          "base_uri": "https://localhost:8080/"
        },
        "id": "-f3uB_d8SjZG",
        "outputId": "d9fb8f55-8600-4d39-854f-0d062fa35ba1"
      },
      "execution_count": null,
      "outputs": [
        {
          "output_type": "stream",
          "name": "stdout",
          "text": [
            "['Mohan', 'dash', 'karam', 'chandra', 'gandhi', 'Bapuji']\n"
          ]
        }
      ]
    },
    {
      "cell_type": "code",
      "source": [
        "#Question 1.4.Find the output of the following.\n",
        "animal = ['Human','cat','mat','cat','rat','Human', 'Lion']\n",
        "print(animal.count('Human')) #Human is presnt 2 times\n",
        "print(animal.index('rat')) #rat is at 4th index\n",
        "print(len(animal)) #length of list is 7"
      ],
      "metadata": {
        "colab": {
          "base_uri": "https://localhost:8080/"
        },
        "id": "WFyG1oSTTPNd",
        "outputId": "efefa357-ad4c-43cf-f570-a39c341e4a9b"
      },
      "execution_count": null,
      "outputs": [
        {
          "output_type": "stream",
          "name": "stdout",
          "text": [
            "2\n",
            "4\n",
            "7\n"
          ]
        }
      ]
    },
    {
      "cell_type": "code",
      "source": [
        "#Question 1.5. tuple1=(10,20,\"Apple\",3.4,'a',[\"master\",\"ji\"],(\"sita\",\"geeta\",22),[{\"roll_no\":1},{\"name\":\"Navneet\"}])\n",
        "tuple1=(10,20,\"Apple\",3.4,'a',[\"master\",\"ji\"],(\"sita\",\"geeta\",22),[{\"roll_no\":1},{\"name\":\"Navneet\"}])\n",
        "print(len(tuple1)) #length of tuple is 8\n",
        "print(tuple1[-1][-1][\"name\"]) #Output: \"Navneet\", last element of tuple which is a dictionary, last element of the dictionary having index name\n",
        "#fetch the value of roll_no from this tuple.\n",
        "print(tuple1[-1][0][\"roll_no\"])\n",
        "print(tuple1[-3][1]) #Output: \"Ji\"\n",
        "#fetch the element \"22\" from this tuple\n",
        "print(tuple1[-2][-1])"
      ],
      "metadata": {
        "colab": {
          "base_uri": "https://localhost:8080/"
        },
        "id": "e25rllfCTKRc",
        "outputId": "d2c1d7ca-7ce5-4e38-8d7d-f99824009f26"
      },
      "execution_count": null,
      "outputs": [
        {
          "output_type": "stream",
          "name": "stdout",
          "text": [
            "8\n",
            "Navneet\n",
            "1\n",
            "ji\n",
            "22\n"
          ]
        }
      ]
    },
    {
      "cell_type": "code",
      "source": [
        "#1.6. Write a program to display the appropriate message as per the color of signal(RED-Stop/Yellow-Stay/Green-Go) at the road crossing.\n",
        "def signal_message(color):\n",
        "    # Define messages for each signal color\n",
        "    if color.lower() == \"red\":\n",
        "        return \"Stop\"\n",
        "    elif color.lower() == \"yellow\":\n",
        "        return \"Stay\"\n",
        "    elif color.lower() == \"green\":\n",
        "        return \"Go\"\n",
        "    else:\n",
        "        return \"Invalid signal color\"\n",
        "\n",
        "# Input color from user\n",
        "signal_color = input(\"Enter the traffic signal color (Red/Yellow/Green): \")\n",
        "\n",
        "# Display the appropriate message\n",
        "message = signal_message(signal_color)\n",
        "print(message)\n"
      ],
      "metadata": {
        "colab": {
          "base_uri": "https://localhost:8080/"
        },
        "id": "VVcogbw1VnyE",
        "outputId": "d1a78198-8f9f-43cc-a208-f0fdb8b2a236"
      },
      "execution_count": null,
      "outputs": [
        {
          "output_type": "stream",
          "name": "stdout",
          "text": [
            "Enter the traffic signal color (Red/Yellow/Green): Red\n",
            "Stop\n"
          ]
        }
      ]
    },
    {
      "cell_type": "code",
      "source": [
        "#1.7. Write a program to create a simple calculator performing only four basic operations(+,-,/,*) .\n",
        "def calculator(num1, num2, operation):\n",
        "    if operation == '+':\n",
        "        return num1 + num2\n",
        "    elif operation == '-':\n",
        "        return num1 - num2\n",
        "    elif operation == '*':\n",
        "        return num1 * num2\n",
        "    elif operation == '/':\n",
        "        if num2 != 0:\n",
        "            return num1 / num2\n",
        "        else:\n",
        "            return \"Cannot divide by zero\"\n",
        "    else:\n",
        "        return \"Invalid operation\"\n",
        "\n",
        "print(calculator(4,5,\"+\"))\n",
        "print(calculator(10,5,\"/\"))\n",
        "print(calculator(8,5,\"-\"))\n",
        "print(calculator(2,3,\"*\"))\n",
        "print(calculator(10,0,\"/\"))"
      ],
      "metadata": {
        "colab": {
          "base_uri": "https://localhost:8080/"
        },
        "id": "3YLtxVvFWsA5",
        "outputId": "8c62633f-af4b-456e-b345-125cd7d1e1e4"
      },
      "execution_count": null,
      "outputs": [
        {
          "output_type": "stream",
          "name": "stdout",
          "text": [
            "9\n",
            "2.0\n",
            "3\n",
            "6\n",
            "Cannot divide by zero\n"
          ]
        }
      ]
    },
    {
      "cell_type": "code",
      "source": [
        "#1.8 Write a program to find the larger of the three pre-specified numbers using ternary operators.\n",
        "a = 5\n",
        "b = 10\n",
        "c = 7\n",
        "\n",
        "# Find the largest of the three numbers\n",
        "largest = a if (a > b and a > c) else (b if (b > c) else c)\n",
        "\n",
        "# Output the largest number\n",
        "print(\"The largest number is:\", largest)\n"
      ],
      "metadata": {
        "id": "Nhqu0WUUXgCx",
        "colab": {
          "base_uri": "https://localhost:8080/"
        },
        "outputId": "e9786628-3bed-4e87-8b58-d2d4dba6f9f5"
      },
      "execution_count": null,
      "outputs": [
        {
          "output_type": "stream",
          "name": "stdout",
          "text": [
            "The largest number is: 10\n"
          ]
        }
      ]
    },
    {
      "cell_type": "code",
      "source": [
        "#1.9 Write a program to find the factors of a whole number using a while loop.\n",
        "num = int(input(\"Enter a number: \"))\n",
        "\n",
        "print(\"Factors of\", num, \"are:\")\n",
        "i = 1\n",
        "while i <= num:\n",
        "    if num % i == 0:\n",
        "        print(i)\n",
        "    i += 1"
      ],
      "metadata": {
        "colab": {
          "base_uri": "https://localhost:8080/"
        },
        "id": "gZO5jrlhz8_S",
        "outputId": "f439eadb-2b7d-4791-c52a-1e27124e4a56"
      },
      "execution_count": null,
      "outputs": [
        {
          "output_type": "stream",
          "name": "stdout",
          "text": [
            "Enter a number: 40\n",
            "Factors of 40 are:\n",
            "1\n",
            "2\n",
            "4\n",
            "5\n",
            "8\n",
            "10\n",
            "20\n",
            "40\n"
          ]
        }
      ]
    },
    {
      "cell_type": "code",
      "source": [
        "# 1.10. Write a program to find the sum of all the positive numbers entered by the user. As soon as the user enters a negative number, stop taking in any further input from the user and display the sum .\n",
        "sum = 0\n",
        "while True:\n",
        "    num = int(input(\"Enter a positive number (enter a negative number to stop): \"))\n",
        "    if num < 0:\n",
        "        break\n",
        "    sum += num\n",
        "print(\"The sum of all positive numbers entered is:\", sum)"
      ],
      "metadata": {
        "colab": {
          "base_uri": "https://localhost:8080/"
        },
        "id": "nOSmjx-L0LDQ",
        "outputId": "ce51085a-8a82-405e-e9cd-1bf65a42bee4"
      },
      "execution_count": null,
      "outputs": [
        {
          "output_type": "stream",
          "name": "stdout",
          "text": [
            "Enter a positive number (enter a negative number to stop): 4\n",
            "Enter a positive number (enter a negative number to stop): 5\n",
            "Enter a positive number (enter a negative number to stop): 7\n",
            "Enter a positive number (enter a negative number to stop): 3\n",
            "Enter a positive number (enter a negative number to stop): -2\n",
            "The sum of all positive numbers entered is: 19\n"
          ]
        }
      ]
    },
    {
      "cell_type": "code",
      "source": [
        "#1.11. Write a program to find prime numbers between 2 to 100 using nested for loops.\n",
        "print(\"Prime numbers between 2 and 100 are:\")\n",
        "lst_prime=[]\n",
        "for num in range(2, 101):\n",
        "    for i in range(2, num):\n",
        "        if num % i == 0:\n",
        "            break\n",
        "    else:\n",
        "        lst_prime.append(num)\n",
        "print(lst_prime)"
      ],
      "metadata": {
        "colab": {
          "base_uri": "https://localhost:8080/"
        },
        "id": "sykW25qU0qkS",
        "outputId": "81f30c2f-5ffc-400a-ad9b-62a1718360ac"
      },
      "execution_count": null,
      "outputs": [
        {
          "output_type": "stream",
          "name": "stdout",
          "text": [
            "Prime numbers between 2 and 100 are:\n",
            "[2, 3, 5, 7, 11, 13, 17, 19, 23, 29, 31, 37, 41, 43, 47, 53, 59, 61, 67, 71, 73, 79, 83, 89, 97]\n"
          ]
        }
      ]
    },
    {
      "cell_type": "markdown",
      "source": [
        "1.12. Write the programs for the followingp\n",
        "Accept the marks of the student in five major subjects and display the same?\n",
        "Calculate the sum of the marks of all subjects.Divide the total marks by number of subjects (i.e. 5), calculate\n",
        "percentage = total marks/5 and display the percentage?\n",
        "Find the grade of the student as per the following criteria . Hint: Use Match & case for this.:\n",
        "![criteria.jpg](data:image/jpeg;base64,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)"
      ],
      "metadata": {
        "id": "2cE5NcB92f5Q"
      }
    },
    {
      "cell_type": "code",
      "source": [
        "marks=[]\n",
        "subjects=['English', 'Hindi', 'Maths','Science','Social Science']\n",
        "for i in range(len(subjects)):\n",
        "    marks.append(int(input(f\"Enter the marks of {subjects[i]} out of 100 : \")))\n",
        "\n",
        "sum=0\n",
        "for j in range(len(marks)):\n",
        "  sum=sum+marks[j]\n",
        "print(f\"Total marks: {sum}\")\n",
        "percentage=sum/5\n",
        "print(f\"The percentage obtained is: {percentage}%\")\n",
        "match percentage:\n",
        "  case percentage if percentage>=85:\n",
        "    print(\"Grade A\")\n",
        "  case percentage if percentage<85 and percentage>=75:\n",
        "    print(\"Grade B\")\n",
        "  case percentage if percentage<75 and percentage>=50:\n",
        "    print(\"Grade C\")\n",
        "  case percentage if percentage<50 and percentage>=30:\n",
        "    print(\"Grade D\")\n",
        "  case percentage if percentage<30:\n",
        "    print(\"Reappear\")"
      ],
      "metadata": {
        "colab": {
          "base_uri": "https://localhost:8080/"
        },
        "id": "0ViWxzqv4HbC",
        "outputId": "1d79f380-6c48-4c7b-a1a8-eb23740c10d0"
      },
      "execution_count": null,
      "outputs": [
        {
          "output_type": "stream",
          "name": "stdout",
          "text": [
            "Enter the marks of English out of 100 : 73\n",
            "Enter the marks of Hindi out of 100 : 66\n",
            "Enter the marks of Maths out of 100 : 75\n",
            "Enter the marks of Science out of 100 : 80\n",
            "Enter the marks of Social Science out of 100 : 64\n",
            "Total marks: 358\n",
            "The percentage obtained is: 71.6%\n",
            "Grade C\n"
          ]
        }
      ]
    },
    {
      "cell_type": "markdown",
      "source": [
        "1.13. Write a program for VIBGYOR Spectrum base+ on their Wavelength using.\n",
        "![vibgyor.jpg](data:image/jpeg;base64,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)Wavelength Range:"
      ],
      "metadata": {
        "id": "MR-kHz4g4nOe"
      }
    },
    {
      "cell_type": "code",
      "source": [
        "wavelength=float(input(\"Enter the wavelength of signal:\"))\n",
        "match wavelength:\n",
        "  case wavelength if wavelength>=400  and wavelength<=440:\n",
        "    print(\"violet\")\n",
        "  case wavelength if wavelength>=441  and wavelength<=460:\n",
        "    print(\"Indigo\")\n",
        "  case wavelength if wavelength>=461  and wavelength<=500:\n",
        "    print(\"Blue\")\n",
        "  case wavelength if wavelength>=501  and wavelength<=570:\n",
        "    print(\"Green\")\n",
        "  case wavelength if wavelength>=571  and wavelength<=590:\n",
        "    print(\"Yellow\")\n",
        "  case wavelength if wavelength>=591  and wavelength<=620:\n",
        "    print(\"Orange\")\n",
        "  case wavelength if wavelength>=621  and wavelength<=720:\n",
        "    print(\"Red\")\n",
        "  case wavelength if wavelength>=721 and wavelength <400:\n",
        "    print(\"Invalid\")"
      ],
      "metadata": {
        "id": "Dyz244Rw9L3x",
        "colab": {
          "base_uri": "https://localhost:8080/"
        },
        "outputId": "64290646-7155-4088-d11c-24377d0a298d"
      },
      "execution_count": null,
      "outputs": [
        {
          "output_type": "stream",
          "name": "stdout",
          "text": [
            "Enter the wavelength of signal:476\n",
            "Blue\n"
          ]
        }
      ]
    },
    {
      "cell_type": "markdown",
      "source": [
        "1.14.Consi+er the gravitational interactions between the Earth, Moon, and Sun in our solar system.\n",
        "Given:\n",
        "mass_earth = 5A972e24 # Mass of Earth in kilograms\n",
        "mass_moon = 7A347 7309e22 # Mass of Moon in kilograms\n",
        "mass_sun = 1A989e30 # Mass of Sun in kilograms\n",
        "distance_earth_sun = 1.496 e11 # Average distance between Earth and Sun in meters\n",
        "distance_moon_earth = 3.844e8 # Average distance between Moon and Earth in meters\n",
        "Tasks\n",
        "* Calculate the gravitational force between the Earth and the Sun.\n",
        "* Calculate the gravitational force between the Moon and the Earth.\n",
        "* Compare the calculated forces to determine which gravitational force is stronger.\n",
        "* Explain which celestial body (Earth or Moon) is more attracted to the other based on the comparison."
      ],
      "metadata": {
        "id": "a6kqJg4Q6w42"
      }
    },
    {
      "cell_type": "code",
      "source": [
        "mass_earth = 5.972e24 # Mass of Earth in kilograms\n",
        "mass_moon = 7.34767309e22 # Mass of Moon in kilograms\n",
        "mass_sun = 1.989e30 # Mass of Sun in kilograms\n",
        "distance_earth_sun = 1.496e11 # Average distance between Earth and Sun in meters\n",
        "distance_moon_earth = 3.844e8 # Average distance between Moon and Earth in meters\n",
        "#Calculate the gravitational force between the Earth and the Sun.\n",
        "#From the universal law of gravitation, F=G*m1*m2/r**2\n",
        "F1=(6.67408e-11)*mass_earth*mass_sun/(distance_earth_sun**2)\n",
        "print(f\"The gravitational force between the Earth and the Sun is {F1}\")\n",
        "#Calculate the gravitational force between the Moon and the Earth.\n",
        "F2=(6.67408e-11)*mass_earth*mass_moon/(distance_moon_earth**2)\n",
        "print(f\"The gravitational force between the Moon and the Earth is {F2}\")\n",
        "if F1>F2:\n",
        "  print(\"The Earth is more attracted to the Sun\")\n",
        "else:\n",
        "  print(\"The Moon is more attracted to the Earth\")"
      ],
      "metadata": {
        "colab": {
          "base_uri": "https://localhost:8080/"
        },
        "id": "VVCrZNVL6QHC",
        "outputId": "4a804cd6-0ec5-4781-c3cd-7e22deeac1b6"
      },
      "execution_count": null,
      "outputs": [
        {
          "output_type": "stream",
          "name": "stdout",
          "text": [
            "The gravitational force between the Earth and the Sun is 3.5422793159941665e+22\n",
            "The gravitational force between the Moon and the Earth is 1.9819572137137452e+20\n",
            "The Earth is more attracted to the Sun\n"
          ]
        }
      ]
    },
    {
      "cell_type": "markdown",
      "source": [
        "4. Design and implement a Python program for managing student information using object-oriented\n",
        "principles. Create a class called `Student` with encapsulated attributes for name, age, and roll number.\n",
        "Implement getter and setter methods for these attributes. Additionally, provide methods to display student\n",
        "information and update student details.\n",
        "Tasks:\n",
        ". Define the `Student` class with encapsulated attributes.\n",
        ". Implement getter and setter methods for the attributes.\n",
        ". Write methods to display student information and update details.\n",
        ". Create instances of the `Student` class and test the implemented functionality."
      ],
      "metadata": {
        "id": "00lHZBJW8nC1"
      }
    },
    {
      "cell_type": "code",
      "source": [
        "class Student:\n",
        "  def __init__(self,name,age,roll_number):\n",
        "    self.__name=name\n",
        "    self.__age=age\n",
        "    self.__roll_number=roll_number\n",
        "\n",
        "  def get_details(self):\n",
        "    print(self.__name)\n",
        "    print(self.__age)\n",
        "    print(self.__roll_number)\n",
        "\n",
        "  def set_details(self,name,age,roll_number):\n",
        "    self.__name=name\n",
        "    self.__age=age\n",
        "    self.__roll_number=roll_number\n",
        "\n",
        "stud1=Student(\"Ankita\", 16, 105)\n",
        "stud1.get_details()\n",
        "stud1.set_details(\"Ankita\", 18, 105)\n",
        "stud1.get_details()"
      ],
      "metadata": {
        "colab": {
          "base_uri": "https://localhost:8080/"
        },
        "id": "1CTdx_nK7PVL",
        "outputId": "7c915f94-1874-4c47-c0e8-1b059039a9de"
      },
      "execution_count": null,
      "outputs": [
        {
          "output_type": "stream",
          "name": "stdout",
          "text": [
            "Ankita\n",
            "16\n",
            "105\n",
            "Ankita\n",
            "18\n",
            "105\n"
          ]
        }
      ]
    },
    {
      "cell_type": "markdown",
      "source": [
        "3.Develop a Python program for managing library resources efficiently. Design a class named `LibraryBook`\n",
        "with attributes like book name, author, and availability status. Implement methods for borrowing and\n",
        "returning books while ensuring proper encapsulation of attributes.\n",
        "Tasks:\n",
        "1. Create the `LibraryBook` class with encapsulated attributes.\n",
        "2. Implement methods for borrowing and returning books.\n",
        "3. Ensure proper encapsulation to protect book details.\n",
        "4. Test the borrowing and returning functionality with simple data."
      ],
      "metadata": {
        "id": "PSWVNVx3-aMb"
      }
    },
    {
      "cell_type": "code",
      "source": [
        "class LibraryBook:\n",
        "  def __init__(self,book_name,author,availability_status=True):\n",
        "    self.__book_name=book_name\n",
        "    self.__author=author\n",
        "    self.__availability_status=True\n",
        "\n",
        "  def get_details(self):\n",
        "    print(self.__book_name)\n",
        "    print(self.__author)\n",
        "\n",
        "\n",
        "  def borrow(self):\n",
        "        if self.__availability_status:\n",
        "            self.__availability_status = False\n",
        "            print(f\"You have borrowed '{self.__book_name}' by {self.__author}.\")\n",
        "        else:\n",
        "            print(f\"Sorry, '{self.__book_name}' is currently not available.\")\n",
        "\n",
        "  def return_book(self):\n",
        "        if not self.__availability_status:\n",
        "            self.__availability_status = True\n",
        "            print(f\"Thank you for returning '{self.__book_name}' by {self.__author}.\")\n",
        "        else:\n",
        "            print(f\"'{self.__book_name}' was not borrowed.\")\n",
        "\n",
        "book1=LibraryBook(\"Learning Python\", \"Mark Lutz\")\n",
        "book2=LibraryBook(\"The Alchemist\", \"Paulo Coelho\")\n",
        "book3=LibraryBook(\"The Da Vinci Code\", \"Dan Brown\")\n",
        "book1.get_details()\n",
        "book1.borrow()\n",
        "book2.return_book()\n",
        "book1.return_book()"
      ],
      "metadata": {
        "colab": {
          "base_uri": "https://localhost:8080/"
        },
        "id": "eAI2Mr2g-PkJ",
        "outputId": "592af9ad-fd33-4cc7-9c56-dd0026dbee42"
      },
      "execution_count": null,
      "outputs": [
        {
          "output_type": "stream",
          "name": "stdout",
          "text": [
            "Learning Python\n",
            "Mark Lutz\n",
            "You have borrowed 'Learning Python' by Mark Lutz.\n",
            "'The Alchemist' was not borrowed.\n",
            "Thank you for returning 'Learning Python' by Mark Lutz.\n"
          ]
        }
      ]
    },
    {
      "cell_type": "markdown",
      "source": [
        "4.Create a simple banking system using object-oriented concepts in Python. Design classes representing different types of bank accounts such as savings and checking. Implement methods for deposit, withdraw,\n",
        "and balance inquiry. Utilize inheritance to manage different account types efficiently.\n",
        "Tasks:\n",
        "1. Define base class(es) for bank accounts with common attributes and methods.\n",
        "2. Implement subclasses for specific account types (e.g., SavingsAccount, CheckingAccount)\n",
        "3. Provide methods for deposit, withdraw, and balance inquiry in each subclass.\n",
        "4. Test the banking system by creating instances of different account types and performing transactions."
      ],
      "metadata": {
        "id": "IUPGFnrjCJFJ"
      }
    },
    {
      "cell_type": "code",
      "source": [
        "class BankAccount:\n",
        "    def __init__(self, account_number, holder_name, balance=0):\n",
        "        self.__account_number = account_number\n",
        "        self.__holder_name = holder_name\n",
        "        self.__balance = balance\n",
        "\n",
        "    def deposit(self, amount):\n",
        "        if amount > 0:\n",
        "            self.__balance += amount\n",
        "            print(f\"Deposited {amount}. New balance is {self.__balance}.\")\n",
        "        else:\n",
        "            print(\"Deposit amount must be positive.\")\n",
        "\n",
        "    def withdraw(self, amount):\n",
        "        if amount > 0:\n",
        "            if amount <= self.__balance:\n",
        "                self.__balance -= amount\n",
        "                print(f\"Withdrew {amount}. New balance is {self.__balance}.\")\n",
        "            else:\n",
        "                print(\"Insufficient funds.\")\n",
        "        else:\n",
        "            print(\"Withdrawal amount must be positive.\")\n",
        "\n",
        "    def get_balance(self):\n",
        "        return self.__balance\n",
        "\n",
        "    def account_info(self):\n",
        "        return f\"Account Number: {self.__account_number}\\nHolder Name: {self.__holder_name}\\nBalance: ${self.__balance}\"\n",
        "\n",
        "class SavingsAccount(BankAccount):\n",
        "    def __init__(self, account_number, holder_name, balance=0, interest_rate=0.02):\n",
        "        super().__init__(account_number, holder_name, balance)\n",
        "        self.__interest_rate = interest_rate\n",
        "\n",
        "    def apply_interest(self):\n",
        "        interest = self.get_balance() * self.__interest_rate\n",
        "        self.deposit(interest)\n",
        "        print(f\"Applied interest: {interest}\")\n",
        "\n",
        "    def account_info(self):\n",
        "        return super().account_info() + f\"\\nInterest Rate: {self.__interest_rate * 100}%\"\n",
        "\n",
        "class CheckingAccount(BankAccount):\n",
        "    def __init__(self, account_number, holder_name, balance=0, overdraft_limit=500):\n",
        "        super().__init__(account_number, holder_name, balance)\n",
        "        self.__overdraft_limit = overdraft_limit\n",
        "\n",
        "    def withdraw(self, amount):\n",
        "        if amount > 0:\n",
        "            if amount <= (self.get_balance() + self.__overdraft_limit):\n",
        "                self.__balance -= amount\n",
        "                print(f\"Withdrew {amount}. New balance is {self.get_balance()}.\")\n",
        "            else:\n",
        "                print(f\"Insufficient funds. Your overdraft limit is {self.__overdraft_limit}.\")\n",
        "        else:\n",
        "            print(\"Withdrawal amount must be positive.\")\n",
        "\n",
        "    def account_info(self):\n",
        "        return super().account_info() + f\"\\nOverdraft Limit: {self.__overdraft_limit}\"\n",
        "\n",
        "# Testing the Banking System\n",
        "if __name__ == \"__main__\":\n",
        "    # Create instances of SavingsAccount and CheckingAccount\n",
        "    savings = SavingsAccount(account_number=\"SA123456\", holder_name=\"Ankita\", balance=10000)\n",
        "    checking = CheckingAccount(account_number=\"CA123456\", holder_name=\"Deepak\", balance=1000, overdraft_limit=200)\n",
        "\n",
        "    # Perform transactions on SavingsAccount\n",
        "    print(\"\\nSavings Account:\")\n",
        "    print(savings.account_info())\n",
        "    savings.deposit(200)\n",
        "    savings.withdraw(150)\n",
        "    savings.apply_interest()\n",
        "    print(savings.account_info())\n",
        "\n",
        "    # Perform transactions on CheckingAccount\n",
        "    print(\"\\nChecking Account:\")\n",
        "    print(checking.account_info())\n",
        "    checking.withdraw(1300)  # Should exceed overdraft limit\n",
        "\n"
      ],
      "metadata": {
        "colab": {
          "base_uri": "https://localhost:8080/"
        },
        "id": "wrA7osGaFbq1",
        "outputId": "611ad6fd-a2dd-4e31-c05b-56a32634b741"
      },
      "execution_count": null,
      "outputs": [
        {
          "output_type": "stream",
          "name": "stdout",
          "text": [
            "\n",
            "Savings Account:\n",
            "Account Number: SA123456\n",
            "Holder Name: Ankita\n",
            "Balance: $10000\n",
            "Interest Rate: 2.0%\n",
            "Deposited 200. New balance is 10200.\n",
            "Withdrew 150. New balance is 10050.\n",
            "Deposited 201.0. New balance is 10251.0.\n",
            "Applied interest: 201.0\n",
            "Account Number: SA123456\n",
            "Holder Name: Ankita\n",
            "Balance: $10251.0\n",
            "Interest Rate: 2.0%\n",
            "\n",
            "Checking Account:\n",
            "Account Number: CA123456\n",
            "Holder Name: Deepak\n",
            "Balance: $1000\n",
            "Overdraft Limit: 200\n",
            "Insufficient funds. Your overdraft limit is 200.\n"
          ]
        }
      ]
    },
    {
      "cell_type": "markdown",
      "source": [
        "5.Write a Python program that models different animals and their sounds. Design a base class called\n",
        "`Animal` with a method `make_sound()`. Create subclasses like `Dog` and `Cat` that override the\n",
        "`make_sound()` method to produce appropriate sounds.\n",
        "Tasks:\n",
        "1. Define the `Animal` class with a method `make_sound()`.\n",
        "2. Create subclasses `Dog` and `Cat` that override the `make_sound()` method.\n",
        "3. Implement the sound generation logic for each subclass.\n",
        "4. Test the program by creating instances of `Dog` and `Cat` and calling the `make_sound()` method."
      ],
      "metadata": {
        "id": "thn1S1YVH7fw"
      }
    },
    {
      "cell_type": "code",
      "source": [
        "class Animal:\n",
        "  def make_sound(self):\n",
        "    print(\"Animal makes a sound\")\n",
        "\n",
        "class Dog(Animal):\n",
        "  def make_sound(self):\n",
        "    print(\"Dog barks\")\n",
        "\n",
        "class Cat(Animal):\n",
        "  def make_sound(self):\n",
        "    print(\"Cat meows\")\n",
        "\n",
        "dog=Dog()\n",
        "dog.make_sound()\n",
        "cat=Cat()\n",
        "cat.make_sound()"
      ],
      "metadata": {
        "id": "fk78_GhDGaaA",
        "colab": {
          "base_uri": "https://localhost:8080/"
        },
        "outputId": "86ff7a46-adac-4dff-b7c1-b926ac31b116"
      },
      "execution_count": null,
      "outputs": [
        {
          "output_type": "stream",
          "name": "stdout",
          "text": [
            "Dog barks\n",
            "Cat meows\n"
          ]
        }
      ]
    },
    {
      "cell_type": "markdown",
      "source": [
        "6.Write a code for Restaurant Management System Using OOPS/\n",
        "+ Create a MenuItem class that has attributes such as name, description, price, and category.\n",
        "+ Implement methods to add a new menu item, update menu item information, and remove a menu item from the menu\n",
        "+ Use encapsulation to hide the menu item's unique identification number.\n",
        "+ Inherit from the MenuItem class to create a FoodItem class and a BeverageItem class, each with their own specific attributes and methods."
      ],
      "metadata": {
        "id": "dAvSbLUV05Up"
      }
    },
    {
      "cell_type": "code",
      "source": [
        "import itertools\n",
        "\n",
        "class MenuItem:\n",
        "    _id_counter = itertools.count(1)\n",
        "\n",
        "    def __init__(self, name, description, price, category):\n",
        "        self._id = next(MenuItem._id_counter)\n",
        "        self.name = name\n",
        "        self.description = description\n",
        "        self.price = price\n",
        "        self.category = category\n",
        "\n",
        "    @property\n",
        "    def id(self):\n",
        "        return self._id\n",
        "\n",
        "    def update_info(self, name=None, description=None, price=None, category=None):\n",
        "        if name:\n",
        "            self.name = name\n",
        "        if description:\n",
        "            self.description = description\n",
        "        if price is not None:\n",
        "            self.price = price\n",
        "        if category:\n",
        "            self.category = category\n",
        "\n",
        "    def __str__(self):\n",
        "        return f\"ID: {self._id}, Name: {self.name}, Description: {self.description}, Price: {self.price:.2f}, Category: {self.category}\"\n",
        "\n",
        "class FoodItem(MenuItem):\n",
        "    def __init__(self, name, description, price, category, cuisine_type):\n",
        "        super().__init__(name, description, price, category)\n",
        "        self.cuisine_type = cuisine_type\n",
        "\n",
        "    def update_info(self, name=None, description=None, price=None, category=None, cuisine_type=None):\n",
        "        super().update_info(name, description, price, category)\n",
        "        if cuisine_type:\n",
        "            self.cuisine_type = cuisine_type\n",
        "\n",
        "    def __str__(self):\n",
        "        return f\"{super().__str__()}, Cuisine Type: {self.cuisine_type}\"\n",
        "\n",
        "class BeverageItem(MenuItem):\n",
        "    def __init__(self, name, description, price, category, volume):\n",
        "        super().__init__(name, description, price, category)\n",
        "        self.volume = volume\n",
        "\n",
        "    def update_info(self, name=None, description=None, price=None, category=None, volume=None):\n",
        "        super().update_info(name, description, price, category)\n",
        "        if volume is not None:\n",
        "            self.volume = volume\n",
        "\n",
        "    def __str__(self):\n",
        "        return f\"{super().__str__()}, Volume: {self.volume}ml\"\n",
        "\n",
        "class Menu:\n",
        "    def __init__(self):\n",
        "        self.items = {}\n",
        "\n",
        "    def add_item(self, item):\n",
        "        if item.id in self.items:\n",
        "            print(\"Item with this ID already exists.\")\n",
        "        else:\n",
        "            self.items[item.id] = item\n",
        "            print(f\"Item '{item.name}' added to the menu.\")\n",
        "\n",
        "    def remove_item(self, item_id):\n",
        "        if item_id in self.items:\n",
        "            removed_item = self.items.pop(item_id)\n",
        "            print(f\"Item '{removed_item.name}' removed from the menu.\")\n",
        "        else:\n",
        "            print(\"Item not found.\")\n",
        "\n",
        "    def update_item(self, item_id, **kwargs):\n",
        "        if item_id in self.items:\n",
        "            self.items[item_id].update_info(**kwargs)\n",
        "            print(f\"Item '{self.items[item_id].name}' updated.\")\n",
        "        else:\n",
        "            print(\"Item not found.\")\n",
        "\n",
        "    def display_menu(self):\n",
        "        for item in self.items.values():\n",
        "            print(item)\n",
        "\n",
        "# Example usage:\n",
        "menu = Menu()\n",
        "\n",
        "# Adding items\n",
        "pizza = FoodItem(name=\"Margherita Pizza\", description=\"Classic pizza with tomato and cheese\", price=299, category=\"Main Course\", cuisine_type=\"Italian\")\n",
        "coffee = BeverageItem(name=\"Espresso\", description=\"Strong coffee\", price=80, category=\"Beverage\", volume=30)\n",
        "\n",
        "menu.add_item(pizza)\n",
        "menu.add_item(coffee)\n",
        "\n",
        "# Display menu\n",
        "print(\"\\nMenu:\")\n",
        "menu.display_menu()\n",
        "\n",
        "# Updating an item\n",
        "menu.update_item(pizza.id, price=349, cuisine_type=\"Mediterranean\")\n",
        "\n",
        "# Display menu again\n",
        "print(\"\\nUpdated Menu:\")\n",
        "menu.display_menu()\n",
        "\n",
        "# Removing an item\n",
        "menu.remove_item(coffee.id)\n",
        "\n",
        "# Display menu again\n",
        "print(\"\\nFinal Menu:\")\n",
        "menu.display_menu()\n"
      ],
      "metadata": {
        "colab": {
          "base_uri": "https://localhost:8080/"
        },
        "id": "UCGdG-S7H9FV",
        "outputId": "82fa79dd-2201-4b55-ef2b-6285289a2966"
      },
      "execution_count": null,
      "outputs": [
        {
          "output_type": "stream",
          "name": "stdout",
          "text": [
            "Item 'Margherita Pizza' added to the menu.\n",
            "Item 'Espresso' added to the menu.\n",
            "\n",
            "Menu:\n",
            "ID: 1, Name: Margherita Pizza, Description: Classic pizza with tomato and cheese, Price: 299.00, Category: Main Course, Cuisine Type: Italian\n",
            "ID: 2, Name: Espresso, Description: Strong coffee, Price: 80.00, Category: Beverage, Volume: 30ml\n",
            "Item 'Margherita Pizza' updated.\n",
            "\n",
            "Updated Menu:\n",
            "ID: 1, Name: Margherita Pizza, Description: Classic pizza with tomato and cheese, Price: 349.00, Category: Main Course, Cuisine Type: Mediterranean\n",
            "ID: 2, Name: Espresso, Description: Strong coffee, Price: 80.00, Category: Beverage, Volume: 30ml\n",
            "Item 'Espresso' removed from the menu.\n",
            "\n",
            "Final Menu:\n",
            "ID: 1, Name: Margherita Pizza, Description: Classic pizza with tomato and cheese, Price: 349.00, Category: Main Course, Cuisine Type: Mediterranean\n"
          ]
        }
      ]
    },
    {
      "cell_type": "markdown",
      "source": [
        "7.Write a code for Hotel Management System using OOPS /\n",
        "+ Create a Room class that has attributes such as room number, room type, rate, and availability (private)\n",
        "+ Implement methods to book a room, check in a guest, and check out a guest\n",
        "+ Use encapsulation to hide the room's unique identification number\n",
        "+ Inherit from the Room class to create a SuiteRoom class and a StandardRoom class, each with their own specific attributes and methods."
      ],
      "metadata": {
        "id": "ht5YNDDqKCHk"
      }
    },
    {
      "cell_type": "code",
      "source": [
        "import itertools\n",
        "\n",
        "class Room:\n",
        "    _id_counter = itertools.count(1)\n",
        "\n",
        "    def __init__(self, room_number, room_type, rate):\n",
        "        self._id = next(Room._id_counter)  # Unique ID for each room\n",
        "        self.room_number = room_number\n",
        "        self.room_type = room_type\n",
        "        self.rate = rate\n",
        "        self._availability = True  # Room is available by default\n",
        "        self.current_guest = None\n",
        "\n",
        "    @property\n",
        "    def id(self):\n",
        "        return self._id\n",
        "\n",
        "    @property\n",
        "    def availability(self):\n",
        "        return self._availability\n",
        "\n",
        "    def book_room(self):\n",
        "        if self._availability:\n",
        "            self._availability = False\n",
        "            print(f\"Room {self.room_number} booked.\")\n",
        "        else:\n",
        "            print(f\"Room {self.room_number} is already booked.\")\n",
        "\n",
        "    def check_in(self, guest_name):\n",
        "        if not self._availability:\n",
        "            self.current_guest = guest_name\n",
        "            print(f\"Guest {guest_name} checked into room {self.room_number}.\")\n",
        "        else:\n",
        "            print(f\"Room {self.room_number} is available. Cannot check in.\")\n",
        "\n",
        "    def check_out(self):\n",
        "        if not self._availability and self.current_guest:\n",
        "            print(f\"Guest {self.current_guest} checked out of room {self.room_number}.\")\n",
        "            self.current_guest = None\n",
        "            self._availability = True\n",
        "        else:\n",
        "            print(f\"Room {self.room_number} is already available or no guest to check out.\")\n",
        "\n",
        "    def __str__(self):\n",
        "        availability_status = \"Available\" if self._availability else \"Occupied\"\n",
        "        return f\"Room {self.room_number} ({self.room_type}) - Rate:Rs {self.rate:.2f}, Status: {availability_status}\"\n",
        "\n",
        "\n",
        "class SuiteRoom(Room):\n",
        "    def __init__(self, room_number, rate, amenities):\n",
        "        super().__init__(room_number, \"Suite\", rate)\n",
        "        self.amenities = amenities\n",
        "\n",
        "    def __str__(self):\n",
        "        return f\"{super().__str__()}, Amenities: {', '.join(self.amenities)}\"\n",
        "\n",
        "\n",
        "class StandardRoom(Room):\n",
        "    def __init__(self, room_number, rate, bed_type):\n",
        "        super().__init__(room_number, \"Standard\", rate)\n",
        "        self.bed_type = bed_type\n",
        "\n",
        "    def __str__(self):\n",
        "        return f\"{super().__str__()}, Bed Type: {self.bed_type}\"\n",
        "\n",
        "\n",
        "class Hotel:\n",
        "    def __init__(self):\n",
        "        self.rooms = {}\n",
        "\n",
        "    def add_room(self, room):\n",
        "        if room.id in self.rooms:\n",
        "            print(\"Room with this ID already exists.\")\n",
        "        else:\n",
        "            self.rooms[room.id] = room\n",
        "            print(f\"Room {room.room_number} added to the hotel.\")\n",
        "\n",
        "    def book_room(self, room_id):\n",
        "        if room_id in self.rooms:\n",
        "            self.rooms[room_id].book_room()\n",
        "        else:\n",
        "            print(\"Room not found.\")\n",
        "\n",
        "    def check_in(self, room_id, guest_name):\n",
        "        if room_id in self.rooms:\n",
        "            self.rooms[room_id].check_in(guest_name)\n",
        "        else:\n",
        "            print(\"Room not found.\")\n",
        "\n",
        "    def check_out(self, room_id):\n",
        "        if room_id in self.rooms:\n",
        "            self.rooms[room_id].check_out()\n",
        "        else:\n",
        "            print(\"Room not found.\")\n",
        "\n",
        "    def display_rooms(self):\n",
        "        for room in self.rooms.values():\n",
        "            print(room)\n",
        "\n",
        "\n",
        "# Example usage:\n",
        "hotel = Hotel()\n",
        "\n",
        "# Adding rooms\n",
        "suite = SuiteRoom(room_number=101, rate=4500.00, amenities=[\"Jacuzzi\", \"King-sized bed\", \"Ocean view\"])\n",
        "standard = StandardRoom(room_number=102, rate=2500.00, bed_type=\"Queen-sized\")\n",
        "\n",
        "hotel.add_room(suite)\n",
        "hotel.add_room(standard)\n",
        "\n",
        "# Display rooms\n",
        "print(\"\\nAvailable Rooms:\")\n",
        "hotel.display_rooms()\n",
        "\n",
        "# Booking and checking in\n",
        "hotel.book_room(suite.id)\n",
        "hotel.check_in(suite.id, \"Deepak Roy\")\n",
        "\n",
        "# Display rooms again\n",
        "print(\"\\nRooms after check-in:\")\n",
        "hotel.display_rooms()\n",
        "\n",
        "# Checking out\n",
        "hotel.check_out(suite.id)\n",
        "\n",
        "# Display rooms after checkout\n",
        "print(\"\\nRooms after checkout:\")\n",
        "hotel.display_rooms()\n"
      ],
      "metadata": {
        "colab": {
          "base_uri": "https://localhost:8080/"
        },
        "id": "sxQUlU-3RG43",
        "outputId": "3ea84649-e542-4e51-cd76-b7be821ef166"
      },
      "execution_count": null,
      "outputs": [
        {
          "output_type": "stream",
          "name": "stdout",
          "text": [
            "Room 101 added to the hotel.\n",
            "Room 102 added to the hotel.\n",
            "\n",
            "Available Rooms:\n",
            "Room 101 (Suite) - Rate: 4500.00, Status: Available, Amenities: Jacuzzi, King-sized bed, Ocean view\n",
            "Room 102 (Standard) - Rate: 2500.00, Status: Available, Bed Type: Queen-sized\n",
            "Room 101 booked.\n",
            "Guest Deepak Roy checked into room 101.\n",
            "\n",
            "Rooms after check-in:\n",
            "Room 101 (Suite) - Rate: 4500.00, Status: Occupied, Amenities: Jacuzzi, King-sized bed, Ocean view\n",
            "Room 102 (Standard) - Rate: 2500.00, Status: Available, Bed Type: Queen-sized\n",
            "Guest Deepak Roy checked out of room 101.\n",
            "\n",
            "Rooms after checkout:\n",
            "Room 101 (Suite) - Rate: 4500.00, Status: Available, Amenities: Jacuzzi, King-sized bed, Ocean view\n",
            "Room 102 (Standard) - Rate: 2500.00, Status: Available, Bed Type: Queen-sized\n"
          ]
        }
      ]
    },
    {
      "cell_type": "markdown",
      "source": [
        "8.Write a code for Fitness Club Management System using OOPS/\n",
        "+ Create a Member class that has attributes such as name, age, membership type, and membership status(private)\n",
        "+ Implement methods to register a new member, renew a membership, and cancel a membership.\n",
        "+ Use encapsulation to hide the member's unique identification number\n",
        "+ Inherit from the Member class to create a FamilyMember class and an IndividualMember class, each with their own specific attributes and methods."
      ],
      "metadata": {
        "id": "HfjnyU5rLXJR"
      }
    },
    {
      "cell_type": "code",
      "source": [
        "class Member:\n",
        "    def __init__(self, name, age, membership_type):\n",
        "        self.name = name\n",
        "        self.age = age\n",
        "        self.membership_type = membership_type\n",
        "        self.__membership_status = 'Active'  # Private attribute for membership status\n",
        "        self.__unique_id = id(self)  # Private unique ID for each member\n",
        "\n",
        "    def register_member(self):\n",
        "        print(f\"Member '{self.name}' registered with ID {self.__unique_id}.\")\n",
        "\n",
        "    def renew_membership(self):\n",
        "        if self.__membership_status == 'Inactive':\n",
        "            self.__membership_status = 'Active'\n",
        "            print(f\"Membership for '{self.name}' has been renewed.\")\n",
        "        else:\n",
        "            print(f\"Membership for '{self.name}' is already active.\")\n",
        "\n",
        "    def cancel_membership(self):\n",
        "        if self.__membership_status == 'Active':\n",
        "            self.__membership_status = 'Inactive'\n",
        "            print(f\"Membership for '{self.name}' has been canceled.\")\n",
        "        else:\n",
        "            print(f\"Membership for '{self.name}' is already inactive.\")\n",
        "\n",
        "    def get_status(self):\n",
        "        return self.__membership_status\n",
        "\n",
        "    def get_unique_id(self):\n",
        "        return self.__unique_id\n",
        "\n",
        "class FamilyMember(Member):\n",
        "    def __init__(self, name, age, membership_type, family_size):\n",
        "        super().__init__(name, age, membership_type)\n",
        "        self.family_size = family_size\n",
        "\n",
        "    def add_family_member(self):\n",
        "        self.family_size += 1\n",
        "        print(f\"Family size updated to {self.family_size} for '{self.name}'.\")\n",
        "\n",
        "    def remove_family_member(self):\n",
        "        if self.family_size > 1:\n",
        "            self.family_size -= 1\n",
        "            print(f\"Family size updated to {self.family_size} for '{self.name}'.\")\n",
        "        else:\n",
        "            print(f\"Cannot remove family member. Only one member left in the family.\")\n",
        "\n",
        "class IndividualMember(Member):\n",
        "    def __init__(self, name, age, membership_type, personal_training_required=False):\n",
        "        super().__init__(name, age, membership_type)\n",
        "        self.personal_training_required = personal_training_required\n",
        "\n",
        "    def request_personal_training(self):\n",
        "        if self.personal_training_required:\n",
        "            print(f\"Personal training requested for '{self.name}'.\")\n",
        "        else:\n",
        "            print(f\"Personal training is not requested by '{self.name}'.\")\n",
        "\n",
        "# Example usage:\n",
        "\n",
        "# Register a family member\n",
        "family_member = FamilyMember(name=\"Deepak\", age=35, membership_type=\"Full time\", family_size=2)\n",
        "family_member.register_member()\n",
        "family_member.add_family_member()\n",
        "family_member.remove_family_member()\n",
        "family_member.cancel_membership()\n",
        "print(f\"Membership status: {family_member.get_status()}\")\n",
        "print(f\"Unique ID: {family_member.get_unique_id()}\")\n",
        "\n",
        "# Register an individual member\n",
        "individual_member = IndividualMember(name=\"Harsh\", age=25, membership_type=\"Part time\", personal_training_required=True)\n",
        "individual_member.register_member()\n",
        "individual_member.request_personal_training()\n",
        "individual_member.renew_membership()\n",
        "print(f\"Membership status: {individual_member.get_status()}\")\n",
        "print(f\"Unique ID: {individual_member.get_unique_id()}\")\n"
      ],
      "metadata": {
        "colab": {
          "base_uri": "https://localhost:8080/"
        },
        "id": "TxrETyf0WSIK",
        "outputId": "04494fd9-4062-4355-c007-4ba4caa7b341"
      },
      "execution_count": null,
      "outputs": [
        {
          "output_type": "stream",
          "name": "stdout",
          "text": [
            "Member 'Deepak' registered with ID 132277477011328.\n",
            "Family size updated to 3 for 'Deepak'.\n",
            "Family size updated to 2 for 'Deepak'.\n",
            "Membership for 'Deepak' has been canceled.\n",
            "Membership status: Inactive\n",
            "Unique ID: 132277477011328\n",
            "Member 'Harsh' registered with ID 132277477011424.\n",
            "Personal training requested for 'Harsh'.\n",
            "Membership for 'Harsh' is already active.\n",
            "Membership status: Active\n",
            "Unique ID: 132277477011424\n"
          ]
        }
      ]
    },
    {
      "cell_type": "markdown",
      "source": [
        "9.Write a code for Event Manage6ent System using OOPS/\n",
        "+ Create an Event class that has attributes such as name, date, time, location, and list of attendees (private)\n",
        "+ Implement methods to create a new event, add or remove attendees, and get the total number of\n",
        "attendees.\n",
        "+ Use encapsulation to hide the event's unique identification number\n",
        "+ Inherit from the Event class to create a PrivateEvent class and a PublicEvent class, each with their own specific attributes and methods."
      ],
      "metadata": {
        "id": "3zuUCr4DX_eJ"
      }
    },
    {
      "cell_type": "code",
      "source": [
        "class Event:\n",
        "    def __init__(self, name, date, time, location):\n",
        "        self.name = name\n",
        "        self.date = date\n",
        "        self.time = time\n",
        "        self.location = location\n",
        "        self.__attendees = []  # Private list of attendees\n",
        "        self.__unique_id = id(self)  # Private unique ID for each event\n",
        "\n",
        "    def create_event(self):\n",
        "        print(f\"Event '{self.name}' created with ID {self.__unique_id} on {self.date} at {self.time} in {self.location}.\")\n",
        "\n",
        "    def add_attendee(self, attendee):\n",
        "        if attendee not in self.__attendees:\n",
        "            self.__attendees.append(attendee)\n",
        "            print(f\"Attendee '{attendee}' added to event '{self.name}'.\")\n",
        "        else:\n",
        "            print(f\"Attendee '{attendee}' is already on the list for event '{self.name}'.\")\n",
        "\n",
        "    def remove_attendee(self, attendee):\n",
        "        if attendee in self.__attendees:\n",
        "            self.__attendees.remove(attendee)\n",
        "            print(f\"Attendee '{attendee}' removed from event '{self.name}'.\")\n",
        "        else:\n",
        "            print(f\"Attendee '{attendee}' was not found in the list for event '{self.name}'.\")\n",
        "\n",
        "    def get_total_attendees(self):\n",
        "        return len(self.__attendees)\n",
        "\n",
        "    def get_unique_id(self):\n",
        "        return self.__unique_id\n",
        "\n",
        "class PrivateEvent(Event):\n",
        "    def __init__(self, name, date, time, location, invite_only):\n",
        "        super().__init__(name, date, time, location)\n",
        "        self.invite_only = invite_only\n",
        "\n",
        "    def set_invite_only(self, status):\n",
        "        self.invite_only = status\n",
        "        print(f\"Invite-only status set to {self.invite_only} for private event '{self.name}'.\")\n",
        "\n",
        "class PublicEvent(Event):\n",
        "    def __init__(self, name, date, time, location, is_free_entry):\n",
        "        super().__init__(name, date, time, location)\n",
        "        self.is_free_entry = is_free_entry\n",
        "\n",
        "    def set_free_entry(self, status):\n",
        "        self.is_free_entry = status\n",
        "        print(f\"Free entry status set to {self.is_free_entry} for public event '{self.name}'.\")\n",
        "\n",
        "# Example usage:\n",
        "\n",
        "# Create a private event\n",
        "private_event = PrivateEvent(name=\"VIP Gala\", date=\"2024-08-15\", time=\"19:00\", location=\"AB Auditorium\", invite_only=True)\n",
        "private_event.create_event()\n",
        "private_event.add_attendee(\"Ankita\")\n",
        "private_event.add_attendee(\"Asmita\")\n",
        "private_event.remove_attendee(\"Asmita\")\n",
        "private_event.set_invite_only(False)\n",
        "print(f\"Total attendees for '{private_event.name}': {private_event.get_total_attendees()}\")\n",
        "print(f\"Unique ID: {private_event.get_unique_id()}\")\n",
        "\n",
        "# Create a public event\n",
        "public_event = PublicEvent(name=\"Community Fair\", date=\"2024-09-01\", time=\"10:00\", location=\"Central Park\", is_free_entry=True)\n",
        "public_event.create_event()\n",
        "public_event.add_attendee(\"Deepak\")\n",
        "public_event.add_attendee(\"Harsh\")\n",
        "public_event.add_attendee(\"Ankita\")\n",
        "public_event.add_attendee(\"Asmita\")\n",
        "public_event.remove_attendee(\"Asmita\")\n",
        "public_event.set_free_entry(False)\n",
        "print(f\"Total attendees for '{public_event.name}': {public_event.get_total_attendees()}\")\n",
        "print(f\"Unique ID: {public_event.get_unique_id()}\")\n"
      ],
      "metadata": {
        "colab": {
          "base_uri": "https://localhost:8080/"
        },
        "id": "6o0YhkgCY4Rn",
        "outputId": "5ddfa3dc-ce28-431a-b51d-96bb25259da1"
      },
      "execution_count": null,
      "outputs": [
        {
          "output_type": "stream",
          "name": "stdout",
          "text": [
            "Event 'VIP Gala' created with ID 132277529285184 on 2024-08-15 at 19:00 in AB Auditorium.\n",
            "Attendee 'Ankita' added to event 'VIP Gala'.\n",
            "Attendee 'Asmita' added to event 'VIP Gala'.\n",
            "Attendee 'Asmita' removed from event 'VIP Gala'.\n",
            "Invite-only status set to False for private event 'VIP Gala'.\n",
            "Total attendees for 'VIP Gala': 1\n",
            "Unique ID: 132277529285184\n",
            "Event 'Community Fair' created with ID 132277529285232 on 2024-09-01 at 10:00 in Central Park.\n",
            "Attendee 'Deepak' added to event 'Community Fair'.\n",
            "Attendee 'Harsh' added to event 'Community Fair'.\n",
            "Attendee 'Ankita' added to event 'Community Fair'.\n",
            "Attendee 'Asmita' added to event 'Community Fair'.\n",
            "Attendee 'Asmita' removed from event 'Community Fair'.\n",
            "Free entry status set to False for public event 'Community Fair'.\n",
            "Total attendees for 'Community Fair': 3\n",
            "Unique ID: 132277529285232\n"
          ]
        }
      ]
    },
    {
      "cell_type": "markdown",
      "source": [
        "10.Write a code for Airline Reservation System using OOPS/\n",
        "+ Create a Flight class that has attributes such as flight number, departure and arrival airports, departure and arrival times, and available seats (private)\n",
        "+ Implement methods to book a seat, cancel a reservation, and get the remaining available seats.\n",
        "+ Use encapsulation to hide the flight's unique identification number5\n",
        "+ Inherit from the Flight class to create a DomesticFlight class and an InternationalFlight class, each with their own specific attributes and methods."
      ],
      "metadata": {
        "id": "bHYzcTpJZ70q"
      }
    },
    {
      "cell_type": "code",
      "source": [
        "10.Write a c0de f0r Airline Reservati0n Syste6 using OOPS/\n",
        "+ Cr,at, a Flight class that has attribut,s such as flight numb,r, d,partur, and arrival airports, d,partur, and\n",
        "arrival tim,s, and availabl, s,ats (privat,)5\n",
        "+ Impl,m,nt m,thods to book a s,at, canc,l a r,s,rvation, and g,t th, r,maining availabl, s,ats5\n",
        "+ Us, ,ncapsulation to hid, th, flight's uniqu, id,ntification numb,r5\n",
        "+ Inh,rit from th, Flight class to cr,at, a Dom,sticFlight class and an Int,rnationalFlight class, ,ach with th,ir\n",
        "own sp,cific attribut,s and m,thods."
      ],
      "metadata": {
        "id": "GF_zXc5bZ6nC"
      },
      "execution_count": null,
      "outputs": []
    },
    {
      "cell_type": "code",
      "source": [
        "class Flight:\n",
        "    def __init__(self, flight_number, departure_airport, arrival_airport, departure_time, arrival_time, total_seats):\n",
        "        self.flight_number = flight_number\n",
        "        self.departure_airport = departure_airport\n",
        "        self.arrival_airport = arrival_airport\n",
        "        self.departure_time = departure_time\n",
        "        self.arrival_time = arrival_time\n",
        "        self.__available_seats = total_seats  # Private attribute for available seats\n",
        "        self.__unique_id = id(self)  # Private unique ID for each flight\n",
        "\n",
        "    def book_seat(self, number_of_seats):\n",
        "        if number_of_seats <= self.__available_seats:\n",
        "            self.__available_seats -= number_of_seats\n",
        "            print(f\"Successfully booked {number_of_seats} seat(s).\")\n",
        "        else:\n",
        "            print(\"No seats available.\")\n",
        "\n",
        "    def cancel_reservation(self, number_of_seats):\n",
        "        self.__available_seats += number_of_seats\n",
        "        print(f\"Successfully canceled {number_of_seats} seat(s).\")\n",
        "\n",
        "    def get_remaining_seats(self):\n",
        "        return self.__available_seats\n",
        "\n",
        "    def get_unique_id(self):\n",
        "        return self.__unique_id\n",
        "\n",
        "class DomesticFlight(Flight):\n",
        "    def __init__(self, flight_number, departure_airport, arrival_airport, departure_time, arrival_time, total_seats, state):\n",
        "        super().__init__(flight_number, departure_airport, arrival_airport, departure_time, arrival_time, total_seats)\n",
        "        self.state = state  # Additional attribute for domestic flights\n",
        "\n",
        "    def display_flight_info(self):\n",
        "        print(f\"Domestic Flight {self.flight_number} from {self.departure_airport} to {self.arrival_airport} \"\n",
        "              f\"on {self.departure_time} arriving at {self.arrival_time}.\")\n",
        "        print(f\"State: {self.state}\")\n",
        "        print(f\"Remaining Seats: {self.get_remaining_seats()}\")\n",
        "\n",
        "class InternationalFlight(Flight):\n",
        "    def __init__(self, flight_number, departure_airport, arrival_airport, departure_time, arrival_time, total_seats, country):\n",
        "        super().__init__(flight_number, departure_airport, arrival_airport, departure_time, arrival_time, total_seats)\n",
        "        self.country = country  # Additional attribute for international flights\n",
        "\n",
        "    def display_flight_info(self):\n",
        "        print(f\"International Flight {self.flight_number} from {self.departure_airport} to {self.arrival_airport} \"\n",
        "              f\"on {self.departure_time} arriving at {self.arrival_time}.\")\n",
        "        print(f\"Country: {self.country}\")\n",
        "        print(f\"Remaining Seats: {self.get_remaining_seats()}\")\n",
        "\n",
        "# Example usage:\n",
        "\n",
        "# Create a domestic flight\n",
        "domestic_flight = DomesticFlight(\n",
        "    flight_number=\"AI123\",\n",
        "    departure_airport=\"RPR\",\n",
        "    arrival_airport=\"DUM\",\n",
        "    departure_time=\"2024-08-10 08:00\",\n",
        "    arrival_time=\"2024-08-10 11:00\",\n",
        "    total_seats=150,\n",
        "    state=\"West Bengal\"\n",
        ")\n",
        "domestic_flight.display_flight_info()\n",
        "domestic_flight.book_seat(10)\n",
        "domestic_flight.cancel_reservation(5)\n",
        "print(f\"Remaining seats: {domestic_flight.get_remaining_seats()}\")\n",
        "print(f\"Unique ID: {domestic_flight.get_unique_id()}\")\n",
        "\n",
        "# Create an international flight\n",
        "international_flight = InternationalFlight(\n",
        "    flight_number=\"AI456\",\n",
        "    departure_airport=\"BOM\",\n",
        "    arrival_airport=\"MAU\",\n",
        "    departure_time=\"2024-08-15 16:00\",\n",
        "    arrival_time=\"2024-08-16 08:00\",\n",
        "    total_seats=200,\n",
        "    country=\"Mauritis\"\n",
        ")\n",
        "international_flight.display_flight_info()\n",
        "international_flight.book_seat(20)\n",
        "international_flight.cancel_reservation(10)\n",
        "print(f\"Remaining seats: {international_flight.get_remaining_seats()}\")\n",
        "print(f\"Unique ID: {international_flight.get_unique_id()}\")\n"
      ],
      "metadata": {
        "colab": {
          "base_uri": "https://localhost:8080/"
        },
        "id": "EoIpExu0a5s1",
        "outputId": "8c5ebce3-b8b9-43c3-ff0e-8cfede0078d5"
      },
      "execution_count": null,
      "outputs": [
        {
          "output_type": "stream",
          "name": "stdout",
          "text": [
            "Domestic Flight AI123 from RPR to DUM on 2024-08-10 08:00 arriving at 2024-08-10 11:00.\n",
            "State: West Bengal\n",
            "Remaining Seats: 150\n",
            "Successfully booked 10 seat(s).\n",
            "Successfully canceled 5 seat(s).\n",
            "Remaining seats: 145\n",
            "Unique ID: 132277477150432\n",
            "International Flight AI456 from BOM to MAU on 2024-08-15 16:00 arriving at 2024-08-16 08:00.\n",
            "Country: Mauritis\n",
            "Remaining Seats: 200\n",
            "Successfully booked 20 seat(s).\n",
            "Successfully canceled 10 seat(s).\n",
            "Remaining seats: 190\n",
            "Unique ID: 132277477156624\n"
          ]
        }
      ]
    },
    {
      "cell_type": "markdown",
      "source": [
        "11. Define a Python module named constants.py containing constants like pi and the speed of light."
      ],
      "metadata": {
        "id": "_pKX1gcfK2ou"
      }
    },
    {
      "cell_type": "code",
      "source": [
        "import constant_py as con\n",
        "print(con.pi)\n",
        "print(con.speed_of_light)"
      ],
      "metadata": {
        "id": "EvSe1pQjdukz",
        "colab": {
          "base_uri": "https://localhost:8080/"
        },
        "outputId": "b6e43b6a-b1b5-4181-ccfa-97aff8cc25ad"
      },
      "execution_count": null,
      "outputs": [
        {
          "output_type": "stream",
          "name": "stdout",
          "text": [
            "3.142\n",
            "3000000000.0\n"
          ]
        }
      ]
    },
    {
      "cell_type": "markdown",
      "source": [
        "12. Write a Python module named calculator.py containing functions for addition, subtraction,\n",
        "multiplication, and division."
      ],
      "metadata": {
        "id": "JU8IsaOtK6RB"
      }
    },
    {
      "cell_type": "code",
      "source": [
        "import calculator as cal\n",
        "\n",
        "# Access the function within the module\n",
        "print(cal.Calc(5, 4, \"+\"))\n",
        "print(cal.Calc(5, 4, \"-\"))\n",
        "print(cal.Calc(5, 4, \"*\"))\n",
        "print(cal.Calc(5, 4, \"/\"))"
      ],
      "metadata": {
        "colab": {
          "base_uri": "https://localhost:8080/"
        },
        "id": "AGbcuVmhM6CR",
        "outputId": "e46ff1fe-0a7b-4442-bed9-c1c7c4a53fac"
      },
      "execution_count": null,
      "outputs": [
        {
          "output_type": "stream",
          "name": "stdout",
          "text": [
            "9\n",
            "1\n",
            "20\n",
            "1.25\n"
          ]
        }
      ]
    },
    {
      "cell_type": "markdown",
      "source": [
        "13. Implement a Python package structure for a project named ecommerce, containing modules for product\n",
        "management and order processing."
      ],
      "metadata": {
        "id": "sqQNMiKtNJxU"
      }
    },
    {
      "cell_type": "code",
      "source": [
        "ecommerce/\n",
        "│\n",
        "├── ecommerce/\n",
        "│   ├── __init__.py\n",
        "│   ├── product_management/\n",
        "│   │   ├── __init__.py\n",
        "│   │   ├── product.py\n",
        "│   │   └── inventory.py\n",
        "│   ├── order_processing/\n",
        "│   │   ├── __init__.py\n",
        "│   │   ├── order.py\n",
        "│   │   └── payment.py\n",
        "│   └── utils.py\n",
        "│\n",
        "├── tests/\n",
        "│   ├── __init__.py\n",
        "│   ├── test_product_management.py\n",
        "│   └── test_order_processing.py\n",
        "│\n",
        "├── setup.py\n",
        "├── README.md\n",
        "└── requirements.txt\n"
      ],
      "metadata": {
        "id": "U8AA3kFYQ_uS"
      },
      "execution_count": null,
      "outputs": []
    },
    {
      "cell_type": "markdown",
      "source": [
        "14. Implement a Python module named string_utils.py containing functions for string manipulation, such as\n",
        "reversing and capitalizing strings."
      ],
      "metadata": {
        "id": "VIrRx7OnN-jP"
      }
    },
    {
      "cell_type": "code",
      "source": [
        "import string_utils as su\n",
        "\n",
        "print(su.string_manipulation(\"deepak\"))\n"
      ],
      "metadata": {
        "colab": {
          "base_uri": "https://localhost:8080/"
        },
        "id": "BuSMRD_iOXQ4",
        "outputId": "5268098c-3123-46ec-f0d0-bb2002d8c691"
      },
      "execution_count": null,
      "outputs": [
        {
          "output_type": "stream",
          "name": "stdout",
          "text": [
            " The reversed string is: kapeed\n",
            " The capitalized string is: DEEPAK\n",
            "None\n"
          ]
        }
      ]
    },
    {
      "cell_type": "markdown",
      "source": [
        "15. Write a Python module named file_operations.py with functions for reading, writing, and appending\n",
        "data to a file."
      ],
      "metadata": {
        "id": "JoodviOT6O4M"
      }
    },
    {
      "cell_type": "code",
      "source": [
        "import file_operation_py as fo\n",
        "fp=\"/content/sample_data/newfile.txt\"\n",
        "fo.read_file(fp)\n",
        "content=\"This is a new file. I am Ankita Chandrakar, enthusiatically diving deep into the world of data science. \"\n",
        "fo.write_file(fp, content )\n",
        "fo.append_file(fp, \"I am from engineering background.\")"
      ],
      "metadata": {
        "colab": {
          "base_uri": "https://localhost:8080/"
        },
        "id": "EpXSLUWV6Oea",
        "outputId": "e1e61e74-a87b-4322-9d12-25a2daac932d"
      },
      "execution_count": null,
      "outputs": [
        {
          "output_type": "stream",
          "name": "stdout",
          "text": [
            "Content written to file succesfully\n",
            "Content appended to file succesfully\n"
          ]
        }
      ]
    },
    {
      "cell_type": "markdown",
      "source": [
        "16. Write a Python program to create a text file named \"employees.txt\" and write the details of employees,\n",
        "including their name, age, and salary, into the file."
      ],
      "metadata": {
        "id": "zmHsNlrF-4Or"
      }
    },
    {
      "cell_type": "code",
      "source": [
        "def write_employee_details(filename, employees):\n",
        "    \"\"\"\n",
        "    Writes the details of employees to a text file.\n",
        "\n",
        "    :param filename: Name of the file to write to.\n",
        "    :param employees: List of tuples, each containing employee details (name, age, salary).\n",
        "    \"\"\"\n",
        "    with open(filename, 'w') as file:\n",
        "        for name, age, salary in employees:\n",
        "            file.write(f\"Name: {name}\\n\")\n",
        "            file.write(f\"Age: {age}\\n\")\n",
        "            file.write(f\"Salary: ${salary:.2f}\\n\")\n",
        "            file.write(\"\\n\")  # Add a blank line between employee records\n",
        "\n",
        "def main():\n",
        "    # List of employee details: (name, age, salary)\n",
        "    employees = [\n",
        "        (\"Ankita\", 30, 50000),\n",
        "        (\"Asmita\", 25, 55000),\n",
        "        (\"Harsh\", 28, 60000),\n",
        "        (\"Deepak\", 35, 70000)\n",
        "    ]\n",
        "\n",
        "    filename = 'employees.txt'\n",
        "\n",
        "    write_employee_details(filename, employees)\n",
        "    print(f\"Employee details have been written to {filename}\")\n",
        "\n",
        "if __name__ == \"__main__\":\n",
        "    main()\n"
      ],
      "metadata": {
        "colab": {
          "base_uri": "https://localhost:8080/"
        },
        "id": "sk1vU9a0UElb",
        "outputId": "b55431fb-f089-4292-ae02-1b24c4f767c2"
      },
      "execution_count": null,
      "outputs": [
        {
          "output_type": "stream",
          "name": "stdout",
          "text": [
            "Employee details have been written to employees.txt\n"
          ]
        }
      ]
    },
    {
      "cell_type": "markdown",
      "source": [
        "17. Develop a Python script that opens an existing text file named \"inventory.txt\" in read mode and displays\n",
        "the contents of the file line by line."
      ],
      "metadata": {
        "id": "gV-mCpjv_lbT"
      }
    },
    {
      "cell_type": "code",
      "source": [
        "import read_inventory as ri\n",
        "ri.read_and_display_file(\"inventory.txt\")"
      ],
      "metadata": {
        "colab": {
          "base_uri": "https://localhost:8080/"
        },
        "id": "8rYwg2ZAAwmj",
        "outputId": "7ed95a85-346a-4eab-fbf5-acdada3ce38d"
      },
      "execution_count": null,
      "outputs": [
        {
          "output_type": "stream",
          "name": "stdout",
          "text": [
            "This is an inventory file.\n",
            "Product ID: 101\n",
            "Product Name: Widget A\n",
            "Quantity: 50\n",
            "Price: 1299\n",
            "\n",
            "Product ID: 102\n",
            "Product Name: Widget B\n",
            "Quantity: 30\n",
            "Price: 1499\n",
            "\n",
            "Product ID: 103\n",
            "Product Name: Gadget C\n",
            "Quantity: 20\n",
            "Price: 1799\n",
            "\n",
            "Product ID: 104\n",
            "Product Name: Gadget D\n",
            "Quantity: 15\n",
            "Price: 1999\n"
          ]
        }
      ]
    },
    {
      "cell_type": "markdown",
      "source": [
        "18. Create a Python script that reads a text file named \"expenses.txt\" and calculates the total amount spent\n",
        "on various expenses listed in the file."
      ],
      "metadata": {
        "id": "P-vPIF2kBh3-"
      }
    },
    {
      "cell_type": "code",
      "source": [
        "import calc_expenses as ce\n",
        "ce.calculate_total_expenses(\"expenses.txt\")"
      ],
      "metadata": {
        "colab": {
          "base_uri": "https://localhost:8080/"
        },
        "id": "_4ppj5YnGcX7",
        "outputId": "1697db26-38c0-44c2-eb00-40e039e07a1c"
      },
      "execution_count": null,
      "outputs": [
        {
          "output_type": "execute_result",
          "data": {
            "text/plain": [
              "34200.0"
            ]
          },
          "metadata": {},
          "execution_count": 10
        }
      ]
    },
    {
      "cell_type": "markdown",
      "source": [
        "19. Create a Python program that reads a text file named \"paragraph.txt\" and counts the occurrences of\n",
        "each word in the paragraph, displaying the results in alphabetical order."
      ],
      "metadata": {
        "id": "FJZ8xcpzHt6L"
      }
    },
    {
      "cell_type": "code",
      "source": [
        "import count_words as cw\n",
        "cw.count_words(\"paragraph.txt\")"
      ],
      "metadata": {
        "colab": {
          "base_uri": "https://localhost:8080/"
        },
        "id": "cJlO6PA9Gryt",
        "outputId": "91567a87-0a3f-4dcc-ce5d-6509543a1269"
      },
      "execution_count": null,
      "outputs": [
        {
          "output_type": "execute_result",
          "data": {
            "text/plain": [
              "Counter({'assistant': 1,\n",
              "         'professor': 1,\n",
              "         'electrical': 1,\n",
              "         'engineering': 1,\n",
              "         'with': 2,\n",
              "         'a': 5,\n",
              "         'strong': 1,\n",
              "         'academic': 2,\n",
              "         'background': 1,\n",
              "         'and': 5,\n",
              "         'passion': 1,\n",
              "         'for': 1,\n",
              "         'data': 3,\n",
              "         'science': 2,\n",
              "         'gate': 1,\n",
              "         'qualified': 1,\n",
              "         'professional': 1,\n",
              "         'three': 1,\n",
              "         'years': 1,\n",
              "         'of': 2,\n",
              "         'teaching': 1,\n",
              "         'experience': 2,\n",
              "         'in': 2,\n",
              "         'world': 1,\n",
              "         'bank': 1,\n",
              "         'funded': 1,\n",
              "         'project': 1,\n",
              "         'teqip': 1,\n",
              "         'under': 1,\n",
              "         'npiu': 1,\n",
              "         'unit': 1,\n",
              "         'moe': 1,\n",
              "         'goi': 1,\n",
              "         'formerly': 1,\n",
              "         'mhrd': 1,\n",
              "         'currently': 1,\n",
              "         'expanding': 1,\n",
              "         'my': 1,\n",
              "         'expertise': 1,\n",
              "         'python': 1,\n",
              "         'machine': 1,\n",
              "         'learning': 2,\n",
              "         'to': 5,\n",
              "         'transition': 1,\n",
              "         'into': 1,\n",
              "         'the': 1,\n",
              "         'industry': 1,\n",
              "         'committed': 1,\n",
              "         'leveraging': 1,\n",
              "         'analytical': 1,\n",
              "         'skills': 1,\n",
              "         'research': 1,\n",
              "         'solve': 1,\n",
              "         'complex': 1,\n",
              "         'problems': 1,\n",
              "         'drive': 1,\n",
              "         'driven': 1,\n",
              "         'decision': 1,\n",
              "         'making': 1,\n",
              "         'enthusiastic': 1,\n",
              "         'about': 1,\n",
              "         'continuous': 1,\n",
              "         'eager': 1,\n",
              "         'contribute': 1,\n",
              "         'innovative': 1,\n",
              "         'projects': 1})"
            ]
          },
          "metadata": {},
          "execution_count": 11
        }
      ]
    },
    {
      "cell_type": "markdown",
      "source": [
        "20. What do you mean by Measure of Central Tendency and Measures of Dispersion .How it can be\n",
        "calculated."
      ],
      "metadata": {
        "id": "oUSeDCXrIQvR"
      }
    },
    {
      "cell_type": "markdown",
      "source": [
        "Measures of Central Tendency are:\n",
        "1) Mean : Arithmetic Average of data\n",
        "Sum of all values divided by the number of values\n",
        "2) Median: The middle value in a dataset when the values are sorted in ascending or descending order. If there is an even number of values, it is the average of the two middle values.\n",
        "3)Mode: The value that appears most frequently in a dataset.\n",
        "\n",
        "Measures of Dispersion are:\n",
        "1) Range: The difference between minimum and maximum value of data\n",
        "2) Variance:The average of the squared differences between each data point and the mean.\n",
        "3) standard deviation: Square root of variance\n",
        "4) IQR Inter Quartile Range: Range betwwen Q3(75%) and Q1(25%). IQR=Q3-Q1"
      ],
      "metadata": {
        "id": "qU4rlCAeIoMl"
      }
    },
    {
      "cell_type": "markdown",
      "source": [
        "21. What do you mean by skewness.Explain its types.Use graph to show."
      ],
      "metadata": {
        "id": "9Gi4TnfWKc7g"
      }
    },
    {
      "cell_type": "markdown",
      "source": [
        "Skewness is a statistical term that describes the asymmetry of the distribution of data around its mean. It provides insight into the direction and extent of the deviation of the distribution from the normal distribution.\n",
        "\n",
        "Types of Skewness\n",
        "Positive Skewness (Right Skewness):\n",
        "\n",
        "Definition: When the tail on the right side of the distribution is longer or fatter than the left side. This indicates that most data points are concentrated on the left side, with a few larger values stretching the tail to the right.\n",
        "Characteristics:\n",
        "Mean > Median > Mode\n",
        "Example: Income distribution where most people earn below the median income but a few high earners stretch the distribution to the right.\n",
        "Negative Skewness (Left Skewness):\n",
        "\n",
        "Definition: When the tail on the left side of the distribution is longer or fatter than the right side. This indicates that most data points are concentrated on the right side, with a few smaller values stretching the tail to the left.\n",
        "Characteristics:\n",
        "Mean < Median < Mode\n",
        "Example: Test scores where most students score high but a few students score very low.\n",
        "Zero Skewness (Symmetric Distribution):\n",
        "\n",
        "Definition: When the distribution is symmetrical around the mean, meaning both tails are of equal length and the distribution resembles a normal distribution.\n",
        "Characteristics:\n",
        "Mean = Median = Mode\n",
        "Example: Height distribution of adults where most values are around the average height with fewer values at the extremes."
      ],
      "metadata": {
        "id": "dMxsIKroKl8A"
      }
    },
    {
      "cell_type": "markdown",
      "source": [
        "22. Explain PROBABILITY MASS FUNCTION (PMF) and PROBABILITY DENSITY FUNCTION (PDF). and what is the\n",
        "difference between them?"
      ],
      "metadata": {
        "id": "wKW8XIk-K60K"
      }
    },
    {
      "cell_type": "markdown",
      "source": [
        "Probability Mass Function (PMF) and Probability Density Function (PDF) are tools used to describe the distribution of random variables. Here’s a brief overview:\n",
        "\n",
        "Probability Mass Function (PMF)\n",
        "Used For: Discrete random variables.\n",
        "Definition: Provides the probability that a discrete random variable is exactly equal to a specific value.\n",
        "Formula:\n",
        "𝑃\n",
        "(\n",
        "𝑋\n",
        "=\n",
        "𝑥\n",
        ")\n",
        "P(X=x)\n",
        "Properties:\n",
        "Sum of probabilities for all possible values equals 1.\n",
        "Example: Rolling a die (each face has a probability of\n",
        "1\n",
        "6\n",
        "6\n",
        "1\n",
        "​\n",
        " ).\n",
        "Probability Density Function (PDF)\n",
        "Used For: Continuous random variables.\n",
        "Definition: Describes the relative likelihood of a continuous random variable falling within a specific range. Probabilities are found by integrating the PDF over an interval.\n",
        "Formula:\n",
        "𝑃\n",
        "(\n",
        "𝑎\n",
        "≤\n",
        "𝑋\n",
        "≤\n",
        "𝑏\n",
        ")\n",
        "=\n",
        "∫\n",
        "𝑎\n",
        "𝑏\n",
        "𝑓\n",
        "(\n",
        "𝑥\n",
        ")\n",
        "\n",
        "𝑑\n",
        "𝑥\n",
        "P(a≤X≤b)=∫\n",
        "a\n",
        "b\n",
        "​\n",
        " f(x)dx\n",
        "Properties:\n",
        "The total area under the curve of the PDF equals 1.\n",
        "Example: Height of people (where probabilities are computed over intervals, not exact values).\n",
        "Key Differences\n",
        "Type of Random Variable:\n",
        "\n",
        "PMF: Discrete.\n",
        "PDF: Continuous.\n",
        "Probability Calculation:\n",
        "\n",
        "PMF: Gives exact probabilities for discrete values.\n",
        "PDF: Gives density; probabilities are found over ranges.\n",
        "Summation vs. Integration:\n",
        "\n",
        "PMF: Summed over all values.\n",
        "PDF: Integrated over ranges."
      ],
      "metadata": {
        "id": "8_1pJP-LK36Q"
      }
    },
    {
      "cell_type": "markdown",
      "source": [
        "23. What is correlation. Explain its type in details.what are the methods of determining correlation"
      ],
      "metadata": {
        "id": "d58aXbjRK-uB"
      }
    },
    {
      "cell_type": "markdown",
      "source": [
        "Correlation is a statistical measure that describes the strength and direction of a relationship between two variables. It indicates how changes in one variable are associated with changes in another.\n",
        "\n",
        "Types of Correlation\n",
        "1)Positive Correlation:\n",
        "Definition: When two variables move in the same direction. As one variable increases, the other also increases.\n",
        "Example: Height and weight of individuals; generally, as height increases, weight tends to increase as well.\n",
        "Correlation Coefficient: Between 0 and +1.\n",
        "\n",
        "2)Negative Correlation:\n",
        "Definition: When two variables move in opposite directions. As one variable increases, the other decreases.\n",
        "Example: Speed and travel time; as speed increases, the time required to travel a fixed distance decreases.\n",
        "Correlation Coefficient: Between 0 and -1.\n",
        "No Correlation:\n",
        "\n",
        "Definition: When there is no predictable relationship between the two variables. Changes in one variable do not correspond to predictable changes in the other.\n",
        "Example: Shoe size and intelligence; generally, there is no systematic relationship between these two variables.\n",
        "Correlation Coefficient: Close to 0.\n",
        "Methods of Determining Correlation\n",
        "1) Pearson Correlation Coefficient:\n",
        "2) Spearman's Rank Correlation Coefficient"
      ],
      "metadata": {
        "id": "z_TePjZeLKuN"
      }
    },
    {
      "cell_type": "code",
      "source": [
        "import pandas as pd\n",
        "import numpy as np\n",
        "import seaborn as sns\n",
        "import matplotlib.pyplot as plt\n",
        "\n",
        "# Create a sample dataframe\n",
        "data = {\n",
        "    'X': np.random.rand(100),\n",
        "    'Y': np.random.rand(100) * 0.5\n",
        "}\n",
        "df = pd.DataFrame(data)\n",
        "\n",
        "# Compute Pearson correlation\n",
        "pearson_corr = df.corr(method='pearson')\n",
        "print(f'Pearson Correlation:\\n{pearson_corr}')\n",
        "\n",
        "# Compute Spearman correlation\n",
        "spearman_corr = df.corr(method='spearman')\n",
        "print(f'\\nSpearman Correlation:\\n{spearman_corr}')\n",
        "\n",
        "\n",
        "# Plotting correlation heatmap\n",
        "plt.figure(figsize=(10, 7))\n",
        "sns.heatmap(df.corr(), annot=True, cmap='coolwarm', fmt='.2f')\n",
        "plt.title('Correlation Heatmap')\n",
        "plt.show()\n"
      ],
      "metadata": {
        "colab": {
          "base_uri": "https://localhost:8080/",
          "height": 778
        },
        "id": "AWF0UvzuLYBl",
        "outputId": "721f93df-b2a1-459d-d1de-a55230038435"
      },
      "execution_count": null,
      "outputs": [
        {
          "output_type": "stream",
          "name": "stdout",
          "text": [
            "Pearson Correlation:\n",
            "          X         Y\n",
            "X  1.000000  0.049347\n",
            "Y  0.049347  1.000000\n",
            "\n",
            "Spearman Correlation:\n",
            "          X         Y\n",
            "X  1.000000  0.032691\n",
            "Y  0.032691  1.000000\n"
          ]
        },
        {
          "output_type": "display_data",
          "data": {
            "text/plain": [
              "<Figure size 1000x700 with 2 Axes>"
            ],
            "image/png": "[encoded data removed]"
          },
          "metadata": {}
        }
      ]
    },
    {
      "cell_type": "markdown",
      "source": [
        "24. Calculate coefficient of correlation between the marks obtained by 10 students in Accountancy and\n",
        "statistics:\n",
        "\n",
        "Use Karl Pearson’s Coefficient of Correlation Method to find it.![corr.jpg](data:image/jpeg;base64,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)"
      ],
      "metadata": {
        "id": "GElpMqu1Lhdu"
      }
    },
    {
      "cell_type": "code",
      "source": [
        "data={\"Accountancy\":[45,70,65,30,90,40,50,75,85,60],\n",
        "      \"Statistics\":[35,90,70,40,95,40,60,80,80,50]}\n",
        "\n",
        "df=pd.DataFrame(data)\n",
        "pearson_corr=df.corr(method='pearson')\n",
        "print(f\"The Pearson Correlation coefficient is\\n {pearson_corr}\")"
      ],
      "metadata": {
        "colab": {
          "base_uri": "https://localhost:8080/"
        },
        "id": "fVpz5RPOIQIt",
        "outputId": "55886679-ccb4-4302-893f-7e220218b1d6"
      },
      "execution_count": null,
      "outputs": [
        {
          "output_type": "stream",
          "name": "stdout",
          "text": [
            "The Pearson Correlation coefficient is\n",
            "              Accountancy  Statistics\n",
            "Accountancy     1.000000    0.903118\n",
            "Statistics      0.903118    1.000000\n"
          ]
        }
      ]
    },
    {
      "cell_type": "markdown",
      "source": [
        "25. Discuss the 4 differences between correlation and regression."
      ],
      "metadata": {
        "id": "5OZ2nCxQWUoG"
      }
    },
    {
      "cell_type": "markdown",
      "source": [
        "![diff.jpg](data:image/jpeg;base64,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)"
      ],
      "metadata": {
        "id": "6VNGrWHpf-WJ"
      }
    },
    {
      "cell_type": "markdown",
      "source": [
        "26. Find the most likely price at Delhi corresponding to the price of Rs. 70 at Agra from the following data:\n",
        "Coefficient of correlation between the prices of the two places +0.8."
      ],
      "metadata": {
        "id": "x7SMuwGggBXj"
      }
    },
    {
      "cell_type": "markdown",
      "source": [
        "As the coefficient of correlation between the prices of the two places is very high +0.8, The price at delhi will be around 70"
      ],
      "metadata": {
        "id": "ustSWzlFgylw"
      }
    },
    {
      "cell_type": "markdown",
      "source": [
        "27. In a partially destroyed laboratory record of an analysis of correlation data, the following results only are\n",
        "legible: Variance of x = 9, Regression equations are: (i) 8x−10y = −66; (ii) 40x − 18y = 214. What are (a) the\n",
        "mean values of x and y, (b) the coefficient of correlation between x and y, (c) the σ of y."
      ],
      "metadata": {
        "id": "9HjWQuTEi2Kj"
      }
    },
    {
      "cell_type": "markdown",
      "source": [
        "Mean of\n",
        "𝑥\n",
        "x = 13\n",
        "Mean of\n",
        "𝑦\n",
        "y = 17\n",
        "(b) Coefficient of correlation (\n",
        "𝑟\n",
        "r) = 0.8\n",
        "\n",
        "(c) Standard deviation of\n",
        "𝑦\n",
        "y (\n",
        "𝜎\n",
        "𝑦\n",
        "σ\n",
        "y\n",
        "​\n",
        " ) ≈ 1.8"
      ],
      "metadata": {
        "id": "7OGOVleFi0BB"
      }
    },
    {
      "cell_type": "markdown",
      "source": [
        "28. What is Normal Distribution? What are the four Assumptions of Normal Distribution? Explain in detail."
      ],
      "metadata": {
        "id": "1NjWzNmJjHfp"
      }
    },
    {
      "cell_type": "markdown",
      "source": [
        "The normal distribution is a probability distribution characterized by its symmetric, bell-shaped curve. It is defined by two parameters:\n",
        "\n",
        "Mean (\n",
        "𝜇\n",
        "μ): The center of the distribution.\n",
        "Standard Deviation (\n",
        "𝜎\n",
        "σ): Measures the spread of the distribution.\n",
        "Four Assumptions of Normal Distribution\n",
        "Linearity: The relationship between variables should be linear.\n",
        "Independence: Observations should be independent of each other.\n",
        "Homoscedasticity: Variance of errors should be constant across all levels of the independent variable.\n",
        "Normality of Errors: Residuals or errors should be normally distributed."
      ],
      "metadata": {
        "id": "3VG4PECIjHJR"
      }
    },
    {
      "cell_type": "markdown",
      "source": [
        "29.Write all the characteristics or Properties of the Normal Distribution Curve."
      ],
      "metadata": {
        "id": "RGGpLHfWjMII"
      }
    },
    {
      "cell_type": "markdown",
      "source": [
        "1)Symmetry:\n",
        "The normal distribution curve is perfectly symmetrical about its mean. The left and right halves of the curve are mirror images.\n",
        "\n",
        "2)Bell-Shaped Curve:\n",
        "The distribution has a bell-shaped curve, which is highest at the mean and tapers off towards the extremes.\n",
        "\n",
        "3)Mean, Median, and Mode:\n",
        "In a normal distribution, the mean, median, and mode are all equal and located at the center of the distribution.\n",
        "\n",
        "4)68-95-99.7 Rule (Empirical Rule):\n",
        "Approximately 68% of the data falls within one standard deviation of the mean.\n",
        "About 95% falls within two standard deviations.\n",
        "Roughly 99.7% falls within three standard deviations.\n",
        "\n",
        "5)Asymptotic Nature:\n",
        "The curve approaches but never actually touches the x-axis. It extends infinitely in both directions, becoming asymptotic to the axis.\n",
        "\n",
        "6)Total Area Under the Curve:\n",
        "The total area under the normal distribution curve is equal to 1, representing the entirety of the probability space.\n",
        "\n",
        "7)Mean Determines the Center:\n",
        "The mean (μ) determines the location of the peak of the curve. The peak of the curve\n",
        "\n",
        "8)Standard Deviation Determines Spread:\n",
        "The standard deviation (σ) determines the width and spread of the curve. A larger standard deviation results in a wider, flatter curve, while a smaller standard deviation results in a narrower, taller curve.\n",
        "\n",
        "9)Area Under the Curve:\n",
        "The area under the curve within one standard deviation of the mean is approximately 68% of the total area. This property is used to calculate probabilities and percentiles.\n",
        "\n",
        "10)Symmetry About Mean:\n",
        "The normal distribution is symmetric about its mean, which means that the probability of a value falling above the mean is equal to the probability of it falling below the mean."
      ],
      "metadata": {
        "id": "UAoPUS0WjQsX"
      }
    },
    {
      "cell_type": "markdown",
      "source": [
        "30.Which of the following options are correct about Normal Distribution Curve.\n",
        "(a) Within a range 0.6745 of σ on both sides the middle 50% of the observations occur i,e. mean ±0.6745σ covers 50% area 25% on each side.\n",
        "(b) Mean ±1S.D. (i,e.μ ± 1σ) covers 68.268% area, 34.134 % area lies on either side of the mean.\n",
        "(c) Mean ±2S.D. (i,e. μ ± 2σ) covers 95.45% area, 47.725% area lies on either side of the mean.\n",
        "(d) Mean ±3 S.D. (i,e. μ ±3σ) covers 99.73% area, 49.856% area lies on the either side of the mean.\n",
        "(e) Only 0.27% area is outside the range μ ±3σ."
      ],
      "metadata": {
        "id": "tRW_ZWLAkGlD"
      }
    },
    {
      "cell_type": "markdown",
      "source": [
        "All options are correct."
      ],
      "metadata": {
        "id": "cy0FF_TgkUBg"
      }
    },
    {
      "cell_type": "markdown",
      "source": [
        "31. The mean of a distribution is 60 with a standard deviation of 10. Assuming that the distribution is normal,\n",
        "what percentage of items be (i) between 60 and 72, (ii) between 50 and 60, (iii) beyond 72 and (iv) between\n",
        "70 and 80?"
      ],
      "metadata": {
        "id": "90uTtRJ6kXav"
      }
    },
    {
      "cell_type": "markdown",
      "source": [
        "For\n",
        "𝑥\n",
        "=\n",
        "60\n",
        "x=60:\n",
        "𝑧\n",
        "=\n",
        "60\n",
        "−\n",
        "60\n",
        "10\n",
        "=\n",
        "0\n",
        "z=\n",
        "10\n",
        "60−60\n",
        "​\n",
        " =0\n",
        "For\n",
        "𝑥\n",
        "=\n",
        "72\n",
        "x=72:\n",
        "𝑧\n",
        "=\n",
        "72\n",
        "−\n",
        "60\n",
        "10\n",
        "=\n",
        "1.2\n",
        "z=\n",
        "10\n",
        "72−60\n",
        "​\n",
        " =1.2\n",
        " The cumulative probability for\n",
        "𝑧\n",
        "=\n",
        "0\n",
        "z=0 is 0.5000 (50%).\n",
        "For\n",
        "𝑧\n",
        "=\n",
        "1.2\n",
        "z=1.2, use a z-table or calculator to find the cumulative probability, which is approximately 0.8849.\n",
        "Percentage between 60 and 72=(0.8849−0.5000)×100%=38.49%\n",
        "i)Percentage between 60 and 72: 38.49%\n",
        "ii)Percentage between 50 and 60: 34.13%\n",
        "iii)Percentage beyond 72: 11.51%\n",
        "iv) Percentage between 70 and 80: 13.58%"
      ],
      "metadata": {
        "id": "3ENnmBEBmZ-B"
      }
    },
    {
      "cell_type": "markdown",
      "source": [
        "32. 15000 students sat for an examination. The mean marks was 49 and the distribution of marks had a\n",
        "standard deviation of 6. Assuming that the marks were normally distributed what proportion of students\n",
        "scored (a) more than 55 marks, (b) more than 70 marks"
      ],
      "metadata": {
        "id": "BuqtD249nGn6"
      }
    },
    {
      "cell_type": "markdown",
      "source": [
        "Mean=49\n",
        "std dev=6\n",
        "a) More than 55 marks (49+6=55 i.e. more than 1 SD). So, 100-(50%+34%)=16% students scored more than 55 marks\n",
        "b) more than 70 marks (70-49=21, 21/6=3.5) So, more than 3SD i.e. 0.27% students"
      ],
      "metadata": {
        "id": "bHSDf8HCnZpZ"
      }
    },
    {
      "cell_type": "markdown",
      "source": [
        "33. If the height of 500 students are normally distributed with mean 65 inch and standard deviation 5 inch.\n",
        "How many students have height : a) greater than 70 inch. b) between 60 and 70 inch."
      ],
      "metadata": {
        "id": "VrSB6uVLoM3p"
      }
    },
    {
      "cell_type": "markdown",
      "source": [
        "mean=65\n",
        "SD=5\n",
        "a) greater than 70 inch (70-65=5=1SD) so 16% student\n",
        "b) between 60 and 70 (70-60=10=2SD 1SD from mean on both sides) so 68%"
      ],
      "metadata": {
        "id": "PLJ5hLPEoTU2"
      }
    },
    {
      "cell_type": "markdown",
      "source": [
        "34. What is the statistical hypothesis? Explain the errors in hypothesis testing.b)Explain the Sample. What\n",
        "are Large Samples & Small Samples?"
      ],
      "metadata": {
        "id": "BNJLs1n4o7FZ"
      }
    },
    {
      "cell_type": "markdown",
      "source": [
        "Statistical Hypothesis: Assumptions about population parameters that are tested using sample data, consisting of a null hypothesis and an alternative hypothesis.\n",
        "\n",
        "Errors in Hypothesis Testing: Type I error (false positive) and Type II error (false negative).\n",
        "Type I Error (False Positive):\n",
        "\n",
        "Definition: Occurs when the null hypothesis is incorrectly rejected when it is actually true.\n",
        "Symbol:\n",
        "𝛼\n",
        "α (alpha), also known as the significance level.\n",
        "Example: Concluding that a new drug is effective when it is not.\n",
        "Type II Error (False Negative):\n",
        "\n",
        "Definition: Occurs when the null hypothesis is not rejected when it is actually false.\n",
        "Symbol:\n",
        "𝛽\n",
        "β (beta), where\n",
        "1\n",
        "−\n",
        "𝛽\n",
        "1−β represents the power of the test.\n",
        "Example: Failing to detect an effect of a new drug when it is indeed effective.\n",
        "\n",
        "Sample: A subset of the population used to estimate population characteristics.\n",
        "\n",
        "Large Samples: Generally over 30 observations, providing more accurate estimates and applying the Central Limit Theorem.\n",
        "Small Samples: Fewer than 30 observations, with less reliable estimates and potentially non-normal sampling distributions."
      ],
      "metadata": {
        "id": "yoZ_H-ANpF1n"
      }
    },
    {
      "cell_type": "markdown",
      "source": [
        "35.A random sample of size 25 from a population gives the sample standard derivation to be 9.0. Test the\n",
        "hypothesis that the population standard derivation is 10.5.\n",
        "Hint(Use chi-square distribution)."
      ],
      "metadata": {
        "id": "Au3enoKJpVPA"
      }
    },
    {
      "cell_type": "markdown",
      "source": [
        "State the Hypotheses\n",
        "Null Hypothesis (\n",
        "𝐻\n",
        "0\n",
        "H\n",
        "0\n",
        "​\n",
        " ): The population standard deviation is 10.5.\n",
        "\n",
        "𝐻\n",
        "0\n",
        ":\n",
        "𝜎\n",
        "=\n",
        "10.5\n",
        "H\n",
        "0\n",
        "​\n",
        " :σ=10.5\n",
        "Alternative Hypothesis (\n",
        "𝐻\n",
        "𝑎\n",
        "H\n",
        "a\n",
        "​\n",
        " ): The population standard deviation is not 10.5.\n",
        "\n",
        "𝐻\n",
        "𝑎\n",
        ":\n",
        "𝜎\n",
        "≠\n",
        "10.5\n",
        "H\n",
        "a\n",
        "​\n",
        " :σ\n",
        "\n",
        "=10.5\n",
        "2. Set the Significance Level\n",
        "Typically, we use a significance level (\n",
        "𝛼\n",
        "α) of 0.05. This means we are willing to accept a 5% chance of rejecting the null hypothesis when it is actually true.\n",
        "\n",
        "3. Calculate the Test Statistic\n",
        "The test statistic for a chi-square test on variance is given by:\n",
        "\n",
        "𝜒\n",
        "2\n",
        "=\n",
        "(\n",
        "𝑛\n",
        "−\n",
        "1\n",
        ")\n",
        "⋅\n",
        "𝑠\n",
        "2\n",
        "𝜎\n",
        "2\n",
        "χ\n",
        "2\n",
        " =\n",
        "σ\n",
        "2\n",
        "\n",
        "(n−1)⋅s\n",
        "2\n",
        "\n",
        "​\n",
        "\n",
        "where:\n",
        "\n",
        "𝑛\n",
        "n = sample size = 25\n",
        "𝑠\n",
        "s = sample standard deviation = 9.0\n",
        "𝜎\n",
        "σ = hypothesized population standard deviation = 10.5\n",
        "First, compute the sample variance (\n",
        "𝑠\n",
        "2\n",
        "s\n",
        "2\n",
        " ):\n",
        "\n",
        "𝑠\n",
        "2\n",
        "=\n",
        "9.\n",
        "0\n",
        "2\n",
        "=\n",
        "81\n",
        "s\n",
        "2\n",
        " =9.0\n",
        "2\n",
        " =81\n",
        "Now, compute the chi-square statistic:\n",
        "\n",
        "𝜒\n",
        "2\n",
        "=\n",
        "(\n",
        "25\n",
        "−\n",
        "1\n",
        ")\n",
        "⋅\n",
        "81\n",
        "10.\n",
        "5\n",
        "2\n",
        "χ\n",
        "2\n",
        " =\n",
        "10.5\n",
        "2\n",
        "\n",
        "(25−1)⋅81\n",
        "​\n",
        "\n",
        "\n",
        "𝜒\n",
        "2\n",
        "=\n",
        "24\n",
        "⋅\n",
        "81\n",
        "110.25\n",
        "χ\n",
        "2\n",
        " =\n",
        "110.25\n",
        "24⋅81\n",
        "​\n",
        "\n",
        "\n",
        "𝜒\n",
        "2\n",
        "=\n",
        "1944\n",
        "110.25\n",
        "≈\n",
        "17.63\n",
        "χ\n",
        "2\n",
        " =\n",
        "110.25\n",
        "1944\n",
        "​\n",
        " ≈17.63\n",
        "4. Determine the Critical Values\n",
        "Since the alternative hypothesis is\n",
        "𝜎\n",
        "≠\n",
        "10.5\n",
        "σ\n",
        "\n",
        "=10.5, we are performing a two-tailed test.\n",
        "\n",
        "Degrees of Freedom (df):\n",
        "𝑛\n",
        "−\n",
        "1\n",
        "=\n",
        "25\n",
        "−\n",
        "1\n",
        "=\n",
        "24\n",
        "n−1=25−1=24\n",
        "Significance Level:\n",
        "𝛼\n",
        "=\n",
        "0.05\n",
        "α=0.05 (for a two-tailed test,\n",
        "𝛼\n",
        "/\n",
        "2\n",
        "=\n",
        "0.025\n",
        "α/2=0.025)\n",
        "Using chi-square distribution tables or a calculator, find the critical values for\n",
        "𝛼\n",
        "/\n",
        "2\n",
        "=\n",
        "0.025\n",
        "α/2=0.025 and\n",
        "df\n",
        "=\n",
        "24\n",
        "df=24.\n",
        "\n",
        "The critical value for\n",
        "𝜒\n",
        "0.025\n",
        ",\n",
        "24\n",
        "2\n",
        "χ\n",
        "0.025,24\n",
        "2\n",
        "​\n",
        "  (upper tail) is approximately 36.415.\n",
        "The critical value for\n",
        "𝜒\n",
        "0.975\n",
        ",\n",
        "24\n",
        "2\n",
        "χ\n",
        "0.975,24\n",
        "2\n",
        "​\n",
        "  (lower tail) is approximately 13.848.\n",
        "5. Make a Decision\n",
        "Compare the computed chi-square statistic with the critical values:\n",
        "\n",
        "If\n",
        "𝜒\n",
        "2\n",
        "χ\n",
        "2\n",
        "  is less than the lower critical value (13.848) or greater than the upper critical value (36.415), reject the null hypothesis.\n",
        "If\n",
        "𝜒\n",
        "2\n",
        "χ\n",
        "2\n",
        "  falls between these critical values, do not reject the null hypothesis.\n",
        "In this case:\n",
        "\n",
        "𝜒\n",
        "2\n",
        "=\n",
        "17.63\n",
        "χ\n",
        "2\n",
        " =17.63\n",
        "Since\n",
        "13.848\n",
        "<\n",
        "17.63\n",
        "<\n",
        "36.415\n",
        "13.848<17.63<36.415, we do not reject the null hypothesis.\n",
        "\n",
        "Conclusion\n",
        "Based on the sample data and the chi-square test, there is not enough evidence at the 0.05 significance level to conclude that the population standard deviation differs from 10.5."
      ],
      "metadata": {
        "id": "-yyuGJKppn5v"
      }
    },
    {
      "cell_type": "markdown",
      "source": [
        "37.100 students of a PW IOI obtained the following grades in Data Science paper :\n",
        "Grade :[A, B, C, D, E]\n",
        "Total Frequency :[15, 17, 30, 22, 16, 100]\n",
        "Using the χ 2 test , examine the hypothesis that the distribution of grades is uniform."
      ],
      "metadata": {
        "id": "jXi5mP23ppfG"
      }
    },
    {
      "cell_type": "code",
      "source": [
        "import numpy as np\n",
        "from scipy import stats\n",
        "\n",
        "# Define observed frequencies\n",
        "observed_frequencies = np.array([15, 17, 30, 22, 16])\n",
        "\n",
        "# Define expected frequencies (uniform distribution)\n",
        "total_students = 100\n",
        "num_categories = len(observed_frequencies)\n",
        "expected_frequencies = np.full(num_categories, total_students / num_categories)\n",
        "\n",
        "# Perform chi-square test\n",
        "chi2_statistic, p_value = stats.chisquare(observed_frequencies, expected_frequencies)\n",
        "\n",
        "# Output results\n",
        "print(f\"Chi-Square Statistic: {chi2_statistic}\")\n",
        "print(f\"P-Value: {p_value}\")\n",
        "\n",
        "# Determine the critical value for comparison\n",
        "alpha = 0.05\n",
        "df = num_categories - 1\n",
        "critical_value = stats.chi2.ppf(1 - alpha, df)\n",
        "\n",
        "print(f\"Critical Value (df={df}, alpha={alpha}): {critical_value}\")\n",
        "\n",
        "# Decision based on p-value\n",
        "if p_value < alpha:\n",
        "    print(\"Reject the null hypothesis: The distribution is not uniform.\")\n",
        "else:\n",
        "    print(\"Do not reject the null hypothesis: The distribution may be uniform.\")\n"
      ],
      "metadata": {
        "colab": {
          "base_uri": "https://localhost:8080/"
        },
        "id": "4INV9y6VqDh5",
        "outputId": "6febc911-8819-481a-878f-3d806c20e440"
      },
      "execution_count": null,
      "outputs": [
        {
          "output_type": "stream",
          "name": "stdout",
          "text": [
            "Chi-Square Statistic: 7.7\n",
            "P-Value: 0.10320672172612926\n",
            "Critical Value (df=4, alpha=0.05): 9.487729036781154\n",
            "Do not reject the null hypothesis: The distribution may be uniform.\n"
          ]
        }
      ]
    },
    {
      "cell_type": "markdown",
      "source": [
        "38.Anova Test:![annova.jpg](data:image/jpeg;base64,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)"
      ],
      "metadata": {
        "id": "OX-NszG0qdn5"
      }
    },
    {
      "cell_type": "code",
      "source": [
        "meanA=np.mean([57,49,54])\n",
        "meanB=np.mean([55,52,46])\n",
        "meanC=np.mean([67,68,58])\n",
        "\n",
        "#meanA, meanB and meanC are unequal so rejecting the null hypothesis."
      ],
      "metadata": {
        "id": "Jqrm1PRznYaA"
      },
      "execution_count": null,
      "outputs": []
    },
    {
      "cell_type": "code",
      "source": [
        "meanA, meanB, meanC"
      ],
      "metadata": {
        "colab": {
          "base_uri": "https://localhost:8080/"
        },
        "id": "o9Yx5nc9mFCy",
        "outputId": "55e885bd-7564-4f25-99d9-35d121109b0c"
      },
      "execution_count": null,
      "outputs": [
        {
          "output_type": "execute_result",
          "data": {
            "text/plain": [
              "(53.333333333333336, 51.0, 64.33333333333333)"
            ]
          },
          "metadata": {},
          "execution_count": 22
        }
      ]
    }
  ]
}