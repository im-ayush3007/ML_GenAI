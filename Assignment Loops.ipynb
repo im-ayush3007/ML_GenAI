{
 "cells": [
  {
   "cell_type": "markdown",
   "id": "a805921b-3ae3-4671-9e7a-8d63a43bc72e",
   "metadata": {},
   "source": [
    "PW Skills Assignment Solutions\n",
    "Assignment-04 Python Loops(For, While)"
   ]
  },
  {
   "cell_type": "markdown",
   "id": "d586734b-a46d-4ee7-a02f-c6f7c6d6713d",
   "metadata": {},
   "source": [
    "1. Print number from 1 to 5 using a while loop."
   ]
  },
  {
   "cell_type": "code",
   "execution_count": 1,
   "id": "3a963f2c-473e-45c9-9a94-8dd9f66c0880",
   "metadata": {},
   "outputs": [
    {
     "name": "stdout",
     "output_type": "stream",
     "text": [
      "1\n",
      "2\n",
      "3\n",
      "4\n",
      "5\n"
     ]
    }
   ],
   "source": [
    "n=1\n",
    "while (n<6):\n",
    "    print(n)\n",
    "    n+=1"
   ]
  },
  {
   "cell_type": "markdown",
   "id": "0f23a247-d86e-4b53-a542-d00d1c272931",
   "metadata": {},
   "source": [
    "2. Calclate the sum of number from 1 to 10 using a while loop."
   ]
  },
  {
   "cell_type": "code",
   "execution_count": 2,
   "id": "4de3a04c-31c0-4e60-bc75-bccc64cf89d6",
   "metadata": {},
   "outputs": [
    {
     "name": "stdout",
     "output_type": "stream",
     "text": [
      "55\n"
     ]
    }
   ],
   "source": [
    "n=1\n",
    "total=0\n",
    "while (n<=10):\n",
    "    total+=n\n",
    "    n+=1\n",
    "print(total)"
   ]
  },
  {
   "cell_type": "markdown",
   "id": "45996f01-ea9e-4207-8e8e-009f70a38afc",
   "metadata": {},
   "source": [
    "3. Calclate the factorial of a number using a for loop."
   ]
  },
  {
   "cell_type": "code",
   "execution_count": 3,
   "id": "f683baea-b097-47e6-a689-8f3f9a35d439",
   "metadata": {},
   "outputs": [
    {
     "name": "stdin",
     "output_type": "stream",
     "text": [
      "Enter the whole number who's factorial is desired: 5\n"
     ]
    },
    {
     "name": "stdout",
     "output_type": "stream",
     "text": [
      "The factorial of 5 is 120\n"
     ]
    }
   ],
   "source": [
    "num=int(input(\"Enter the whole number who's factorial is desired:\"))\n",
    "fact=1\n",
    "for i in range(1, num+1):\n",
    "    fact*=i\n",
    "print(f\"The factorial of {num} is {fact}\")"
   ]
  },
  {
   "cell_type": "markdown",
   "id": "bf19a477-4f89-4911-b643-37c507233b44",
   "metadata": {},
   "source": [
    "4. Count the number of vowel in a string using a for loop."
   ]
  },
  {
   "cell_type": "code",
   "execution_count": 5,
   "id": "0f3a98ef-5404-4720-a79e-689bbfaa728d",
   "metadata": {},
   "outputs": [
    {
     "name": "stdin",
     "output_type": "stream",
     "text": [
      "Enter any string: Hello! I am learning data science from PW Skills\n"
     ]
    },
    {
     "name": "stdout",
     "output_type": "stream",
     "text": [
      "14\n"
     ]
    }
   ],
   "source": [
    "s=input(\"Enter any string:\")\n",
    "count=0\n",
    "for i in range (0,len(s)):\n",
    "    if s[i] in \"aeiouAEIOU\":\n",
    "        count+=1\n",
    "print(count)"
   ]
  },
  {
   "cell_type": "markdown",
   "id": "7b49f688-6972-4cf9-b11a-0c91dca35824",
   "metadata": {},
   "source": [
    "5. Print a pattern using nested loop."
   ]
  },
  {
   "cell_type": "code",
   "execution_count": 6,
   "id": "df4cf1ea-05ef-46a8-b7ee-14fc7887559e",
   "metadata": {},
   "outputs": [
    {
     "name": "stdout",
     "output_type": "stream",
     "text": [
      "* \n",
      "* * \n",
      "* * * \n",
      "* * * * \n",
      "* * * * * \n"
     ]
    }
   ],
   "source": [
    "for i in range (0,5):\n",
    "    for j in range (0,i+1):\n",
    "        print(\"*\", end=\" \")\n",
    "    print()"
   ]
  },
  {
   "cell_type": "markdown",
   "id": "4a904224-5aed-421d-93e0-35b310771ec4",
   "metadata": {},
   "source": [
    "6. Generate a multiplication table using nested loop."
   ]
  },
  {
   "cell_type": "code",
   "execution_count": 9,
   "id": "9a012639-7b96-4a5f-9ca5-cad02b756da7",
   "metadata": {},
   "outputs": [
    {
     "name": "stdin",
     "output_type": "stream",
     "text": [
      "Enter any whole number: 8\n"
     ]
    },
    {
     "name": "stdout",
     "output_type": "stream",
     "text": [
      " 1 * 8 = 8 \n",
      " 2 * 8 = 16 \n",
      " 3 * 8 = 24 \n",
      " 4 * 8 = 32 \n",
      " 5 * 8 = 40 \n",
      " 6 * 8 = 48 \n",
      " 7 * 8 = 56 \n",
      " 8 * 8 = 64 \n",
      " 9 * 8 = 72 \n",
      " 10 * 8 = 80 \n"
     ]
    }
   ],
   "source": [
    "num=int(input(\"Enter any whole number:\"))\n",
    "for i in range(1,11):\n",
    "    print(f\" {i} * {num} = {i*num}\", end=\" \")\n",
    "    print()  "
   ]
  },
  {
   "cell_type": "code",
   "execution_count": null,
   "id": "d3c145d3-dc9e-4c96-8e7b-fbfeaa2a9664",
   "metadata": {},
   "outputs": [],
   "source": []
  }
 ],
 "metadata": {
  "kernelspec": {
   "display_name": "Python 3 (ipykernel)",
   "language": "python",
   "name": "python3"
  },
  "language_info": {
   "codemirror_mode": {
    "name": "ipython",
    "version": 3
   },
   "file_extension": ".py",
   "mimetype": "text/x-python",
   "name": "python",
   "nbconvert_exporter": "python",
   "pygments_lexer": "ipython3",
   "version": "3.10.8"
  }
 },
 "nbformat": 4,
 "nbformat_minor": 5
}
