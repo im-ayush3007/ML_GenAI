{
 "cells": [
  {
   "cell_type": "markdown",
   "id": "ec641e11-71bd-4696-92fc-a40c6d0f40fb",
   "metadata": {},
   "source": [
    "#### PW Skills Assignment Solutions\n",
    "Assignment-02 Python Operators"
   ]
  },
  {
   "cell_type": "markdown",
   "id": "f6ba2f23-aa0f-4be9-801c-d8670394f123",
   "metadata": {},
   "source": [
    "1. Calculate the sum, difference, product, and quotient of two numbers."
   ]
  },
  {
   "cell_type": "code",
   "execution_count": 1,
   "id": "4ff00b19-f164-4373-a86b-3c12cc33b0bd",
   "metadata": {},
   "outputs": [
    {
     "name": "stdin",
     "output_type": "stream",
     "text": [
      "Enter the first number: 45\n",
      "Enter the second number: 3.5\n",
      "Enter the operation symbol \n",
      " 1. + for addition \n",
      " 2. - for difference \n",
      " 3. * for multiplication \n",
      " 4. / for division /\n"
     ]
    },
    {
     "name": "stdout",
     "output_type": "stream",
     "text": [
      "The qoutient is: 12.857142857142858\n"
     ]
    }
   ],
   "source": [
    "n1=float(input(\"Enter the first number:\"))\n",
    "n2=float(input(\"Enter the second number:\"))\n",
    "op=input(\"Enter the operation symbol \\n 1. + for addition \\n 2. - for difference \\n 3. * for multiplication \\n 4. / for division\")\n",
    "if op==\"+\":\n",
    "    add=sum(n1,n2)\n",
    "    print(\"The sum is:\",add)\n",
    "    \n",
    "elif op==\"-\":\n",
    "    if n1>n2:\n",
    "        diff= n1-n2\n",
    "        print(\"The difference is:\",diff)\n",
    "    else:\n",
    "        diff=n2-n1\n",
    "        print(\"The difference is:\",diff)\n",
    "elif op==\"*\" :\n",
    "    prod=n1*n2\n",
    "    print(\"The product is:\",prod)\n",
    "elif op==\"/\":\n",
    "    if n1>n2:\n",
    "        quo= n1/n2\n",
    "        print(\"The qoutient is:\",quo)\n",
    "    else:\n",
    "        quo=n2/n1\n",
    "        print(\"The qoutient is:\",quo)     \n",
    "else:\n",
    "    print(\"The operator entered is invalid\")"
   ]
  },
  {
   "cell_type": "markdown",
   "id": "5f726c28-d03a-43ef-9088-bd2662ae4e23",
   "metadata": {},
   "source": [
    "2. Perform various assignment operations on a variable."
   ]
  },
  {
   "cell_type": "code",
   "execution_count": 8,
   "id": "dcdee67a-da19-40d2-803a-18ffb2c74c97",
   "metadata": {},
   "outputs": [
    {
     "name": "stdout",
     "output_type": "stream",
     "text": [
      "5\n",
      "10\n",
      "7\n",
      "14\n",
      "7.0\n",
      "1.0\n",
      "5\n",
      "125\n",
      "1\n",
      "7\n",
      "7\n",
      "1\n",
      "40\n"
     ]
    }
   ],
   "source": [
    "#var=int(input(\"Enter any integer number:\"))\n",
    "x=5 #assignment operator\n",
    "print(x)\n",
    "x+=5 \n",
    "print(x) #addition operator\n",
    "x-=3 \n",
    "print(x) #substraction operator\n",
    "x*=2 \n",
    "print(x) #multiplication operator\n",
    "x/=2 \n",
    "print(x) #divison operator(qoutient)\n",
    "x%=3 \n",
    "print(x) #remainder\n",
    "x//=2 \n",
    "x=5\n",
    "print(x) #nearest whole number qoutient\n",
    "x**=3 \n",
    "print(x) #exponent\n",
    "x=5\n",
    "x&=3 \n",
    "print (x) #and operation on bits\n",
    "x=5\n",
    "x|=3 \n",
    "print(x) #not operation on bits\n",
    "x=5\n",
    "x^= 2 \n",
    "print(x) #or operation\n",
    "x=5\n",
    "x>>=2 \n",
    "print(x) #bit operation right shift by 2 places\n",
    "x=5\n",
    "x<<=3 \n",
    "print(x) #bit operation left shift by 2 places"
   ]
  },
  {
   "cell_type": "markdown",
   "id": "1db62117-a3a4-463d-944f-5c9872251c51",
   "metadata": {},
   "source": [
    "3. Compare two numbers and print the results."
   ]
  },
  {
   "cell_type": "code",
   "execution_count": 11,
   "id": "abb44c6e-74c3-48f2-bef3-6c99f68e705f",
   "metadata": {},
   "outputs": [
    {
     "name": "stdin",
     "output_type": "stream",
     "text": [
      "Enter the first number: 10 \n",
      "Enter the second number: 7 \n"
     ]
    },
    {
     "name": "stdout",
     "output_type": "stream",
     "text": [
      "First number 10.0 is greater than the second number 7.0\n"
     ]
    }
   ],
   "source": [
    "num1=float(input(\"Enter the first number:\"))\n",
    "num2=float(input(\"Enter the second number:\"))\n",
    "if num1>num2:\n",
    "    print(f\"First number {num1} is greater than the second number {num2}\")\n",
    "elif num2>num1:\n",
    "    print(f\"Second number {num2} is greater than the first number {num1}\")\n",
    "else:\n",
    "    print(f\"Both the numbers {num2} & {num2} are equal\")\n"
   ]
  },
  {
   "cell_type": "markdown",
   "id": "40ca5d2f-f8e0-4a48-ab22-44fc37848860",
   "metadata": {},
   "source": [
    "4. Check conditions using logical operators."
   ]
  },
  {
   "cell_type": "code",
   "execution_count": 3,
   "id": "4594c087-8b90-4330-a334-494038252186",
   "metadata": {},
   "outputs": [
    {
     "name": "stdout",
     "output_type": "stream",
     "text": [
      "False\n",
      "True\n",
      "True\n"
     ]
    }
   ],
   "source": [
    "x=5\n",
    "print(x>=3 and x>=7)\n",
    "print(x>=3 or x>=7)\n",
    "print(not(x>=3 and x>=7))"
   ]
  },
  {
   "cell_type": "markdown",
   "id": "aa84b0e1-17dd-4599-af0f-f8b746ce27fc",
   "metadata": {},
   "source": [
    "5. Check the identity of variables."
   ]
  },
  {
   "cell_type": "code",
   "execution_count": 1,
   "id": "5a604a0f-d9e0-42e9-b240-267da1ebf2aa",
   "metadata": {},
   "outputs": [
    {
     "name": "stdin",
     "output_type": "stream",
     "text": [
      "Enter any number: 4\n"
     ]
    },
    {
     "name": "stdout",
     "output_type": "stream",
     "text": [
      "The identity of the variable the number is stored in is 140195604267344\n"
     ]
    },
    {
     "name": "stdin",
     "output_type": "stream",
     "text": [
      "Enter another number: 12\n"
     ]
    },
    {
     "name": "stdout",
     "output_type": "stream",
     "text": [
      "The identity of the variable where the other number is stored in is 140195604267600\n"
     ]
    }
   ],
   "source": [
    "a=int(input(\"Enter any number:\"))\n",
    "print(\"The identity of the variable the number is stored in is\", id(a))\n",
    "b=int(input(\"Enter another number:\"))\n",
    "print(\"The identity of the variable where the other number is stored in is\", id(b))"
   ]
  },
  {
   "cell_type": "markdown",
   "id": "c36736ea-9956-4040-8a6f-c350bb299d10",
   "metadata": {},
   "source": [
    "6. Perform bitwise operations on any two integers."
   ]
  },
  {
   "cell_type": "code",
   "execution_count": 8,
   "id": "d2017c30-aada-429b-beb7-d9c90eea2813",
   "metadata": {},
   "outputs": [
    {
     "name": "stdout",
     "output_type": "stream",
     "text": [
      "2\n",
      "7\n",
      "5\n",
      "-7\n",
      "1\n",
      "24\n"
     ]
    }
   ],
   "source": [
    "print(6&3) #bitwise AND\n",
    "print(6|3) #bitwiase OR\n",
    "print(6^3) #bitwise XOR\n",
    "print(~6) #bitwise NOT\n",
    "print(6>>2) #bitwise operation shift towards right by 2 places\n",
    "print(6<<2) #bitwise operation shift towards left by 2 places"
   ]
  },
  {
   "cell_type": "markdown",
   "id": "487805f6-aea9-4fd4-b578-6847bc51fa7d",
   "metadata": {},
   "source": [
    "7. Use unary operators to change the sign of a number."
   ]
  },
  {
   "cell_type": "code",
   "execution_count": 10,
   "id": "6a525fe4-6515-4574-80c8-f047a24f2419",
   "metadata": {},
   "outputs": [
    {
     "name": "stdin",
     "output_type": "stream",
     "text": [
      "Enter any number: 7\n"
     ]
    },
    {
     "name": "stdout",
     "output_type": "stream",
     "text": [
      "The changed number is -7\n"
     ]
    }
   ],
   "source": [
    "number=int(input(\"Enter any number:\"))\n",
    "print(f\"The changed number is {-number}\") #- is the unary operator"
   ]
  },
  {
   "cell_type": "markdown",
   "id": "14100a75-707b-4ded-94bf-82a60f46568d",
   "metadata": {},
   "source": [
    "8.Use the ternary operator to assign values based on conditions."
   ]
  },
  {
   "cell_type": "code",
   "execution_count": 11,
   "id": "17031ac4-43b0-474b-8938-4603db823d47",
   "metadata": {},
   "outputs": [
    {
     "name": "stdout",
     "output_type": "stream",
     "text": [
      "True\n"
     ]
    }
   ],
   "source": [
    "n=8\n",
    "x=True if n>=5 else False #True, n>=5 and False are 3 ternary operators used here\n",
    "print(x)"
   ]
  },
  {
   "cell_type": "code",
   "execution_count": null,
   "id": "ed7a2a70-d661-4ec8-9625-dd73f1c1abe8",
   "metadata": {},
   "outputs": [],
   "source": []
  }
 ],
 "metadata": {
  "kernelspec": {
   "display_name": "Python 3 (ipykernel)",
   "language": "python",
   "name": "python3"
  },
  "language_info": {
   "codemirror_mode": {
    "name": "ipython",
    "version": 3
   },
   "file_extension": ".py",
   "mimetype": "text/x-python",
   "name": "python",
   "nbconvert_exporter": "python",
   "pygments_lexer": "ipython3",
   "version": "3.10.8"
  }
 },
 "nbformat": 4,
 "nbformat_minor": 5
}
