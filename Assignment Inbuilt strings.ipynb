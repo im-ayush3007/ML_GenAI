{
 "cells": [
  {
   "cell_type": "markdown",
   "id": "e6e97f58-41f3-4945-86fb-b1aee8824989",
   "metadata": {},
   "source": [
    "PW Skills Assignment Solutions\n",
    "Assignment-07 Python Inbuilt strings"
   ]
  },
  {
   "cell_type": "markdown",
   "id": "6ff4b227-0fb0-4ae8-a354-2dc22323ec3c",
   "metadata": {},
   "source": [
    "1. What is the purpose of the len() function in Python, and how can it be used with strings?"
   ]
  },
  {
   "cell_type": "markdown",
   "id": "31b231ee-abb5-421b-8778-671a2572ab9a",
   "metadata": {},
   "source": [
    "The len() function in Python is a built-in function that returns the number of items in an object. When the object is a string, len() returns the number of characters in the string. This includes letters, numbers, spaces, punctuation, and all other characters that make up the string.\n",
    "It can be used with strings as below:\n",
    "1.Validating input (e.g., checking if a user input meets a certain length requirement).\n",
    "2.Processing or manipulating text data (e.g., truncating strings, splitting long strings into smaller parts).\n",
    "3.Looping through characters in a string with a precise limit."
   ]
  },
  {
   "cell_type": "markdown",
   "id": "e8976177-c2fb-4d21-9179-fabd5002e6dd",
   "metadata": {},
   "source": [
    "2. How can you concatenate two or more strings in Python, and can you provide an example of string concatenation?"
   ]
  },
  {
   "cell_type": "code",
   "execution_count": 1,
   "id": "2027fed4-7876-4564-9d2a-5ab799f3dced",
   "metadata": {},
   "outputs": [
    {
     "name": "stdout",
     "output_type": "stream",
     "text": [
      "DataScience\n",
      "Hello world !\n"
     ]
    }
   ],
   "source": [
    "# by using + operator\n",
    "print(\"Data\"+\"Science\")\n",
    "#by using join\n",
    "words = [\"Hello\", \"world\", \"!\"]\n",
    "sentence = \" \".join(words)\n",
    "print(sentence)"
   ]
  },
  {
   "cell_type": "markdown",
   "id": "93680e40-895d-431e-ba2f-0d4fe3b7ecce",
   "metadata": {},
   "source": [
    "3. What is string slicing in Python, and how can you extract a portion of a string using this method?"
   ]
  },
  {
   "cell_type": "code",
   "execution_count": 3,
   "id": "dcff0d4c-416f-4761-bb7f-1886071a6cbd",
   "metadata": {},
   "outputs": [
    {
     "name": "stdout",
     "output_type": "stream",
     "text": [
      "The sliced string upto 12th index is: Data Science\n",
      "The reverse string is: esruoc IA evitareneG htiw ecneicS ataD\n",
      "The string at odd indexes: Dt cec ihGnrtv Icus\n"
     ]
    }
   ],
   "source": [
    "\"\"\"String slicing in Python refers to the process of extracting a substring from a larger string by specifying a range of \n",
    "indices. It allows you to retrieve a contiguous sequence of characters from a string.\"\"\"\n",
    "#syntax of slicing\n",
    "#string[start index:end index:step]\n",
    "s=\"Data Science with Generative AI course\"\n",
    "print(\"The sliced string upto 12th index is:\",s[0:12])\n",
    "print(\"The reverse string is:\", s[::-1])\n",
    "print(\"The string at odd indexes:\", s[::2])"
   ]
  },
  {
   "cell_type": "markdown",
   "id": "56cbd148-8a2e-4700-8532-9201e2f64b93",
   "metadata": {},
   "source": [
    "4. How can you change the case of a string in Python, and can you provide examples of both making a string all uppercase and all lowercase?"
   ]
  },
  {
   "cell_type": "code",
   "execution_count": 6,
   "id": "0dfe5d18-50e0-4ce4-a224-d708ab30a809",
   "metadata": {},
   "outputs": [
    {
     "name": "stdout",
     "output_type": "stream",
     "text": [
      "hello folks! i am learning data science\n",
      "HELLO FOLKS! I AM LEARNING DATA SCIENCE\n",
      "Hello folks! i am learning data science\n",
      "Hello Folks! I Am Learning Data Science\n"
     ]
    }
   ],
   "source": [
    "\"\"\"We can change the case of a string in python using inbuit functions lower(), upper(), \n",
    "capitalise()(First word gets capitalised), title()(sentence case)\"\"\"\n",
    "\n",
    "s1=\"Hello folks! I am learning data science\"\n",
    "sub_st1=s1.lower()\n",
    "print(sub_st1)\n",
    "sub_st2=s1.upper()\n",
    "print(sub_st2)\n",
    "sub_st3=s1.capitalize()\n",
    "print(sub_st3)\n",
    "sub_st4=s1.title()\n",
    "print(sub_st4)"
   ]
  },
  {
   "cell_type": "markdown",
   "id": "c0b37b4e-59a0-424a-b162-8ad147525cef",
   "metadata": {},
   "source": [
    "5.What does the split() method do in Python, and how can you split a string using a specific delimiter?"
   ]
  },
  {
   "cell_type": "code",
   "execution_count": 8,
   "id": "cee7a96b-772c-4255-b37e-787b1f3ede00",
   "metadata": {},
   "outputs": [
    {
     "name": "stdout",
     "output_type": "stream",
     "text": [
      "['Hello', 'folks!', 'I', 'am', 'learning', 'data', 'science']\n",
      "\n",
      "['apple', 'mango', 'banana', 'kiwi', 'orange']\n"
     ]
    }
   ],
   "source": [
    "\"\"\"In Python, the split() method is a built-in method used to split a string into a list of substrings based on a specified delimiter. The split() method takes an optional delimiter argument and returns a list of substrings obtained by splitting \n",
    "the original string wherever the delimiter occurs.\"\"\"\n",
    "\n",
    "st=\"Hello folks! I am learning data science\"\n",
    "words=st.split(\" \")\n",
    "print(words)\n",
    "print()\n",
    "st2= \"apple*mango*banana*kiwi*orange\"\n",
    "words2=st2.split(\"*\")\n",
    "print(words2)"
   ]
  },
  {
   "cell_type": "code",
   "execution_count": null,
   "id": "f4d3b7ed-c514-4ac3-bdcd-b2d37418371a",
   "metadata": {},
   "outputs": [],
   "source": []
  }
 ],
 "metadata": {
  "kernelspec": {
   "display_name": "Python 3 (ipykernel)",
   "language": "python",
   "name": "python3"
  },
  "language_info": {
   "codemirror_mode": {
    "name": "ipython",
    "version": 3
   },
   "file_extension": ".py",
   "mimetype": "text/x-python",
   "name": "python",
   "nbconvert_exporter": "python",
   "pygments_lexer": "ipython3",
   "version": "3.10.8"
  }
 },
 "nbformat": 4,
 "nbformat_minor": 5
}
