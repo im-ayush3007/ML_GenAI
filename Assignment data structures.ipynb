{
 "cells": [
  {
   "cell_type": "markdown",
   "id": "a217d4bd-f110-410c-8f64-21831d0aef94",
   "metadata": {},
   "source": [
    "PW Skills Assignment Solutions\n",
    "Assignment-06 Python Data Structures"
   ]
  },
  {
   "cell_type": "markdown",
   "id": "50455139-5866-4e60-9b7d-f9ab55a4a526",
   "metadata": {},
   "source": [
    " 1. Why might you choose a deque from the collections module to implement a queue instead of using a regular Python list?"
   ]
  },
  {
   "cell_type": "markdown",
   "id": "19d1359b-b0ad-46d5-9ddd-93c3cb346915",
   "metadata": {},
   "source": [
    "deque is used from collection module because of the following reasons:\n",
    "1. It is double sided queue which helps us to list data in stack(LIFO) and queue(FIFO)\n",
    "2. It is fast then regular python list\n",
    "3. It appends and pops from both left and right"
   ]
  },
  {
   "cell_type": "markdown",
   "id": "20350ae4-64bd-4504-a2e5-2013d42d1a5f",
   "metadata": {},
   "source": [
    "2.Can you explain a real-world scenario where using a stack would be a more practical choice than a list for data storage and retrieval?"
   ]
  },
  {
   "cell_type": "markdown",
   "id": "0e9c0514-1545-4726-82f2-3c1a98b83f2f",
   "metadata": {},
   "source": [
    "Web browsing history:\n",
    "1.As we navigate through the back button we get previous pages in LIFO(Last In First Out) format\n",
    "2.ease of seraching as recent pages are on the top of stack\n",
    "3.ease to add and delete (append and pop) pages through browsing history\n",
    "4.When the stack reaches its maximum capacity, pushing a new page automatically removes the oldest page from the history."
   ]
  },
  {
   "cell_type": "markdown",
   "id": "f4105c82-8ee9-4034-a49e-e6afbfe5e8d1",
   "metadata": {},
   "source": [
    "3. What is the primary advantage of using sets in Python, and in what type of problem-solving scenarios are they most useful?"
   ]
  },
  {
   "cell_type": "markdown",
   "id": "2da70ceb-2335-4152-a5e6-663942256ac7",
   "metadata": {},
   "source": [
    "The primary advantage of using sets in python are efficiently remove duplicate values from a list or tuple and to perform common math operations like unions and intersections. It is used to count unique elements."
   ]
  },
  {
   "cell_type": "markdown",
   "id": "74afe921-e5bc-439b-827e-770b1aa7d8cb",
   "metadata": {},
   "source": [
    "4. When might you choose to use an array instead of a list for storing numerical data in Python? What benefits do arrays offer in this context?"
   ]
  },
  {
   "cell_type": "markdown",
   "id": "4386e0a7-dce0-47bc-8284-499dd590ab23",
   "metadata": {},
   "source": [
    "While doing mathematical calculations, I will choose an array over a list to store numerical data in python calling the numpy library.\n",
    "Benefits offered by arrays are:\n",
    "1. faster and more memory sfficient than lists\n",
    "2. built in mathematical functions like sum(), max(), min() etc. can be applied easily.\n",
    "3. Arrays process data dynamically as they store the data in contigous memory locations\n",
    "4. As array stores one type of data, it is ideal for numerical calculations"
   ]
  },
  {
   "cell_type": "markdown",
   "id": "9f7ed38f-f331-41e1-ae37-a5e21e03ba6b",
   "metadata": {},
   "source": [
    "5. In Python, what's the primary difference between dictionaries and lists, and how does this difference impact their use cases in programming?"
   ]
  },
  {
   "cell_type": "markdown",
   "id": "b4eeb9b2-20fd-4542-a7b9-8e26bed78d0b",
   "metadata": {},
   "source": [
    "A list is an ordered collection of items, whereas a dictionary is an unordered data collection in a key: value pair. Elements from the list can be accessed using the index, while the elements of the dictionary can be accessed using keys.\n",
    "\n",
    "Feature          \t  Dictionaries\t                                                   Lists\n",
    "1.Data Structure\t  Collection of key-value pairs\t                                   Ordered collection of items\n",
    "2.Access\t          Access by keys\t                                               Access by index position\n",
    "3.Ordering\t          Maintains insertion order (Python 3.7+)\t                       Maintains insertion order\n",
    "4.Uniqueness\t      Keys must be unique\t                                           Duplicate values are allowed\n",
    "5.Use Cases\t-         Associative arrays <br> - Fast lookup, insertion, deletion\t   Sequential access <br> - Ordered                                                                                              collection"
   ]
  },
  {
   "cell_type": "code",
   "execution_count": null,
   "id": "a9f3b76e-f4c4-40f1-a837-6bdc549baa03",
   "metadata": {},
   "outputs": [],
   "source": []
  }
 ],
 "metadata": {
  "kernelspec": {
   "display_name": "Python 3 (ipykernel)",
   "language": "python",
   "name": "python3"
  },
  "language_info": {
   "codemirror_mode": {
    "name": "ipython",
    "version": 3
   },
   "file_extension": ".py",
   "mimetype": "text/x-python",
   "name": "python",
   "nbconvert_exporter": "python",
   "pygments_lexer": "ipython3",
   "version": "3.10.8"
  }
 },
 "nbformat": 4,
 "nbformat_minor": 5
}
