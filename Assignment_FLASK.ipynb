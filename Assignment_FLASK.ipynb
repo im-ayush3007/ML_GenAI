{
  "nbformat": 4,
  "nbformat_minor": 0,
  "metadata": {
    "colab": {
      "provenance": []
    },
    "kernelspec": {
      "name": "python3",
      "display_name": "Python 3"
    },
    "language_info": {
      "name": "python"
    }
  },
  "cells": [
    {
      "cell_type": "code",
      "execution_count": null,
      "metadata": {
        "id": "V_bojeSdYKJ0"
      },
      "outputs": [],
      "source": []
    },
    {
      "cell_type": "markdown",
      "source": [
        "FLASK ASSIGNMENT"
      ],
      "metadata": {
        "id": "nfvYS8DXYwRP"
      }
    },
    {
      "cell_type": "markdown",
      "source": [
        "1. What is a Web API?\n",
        "\n",
        "A Web API (Application Programming Interface) is a set of rules that allows different applications to communicate over the internet using HTTP requests. It enables web applications to exchange data and services without requiring direct database access.\n"
      ],
      "metadata": {
        "id": "KehMsatcYKv6"
      }
    },
    {
      "cell_type": "markdown",
      "source": [
        "\n",
        "2. How does a Web API differ from a Web Service?\n",
        "\n",
        "A Web API is a broad concept that includes RESTful APIs and other communication methods, while a Web Service is a specific type of API that follows standards like SOAP for structured data exchange. Web APIs are often REST-based and lightweight, whereas web services typically use XML and require strict protocols.\n"
      ],
      "metadata": {
        "id": "idSMPv1BY7oz"
      }
    },
    {
      "cell_type": "markdown",
      "source": [
        "\n",
        "3. What are the benefits of using Web APIs in software development?\n",
        "\n",
        "Web APIs provide several advantages, including:\n",
        " Scalability - Allows different systems to communicate efficiently.\n",
        " Interoperability - Supports multiple platforms and languages.\n",
        " Reusability - Developers can reuse APIs across different projects.\n",
        " Security - Controlled access via authentication mechanisms like OAuth or API keys.\n"
      ],
      "metadata": {
        "id": "V0hi6kfOZOzp"
      }
    },
    {
      "cell_type": "markdown",
      "source": [
        "4. Explain the difference between SOAP and RESTful APIs.\n",
        "\n",
        "SOAP (Simple Object Access Protocol):\n",
        "\n",
        "  Uses XML for request and response messages.\n",
        "\n",
        "  Strict standards and requires more bandwidth.\n",
        "\n",
        "  Supports transactions and security (WS-Security).\n",
        "\n",
        "REST (Representational State Transfer):\n",
        "\n",
        "  Uses lightweight formats like JSON and XML.\n",
        "\n",
        "  Stateless architecture, making it faster and scalable.\n",
        "\n",
        "  Commonly used in modern web applications and mobile apps.\n"
      ],
      "metadata": {
        "id": "7E0pETnxZp0R"
      }
    },
    {
      "cell_type": "markdown",
      "source": [
        "\n",
        "5. What is JSON and how is it commonly used in Web APIs?\n",
        "\n",
        "JSON (JavaScript Object Notation) is a lightweight data format used for storing and exchanging data. It is commonly used in Web APIs because it is human-readable, easy to parse, and works well with JavaScript and other programming languages. APIs often return JSON-formatted data in response to HTTP requests.\n",
        "\n",
        "Example JSON response from an API:\n",
        "\n",
        "json\n",
        "{\n",
        "  \"name\": \"John Doe\",\n",
        "  \"email\": \"johndoe@example.com\",\n",
        "  \"age\": 30\n",
        "}\n"
      ],
      "metadata": {
        "id": "JaBf3_L_aLv7"
      }
    },
    {
      "cell_type": "markdown",
      "source": [
        "\n",
        "6. Can you name some popular Web API protocols other than REST?\n",
        "\n",
        "Apart from REST, other popular Web API protocols include:\n",
        "\n",
        "GraphQL – Allows clients to request only the data they need, reducing over-fetching.\n",
        "\n",
        "SOAP – A protocol using XML-based messaging.\n",
        "\n",
        "gRPC – Uses Protocol Buffers and is faster than REST for large-scale applications.\n",
        "\n",
        "XML-RPC – A remote procedure call using XML over HTTP.\n"
      ],
      "metadata": {
        "id": "hUmv7KzFadx1"
      }
    },
    {
      "cell_type": "markdown",
      "source": [
        "\n",
        "7. What role do HTTP methods (GET, POST, PUT, DELETE, etc.) play in Web API development?\n",
        "HTTP methods define the type of action performed on a resource:\n",
        "\n",
        "GET → Retrieves data (e.g., fetching user details).\n",
        "\n",
        "POST → Creates new data (e.g., adding a new user).\n",
        "\n",
        "PUT → Updates existing data (e.g., modifying user details).\n",
        "\n",
        "DELETE → Removes data (e.g., deleting a user account).\n",
        "\n",
        "These methods help maintain a structured CRUD (Create, Read, Update, Delete) workflow in Web API operations.\n"
      ],
      "metadata": {
        "id": "A6FljKaNaqsZ"
      }
    },
    {
      "cell_type": "markdown",
      "source": [
        "\n",
        "8. What is the purpose of authentication and authorization in Web APIs?\n",
        "\n",
        "Authentication verifies who you are (e.g., using API keys, JWT tokens, or OAuth).\n",
        "\n",
        "Authorization defines what you can do (e.g., limiting access based on user roles).\n",
        "\n",
        "Example: A user logs into an application using OAuth, and the system verifies their identity (authentication). Then, based on their role, they can access specific resources (authorization).\n"
      ],
      "metadata": {
        "id": "dDwvTRalawFs"
      }
    },
    {
      "cell_type": "markdown",
      "source": [
        "\n",
        "9. How can you handle versioning in Web API development?\n",
        "\n",
        "To avoid breaking changes, API versioning helps maintain backward compatibility. Common versioning techniques include:\n",
        "\n",
        "URL Versioning: /api/v1/users\n",
        "\n",
        "Query Parameter Versioning: /users?version=2\n",
        "\n",
        "Header Versioning: Accept: application/vnd.example.v2+json\n",
        "\n",
        "This ensures clients can use different API versions without disruptions.\n"
      ],
      "metadata": {
        "id": "gZa6DMoga46X"
      }
    },
    {
      "cell_type": "markdown",
      "source": [
        "\n",
        "10. What are the main components of an HTTP request and response in the context of Web APIs?\n",
        "\n",
        "The main components of an HTTP request and response in the context of Web APIs are:\n",
        "\n",
        "🔹 HTTP Request Components:\n",
        "\n",
        "Method (e.g., GET, POST, PUT, DELETE)\n",
        "\n",
        "URL (e.g., https://api.example.com/users)\n",
        "\n",
        "Headers (e.g., Authorization: Bearer token123)\n",
        "\n",
        "Body (contains data, usually in JSON format for POST/PUT requests)\n",
        "\n",
        "🔹 HTTP Response Components:\n",
        "\n",
        "Status Code (e.g., 200 OK, 404 Not Found, 500 Internal Server Error)\n",
        "\n",
        "Headers (e.g., Content-Type: application/json)\n",
        "\n",
        "Body (returns requested data or an error message)"
      ],
      "metadata": {
        "id": "AzVb5Mcqa-G1"
      }
    },
    {
      "cell_type": "markdown",
      "source": [
        "11. Describe the concept of rate limiting in the context of Web APIs.\n",
        "\n",
        "Rate limiting restricts the number of API requests a user or system can make within a specific time frame (e.g., 100 requests per minute). It prevents abuse, excessive load, and ensures fair resource usage. Implemented using techniques like token bucket, leaky bucket, or fixed window counters.\n",
        "\n",
        "12. How can you handle errors and exceptions in Web API responses?\n",
        "\n",
        "APIs should return structured error responses with proper HTTP status codes and messages. Example:\n",
        "\n",
        "400 Bad Request → Invalid input\n",
        "\n",
        "401 Unauthorized → Invalid credentials\n",
        "\n",
        "500 Internal Server Error → Server issue\n",
        "\n",
        "APIs can use error objects in JSON:\n",
        "\n",
        "json\n",
        "Copy\n",
        "Edit\n",
        "{\n",
        "  \"error\": \"Invalid API key\",\n",
        "  \"status\": 401\n",
        "}\n",
        "Logging and monitoring tools help diagnose issues.\n",
        "\n",
        "13. Explain the concept of statelessness in RESTful Web APIs.\n",
        "\n",
        "RESTful APIs are stateless, meaning each request from a client must contain all the necessary information. The server does not store client session data, making REST scalable, fast, and independent.\n",
        "\n",
        "Example: Instead of maintaining login sessions, APIs use JWT tokens for authentication.\n",
        "\n",
        "14.  What are the best practices for designing and documenting Web APIs?\n",
        "\n",
        "✅ Use RESTful principles - Organize resources properly (/users, /orders).\n",
        "✅ Follow standard HTTP methods - GET, POST, PUT, DELETE.\n",
        "✅ Use proper status codes - 200 OK, 404 Not Found, 500 Internal Server Error.\n",
        "✅ Implement authentication & security - Use API keys, OAuth, or JWT.\n",
        "✅ Provide clear documentation - Use tools like Swagger/OpenAPI.\n",
        "✅ Ensure versioning - /api/v1/users to avoid breaking changes.\n",
        "\n",
        "15. What role do API keys and tokens play in securing Web APIs?\n",
        "\n",
        "API keys and tokens authenticate and authorize API requests.\n",
        "\n",
        "API Key: A unique identifier for each user or application.\n",
        "\n",
        "JWT (JSON Web Token): A signed token containing user data for secure stateless authentication.\n",
        "\n",
        "OAuth Tokens: Used for third-party authorization, such as logging in via Google/Facebook.\n",
        "\n",
        "Example:\n",
        "\n",
        "http\n",
        "Copy\n",
        "Edit\n",
        "Authorization: Bearer eyJhbGciOiJIUzI1...\n",
        "API keys should be rotated and never exposed in front-end applications.\n",
        "\n",
        "16. What is REST, and what are its key principles?\n",
        "\n",
        "REST (Representational State Transfer) is an architectural style for building APIs. Key principles:\n",
        "\n",
        "Stateless – No client session stored on the server.\n",
        "\n",
        "Client-Server Architecture – Separation of concerns.\n",
        "\n",
        "Uniform Interface – Consistent API structure.\n",
        "\n",
        "Cacheable – Improves performance with caching.\n",
        "\n",
        "Layered System – Multiple security layers.\n",
        "\n",
        "Code on Demand (Optional) – Servers send executable code to clients.\n",
        "\n",
        "17. Explain the difference between RESTful APIs and traditional web services.\n",
        "\n",
        "Feature\tRESTful API\tTraditional Web Services (SOAP)\n",
        "Protocol\tUses HTTP\tUses SOAP (XML-based)\n",
        "Data Format\tJSON, XML\tOnly XML\n",
        "Performance\tFaster, lightweight\tHeavier due to XML\n",
        "Security\tOAuth, JWT\tWS-Security (built-in)\n",
        "Flexibility\tCan use different formats\tStrict XML format\n",
        "\n",
        "18. What are the main HTTP methods used in RESTful architecture, and what are their purposes?\n",
        "\n",
        "GET → Retrieve data (GET /users/123)\n",
        "\n",
        "POST → Create new data (POST /users)\n",
        "\n",
        "PUT → Update existing data (PUT /users/123)\n",
        "\n",
        "DELETE → Remove data (DELETE /users/123)\n",
        "\n",
        "PATCH → Partially update data (PATCH /users/123)\n",
        "\n",
        "19. Describe the concept of statelessness in RESTful APIs.\n",
        "\n",
        "Each request is independent and must contain all necessary information. The server does not store session data, making APIs scalable and efficient.\n",
        "\n",
        "Example: Instead of sessions, RESTful APIs use JWT authentication for user verification.\n",
        "\n",
        "20. What is the significance of URIs (Uniform Resource Identifiers) in RESTful API design?\n",
        "\n",
        "URIs uniquely identify resources in a REST API. A well-structured URI follows a predictable format:\n",
        "\n",
        "✅ /api/v1/users → Fetch all users\n",
        "\n",
        "✅ /api/v1/users/123 → Fetch user with ID 123\n",
        "\n",
        "URIs should be descriptive, hierarchical, and avoid verbs (e.g., use /users instead of /getUsers).\n",
        "\n",
        "21. Explain the role of hypermedia in RESTful APIs. How does it relate to HATEOAS?\n",
        "\n",
        "Hypermedia provides links within API responses to guide clients dynamically. HATEOAS (Hypermedia as the Engine of Application State) ensures APIs return navigation links for available actions.\n",
        "\n",
        "Example JSON response using HATEOAS:\n",
        "\n",
        "json\n",
        "Copy\n",
        "Edit\n",
        "{\n",
        "  \"user\": { \"id\": 123, \"name\": \"Alice\" },\n",
        "  \"links\": [\n",
        "    { \"rel\": \"self\", \"href\": \"/api/users/123\" },\n",
        "    { \"rel\": \"orders\", \"href\": \"/api/users/123/orders\" }\n",
        "  ]\n",
        "}\n",
        "This improves discoverability and adaptability of APIs.\n",
        "\n",
        "22. What are the benefits of using RESTful APIs over other architectural styles?\n",
        "\n",
        "✅ Scalability – Stateless nature enables load balancing.\n",
        "✅ Performance – Supports caching and lightweight JSON format.\n",
        "✅ Flexibility – Works with multiple data formats (JSON, XML).\n",
        "✅ Interoperability – Supports multiple programming languages.\n",
        "✅ Security – Can implement OAuth, JWT, API keys.\n",
        "\n",
        "23. Discuss the concept of resource representations in RESTful APIs.\n",
        "\n",
        "Resource representation refers to the format in which data is exchanged between clients and servers (e.g., JSON, XML). A single resource may have multiple representations:\n",
        "\n",
        "JSON Representation:\n",
        "\n",
        "json\n",
        "Copy\n",
        "Edit\n",
        "{ \"id\": 1, \"name\": \"Laptop\", \"price\": 999.99 }\n",
        "XML Representation:\n",
        "\n",
        "xml\n",
        "Copy\n",
        "Edit\n",
        "<product>\n",
        "  <id>1</id>\n",
        "  <name>Laptop</name>\n",
        "  <price>999.99</price>\n",
        "</product>\n",
        "APIs use content negotiation (Accept: application/json) to return the appropriate format.\n",
        "\n",
        "24. How does REST handle communication between clients and servers?\n",
        "\n",
        "REST uses HTTP as the communication protocol. Clients send requests to a server using URLs, methods (GET, POST, PUT, DELETE), and headers. The server processes the request and responds with JSON or XML data.\n",
        "\n",
        "Example: Fetching user data\n",
        "\n",
        "http\n",
        "Copy\n",
        "Edit\n",
        "GET /api/users/123 HTTP/1.1\n",
        "Host: example.com\n",
        "Accept: application/json\n",
        "Response:\n",
        "\n",
        "json\n",
        "Copy\n",
        "Edit\n",
        "{\n",
        "  \"id\": 123,\n",
        "  \"name\": \"John Doe\",\n",
        "  \"email\": \"john@example.com\"\n",
        "}\n",
        "\n",
        "25. What are the common data formats used in RESTful API communication?\n",
        "\n",
        "The most common formats include:\n",
        "\n",
        "JSON (JavaScript Object Notation) – Lightweight, widely used.\n",
        "\n",
        "XML (eXtensible Markup Language) – Structured but heavier.\n",
        "\n",
        "YAML – Human-readable, sometimes used for configuration.\n",
        "\n",
        "Protocol Buffers (protobuf) – Used in gRPC for efficient binary serialization.\n",
        "\n",
        "APIs use content negotiation via headers (Accept: application/json) to determine the response format."
      ],
      "metadata": {
        "id": "sI6kzICRbwiv"
      }
    },
    {
      "cell_type": "markdown",
      "source": [
        "26. Explain the importance of status codes in RESTful API responses.\n",
        "\n",
        "Status codes indicate the outcome of API requests and help clients understand the response. Common codes include:\n",
        "\n",
        "200 OK - Success\n",
        "\n",
        "201 Created - Resource created\n",
        "\n",
        "400 Bad Request - Invalid request format\n",
        "\n",
        "401 Unauthorized - Authentication required\n",
        "\n",
        "404 Not Found – Resource doesn’t exist\n",
        "\n",
        "500 Internal Server Error – Server-side issue\n",
        "\n",
        "Proper use of status codes improves API reliability and debugging.\n",
        "\n",
        "27. Describe the process of versioning in RESTful API development.\n",
        "\n",
        "API versioning prevents breaking changes and maintains compatibility. Common methods include:\n",
        "\n",
        "URI Versioning → /api/v1/users\n",
        "\n",
        "Header Versioning → Accept: application/vnd.example.v1+json\n",
        "\n",
        "Query Parameter Versioning → /users?version=1\n",
        "Versioning allows smooth transitions between API updates.\n",
        "\n",
        "28. How can you ensure security in RESTful API development? What are common authentication methods?\n",
        "\n",
        "To secure RESTful APIs:\n",
        "✅ Use HTTPS – Encrypts data.\n",
        "\n",
        "✅ Authenticate requests – API keys, OAuth, JWT.\n",
        "\n",
        "✅ Limit request rates – Prevent abuse.\n",
        "\n",
        "✅ Validate inputs – Prevent SQL injection & XSS.\n",
        "\n",
        "✅ Use role-based access control (RBAC).\n",
        "\n",
        "Common authentication methods:\n",
        "\n",
        "API Keys – Simple but less secure.\n",
        "\n",
        "OAuth 2.0 – Token-based authentication for third-party apps.\n",
        "\n",
        "JWT (JSON Web Token) – Secure, stateless authentication.\n",
        "\n",
        "29. What are some best practices for documenting RESTful APIs?\n",
        "\n",
        "✅ Use OpenAPI (Swagger) – Standardized API documentation.\n",
        "✅ Provide clear endpoints and parameters – Example: /users/{id}.\n",
        "✅ Describe HTTP methods – GET, POST, PUT, DELETE.\n",
        "✅ Include request and response examples.\n",
        "✅ Document authentication requirements.\n",
        "✅ Explain error codes – 400 Bad Request, 401 Unauthorized.\n",
        "\n",
        "30. What considerations should be made for error handling in RESTful APIs?\n",
        "\n",
        "Return proper HTTP status codes – 400 Bad Request, 500 Internal Server Error.\n",
        "\n",
        "Provide meaningful error messages in JSON format:\n",
        "\n"
      ],
      "metadata": {
        "id": "lHiulfPseBjN"
      }
    },
    {
      "cell_type": "code",
      "source": [
        "json{ \"error\": \"Invalid API Key\", \"status\": 401 }\n"
      ],
      "metadata": {
        "id": "mmkSbhO4fGmB"
      },
      "execution_count": null,
      "outputs": []
    },
    {
      "cell_type": "markdown",
      "source": [
        "\n",
        "\n",
        "Log errors for debugging.\n",
        "\n",
        "Use global exception handling to prevent crashes.\n",
        "\n",
        "31. What is SOAP, and how does it differ from REST?\n",
        "\n",
        "SOAP (Simple Object Access Protocol) is a protocol used for exchanging structured information in web services. It relies on XML for message formatting and typically uses HTTP, SMTP, or other transport protocols for communication.\n",
        "\n",
        "SOAP vs REST: Key Differences\n",
        "\n",
        "1️⃣ Type\n",
        "\n",
        "SOAP is a protocol with strict messaging rules.\n",
        "\n",
        "REST is an architectural style that follows standard web principles.\n",
        "\n",
        "2️⃣ Data Format\n",
        "\n",
        "SOAP only uses XML for requests and responses.\n",
        "\n",
        "REST supports multiple formats like JSON, XML, HTML, and plain text.\n",
        "\n",
        "3️⃣ Performance\n",
        "\n",
        "SOAP is slower due to its complex XML structure.\n",
        "\n",
        "REST is faster and lightweight, making it ideal for web and mobile applications.\n",
        "\n",
        "4️⃣ Security\n",
        "\n",
        "SOAP has built-in security features like WS-Security and supports ACID transactions.\n",
        "\n",
        "REST relies on security mechanisms like HTTPS, OAuth, and JWT tokens.\n",
        "\n",
        "5️⃣ State Handling\n",
        "\n",
        "SOAP can be stateful (maintains session data) or stateless.\n",
        "\n",
        "REST is always stateless, meaning each request is independent.\n",
        "\n",
        "6️⃣ Transport Protocol\n",
        "\n",
        "SOAP works over multiple protocols like HTTP, SMTP, and TCP.\n",
        "\n",
        "REST only works over HTTP, making it simpler and more web-friendly.\n",
        "\n",
        "7️⃣ Use Cases\n",
        "\n",
        "SOAP is used in banking, payment gateways, and enterprise applications where security and reliability are critical.\n",
        "\n",
        "REST is widely used in web applications, mobile apps, and cloud-based APIs due to its speed and scalability.\n",
        "\n",
        "\n",
        "32. Describe the structure of a SOAP message.\n",
        "\n",
        "A SOAP message is XML-based and consists of:\n",
        "\n",
        "Envelope – Root element\n",
        "\n",
        "Header – Metadata (optional)\n",
        "\n",
        "Body – Contains request or response\n",
        "\n",
        "Fault – Handles errors\n",
        "\n",
        "Example:\n",
        "\n",
        "xml"
      ],
      "metadata": {
        "id": "KgwRFej4fjCy"
      }
    },
    {
      "cell_type": "code",
      "source": [
        "\n",
        "<soapenv:Envelope xmlns:soapenv=\"http://schemas.xmlsoap.org/soap/envelope/\">\n",
        "   <soapenv:Header/>\n",
        "   <soapenv:Body>\n",
        "      <GetUser>\n",
        "         <UserId>123</UserId>\n",
        "      </GetUser>\n",
        "   </soapenv:Body>\n",
        "</soapenv:Envelope>\n",
        "\n"
      ],
      "metadata": {
        "id": "ArKVnpL2fwPi"
      },
      "execution_count": null,
      "outputs": []
    },
    {
      "cell_type": "markdown",
      "source": [
        "\n",
        "33. How does SOAP handle communication between clients and servers?\n",
        "SOAP communicates via XML messages over HTTP, SMTP, or TCP. A client sends a SOAP request, and the server responds with structured XML data. Uses WSDL (Web Services Description Language) to define available operations.\n",
        "\n",
        "34. What are the advantages and disadvantages of using SOAP-based web services?\n",
        "\n",
        "✅ Advantages:\n",
        "\n",
        "Strong security (WS-Security).\n",
        "\n",
        "Supports ACID transactions.\n",
        "\n",
        "Works over multiple protocols (HTTP, SMTP, TCP).\n",
        "\n",
        "❌ Disadvantages:\n",
        "\n",
        "Slower due to XML overhead.\n",
        "\n",
        "More complex compared to REST.\n",
        "\n",
        "Less flexible (only XML format).\n",
        "\n",
        "35. How does SOAP ensure security in web service communication?\n",
        "SOAP uses WS-Security for:\n",
        "\n",
        "Authentication – Uses XML Signatures.\n",
        "\n",
        "Encryption – Secures sensitive data.\n",
        "\n",
        "Message Integrity – Ensures no data tampering.\n",
        "\n",
        "Supports SSL/TLS, SAML, and OAuth for added security.\n",
        "\n",
        "36. What is Flask, and what makes it different from other web frameworks?\n",
        "\n",
        "Flask is a lightweight Python web framework for building web applications and APIs.\n",
        "\n",
        "🔹 Differences from other frameworks:\n",
        "\n",
        "Minimalistic – Does not enforce project structure.\n",
        "\n",
        "Extensible – Can add features like authentication, database support.\n",
        "\n",
        "Micro-framework – Smaller than Django but highly customizable.\n",
        "\n",
        "Easy to learn – Simple routing and templating system.\n",
        "\n",
        "37. Describe the basic structure of a Flask application.\n",
        "A basic Flask app has:\n",
        "\n",
        "Main application file (app.py)\n",
        "\n",
        "Routes (Endpoints for requests)\n",
        "\n",
        "Templates (HTML files in /templates folder)\n",
        "\n",
        "Example:\n",
        "\n"
      ],
      "metadata": {
        "id": "1z2IGktAfwek"
      }
    },
    {
      "cell_type": "code",
      "source": [
        "from flask import Flask\n",
        "app = Flask(__name__)\n",
        "@app.route('/')\n",
        "def home():\n",
        "    return \"Hello, Flask!\"\n",
        "if __name__ == '__main__':\n",
        "    app.run(debug=True)"
      ],
      "metadata": {
        "id": "G5P2qsvIjBhZ"
      },
      "execution_count": null,
      "outputs": []
    },
    {
      "cell_type": "markdown",
      "source": [
        "\n",
        "38. How do you install Flask on your local machine?\n",
        "\n",
        "Open Terminal/Command Prompt: Navigate to your project directory in the terminal or command prompt.\n",
        "Activate Virtual Environment (if using): If you're using a virtual environment, activate it using commands like source venv/bin/activate (Linux/macOS) or venv\\Scripts\\activate (Windows).\n",
        "\n",
        "Install Flask: Run the following command: pip install flask.\n",
        "Verify Installation: You can check the installation by running flask --version.\n",
        "\n"
      ],
      "metadata": {
        "id": "j0PcJFqhi_mh"
      }
    },
    {
      "cell_type": "code",
      "source": [
        "\n",
        "# Install Flask\n",
        "pip install flask\n",
        "\n",
        "# Verify installation\n",
        "flask --version"
      ],
      "metadata": {
        "id": "HnaXNmNEhlmT"
      },
      "execution_count": null,
      "outputs": []
    },
    {
      "cell_type": "markdown",
      "source": [
        "\n",
        "39. Explain the concept of routing in Flask.\n",
        "\n",
        "Routing in Flask refers to mapping URLs (Uniform Resource Locators) to specific Python functions that handle web requests. When a user accesses a specific URL in a web browser, Flask directs the request to the corresponding function, which processes the request and returns a response.\n",
        "\n",
        "Example:"
      ],
      "metadata": {
        "id": "EkhkHPKGhjCR"
      }
    },
    {
      "cell_type": "code",
      "source": [
        "from flask import Flask\n",
        "\n",
        "app = Flask(__name__)\n",
        "\n",
        "@app.route('/')\n",
        "def home():\n",
        "    return \"Welcome to the Home Page!\"\n",
        "\n",
        "if __name__ == '__main__':\n",
        "    app.run(debug=True)\n"
      ],
      "metadata": {
        "id": "erwmuLmfgUnf"
      },
      "execution_count": null,
      "outputs": []
    },
    {
      "cell_type": "markdown",
      "source": [
        "\n",
        "Static Route: /about → Fixed URL.\n",
        "\n",
        "Dynamic Route: /user/<name> → Handles variables.\n",
        "\n",
        "40. What are Flask templates, and how are they used in web development?\n",
        "\n",
        "Flask templates are used to generate dynamic HTML content for web applications. They allow developers to separate the logic (Python code) from the presentation (HTML), making it easier to maintain and scale applications.\n",
        "\n",
        "Flask uses Jinja2 templates to generate dynamic HTML content. Templates allow embedding Python logic inside HTML files.\n",
        "\n",
        "Example (templates/index.html):\n"
      ],
      "metadata": {
        "id": "YoCCJxkkgZmM"
      }
    },
    {
      "cell_type": "code",
      "source": [
        "<!DOCTYPE html>\n",
        "<html>\n",
        "<head><title>Welcome</title></head>\n",
        "<body>\n",
        "    <h1>Hello, {{ name }}!</h1>\n",
        "</body>\n",
        "</html>"
      ],
      "metadata": {
        "id": "gyj1W-GOgdoz"
      },
      "execution_count": null,
      "outputs": []
    },
    {
      "cell_type": "code",
      "source": [
        "from flask import render_template\n",
        "\n",
        "@app.route('/user/<name>')\n",
        "def user(name):\n",
        "    return render_template('index.html', name=name)\n",
        "Flask templates help separate logic (Python) from presentation (HTML)."
      ],
      "metadata": {
        "id": "KFLCBt0ygcZo"
      },
      "execution_count": null,
      "outputs": []
    }
  ]
}