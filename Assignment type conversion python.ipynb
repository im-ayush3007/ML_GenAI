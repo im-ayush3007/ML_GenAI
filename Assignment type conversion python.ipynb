{
 "cells": [
  {
   "cell_type": "markdown",
   "id": "17d3b167-5126-4648-89aa-b791b81cd2e9",
   "metadata": {},
   "source": [
    "#Assignment Solutions\n",
    "### Assignment-01 Type Conversion"
   ]
  },
  {
   "cell_type": "markdown",
   "id": "f47297e0-7585-435b-9bd0-f9fb9b80f80c",
   "metadata": {},
   "source": [
    "1. Convert an integer to a floatig-point number"
   ]
  },
  {
   "cell_type": "code",
   "execution_count": 4,
   "id": "a60d8ebc-35a8-46ea-bf6b-80ac1dea3eab",
   "metadata": {},
   "outputs": [
    {
     "name": "stdin",
     "output_type": "stream",
     "text": [
      "Enter any integer number: 12\n"
     ]
    },
    {
     "name": "stdout",
     "output_type": "stream",
     "text": [
      "The converted floating number is: 12.0\n"
     ]
    }
   ],
   "source": [
    "num=int(input(\"Enter any integer number:\"))\n",
    "dec=float(num)\n",
    "print(\"The converted floating number is:\", dec)"
   ]
  },
  {
   "cell_type": "markdown",
   "id": "1ae71da2-2af4-4a95-b015-6cf358231327",
   "metadata": {},
   "source": [
    "2. Convert a float to an integer."
   ]
  },
  {
   "cell_type": "code",
   "execution_count": 3,
   "id": "b9f34b44-3f2c-4371-98af-ad967704abd7",
   "metadata": {},
   "outputs": [
    {
     "name": "stdin",
     "output_type": "stream",
     "text": [
      "Enter any decimal number: 3.42\n"
     ]
    },
    {
     "name": "stdout",
     "output_type": "stream",
     "text": [
      "The converted integer number is: 3\n"
     ]
    }
   ],
   "source": [
    "dec1=float(input(\"Enter any decimal number:\"))\n",
    "num1=int(dec1)\n",
    "print(\"The converted integer number is:\", num1)\n",
    "#It will convert to nearest lower integer number  "
   ]
  },
  {
   "cell_type": "markdown",
   "id": "62fa481f-030c-4559-aa06-a357dab3e69b",
   "metadata": {},
   "source": [
    "3. Convert an integer to a string."
   ]
  },
  {
   "cell_type": "code",
   "execution_count": 7,
   "id": "e81e8407-de3d-4978-99ee-bb0c27ac16e2",
   "metadata": {},
   "outputs": [
    {
     "name": "stdin",
     "output_type": "stream",
     "text": [
      "Enter any integer number: 34561\n"
     ]
    },
    {
     "name": "stdout",
     "output_type": "stream",
     "text": [
      "The converted string is: 34561 \n",
      " and its type is <class 'str'>\n"
     ]
    }
   ],
   "source": [
    "n=int(input(\"Enter any integer number:\"))\n",
    "str1=str(n)\n",
    "print(\"The converted string is:\", str1, \"\\n and its type is\", type(str1) )"
   ]
  },
  {
   "cell_type": "markdown",
   "id": "be9a76a5-8b3e-430e-92c0-94e66a8e9c6a",
   "metadata": {},
   "source": [
    "4. Convert a list to a tuple "
   ]
  },
  {
   "cell_type": "code",
   "execution_count": 10,
   "id": "1b1a7516-f12f-4773-b0ee-66996cd24493",
   "metadata": {},
   "outputs": [
    {
     "name": "stdout",
     "output_type": "stream",
     "text": [
      "The converted tuple is (1, 2, 3, 4, 5)\n"
     ]
    }
   ],
   "source": [
    "l=[1,2,3,4,5]\n",
    "tup=tuple(l)\n",
    "print(\"The converted tuple is\",tup)"
   ]
  },
  {
   "cell_type": "markdown",
   "id": "6c409519-e923-4921-8ff6-f4c622287175",
   "metadata": {},
   "source": [
    "5. Convert a tuple to a list"
   ]
  },
  {
   "cell_type": "code",
   "execution_count": 11,
   "id": "b1de4b07-199c-4f3c-ad72-40e2733767d2",
   "metadata": {},
   "outputs": [
    {
     "name": "stdout",
     "output_type": "stream",
     "text": [
      "The converted list is ['a', 'b', 'c', 'd', 'e']\n"
     ]
    }
   ],
   "source": [
    "tup1=('a','b','c','d','e')\n",
    "lst=list(tup1)\n",
    "print(\"The converted list is\", lst)"
   ]
  },
  {
   "cell_type": "markdown",
   "id": "a30657e6-f874-4f92-9b8d-02806f38baec",
   "metadata": {},
   "source": [
    "6. Convert a decimal number to binary"
   ]
  },
  {
   "cell_type": "code",
   "execution_count": 14,
   "id": "3e6db697-84ff-4ad8-89a1-452363559317",
   "metadata": {},
   "outputs": [
    {
     "name": "stdin",
     "output_type": "stream",
     "text": [
      "Enter any decimal number: 32\n"
     ]
    },
    {
     "name": "stdout",
     "output_type": "stream",
     "text": [
      "The binary of the number is: 0b100000\n"
     ]
    }
   ],
   "source": [
    "dec_num=int(input(\"Enter any decimal number:\"))\n",
    "bin_num=bin(dec_num)\n",
    "print(\"The binary of the number is:\", bin_num)"
   ]
  },
  {
   "cell_type": "markdown",
   "id": "5aba7810-2b37-4782-b162-7f3e80b4c02f",
   "metadata": {},
   "source": [
    "7. Convert a non-zero number to boolean"
   ]
  },
  {
   "cell_type": "code",
   "execution_count": 16,
   "id": "630139c4-90e1-414b-ae17-31ea2356671f",
   "metadata": {},
   "outputs": [
    {
     "name": "stdin",
     "output_type": "stream",
     "text": [
      "Enter any non-zero number: 6\n"
     ]
    },
    {
     "name": "stdout",
     "output_type": "stream",
     "text": [
      "The bollean of the number is: True\n"
     ]
    }
   ],
   "source": [
    "num1=float(input(\"Enter any non-zero number:\"))\n",
    "b=bool(num1)\n",
    "print(\"The bollean of the number is:\",b)"
   ]
  },
  {
   "cell_type": "code",
   "execution_count": null,
   "id": "08c52aa2-a3e2-4eda-9681-fcab21d44b52",
   "metadata": {},
   "outputs": [],
   "source": []
  }
 ],
 "metadata": {
  "kernelspec": {
   "display_name": "Python 3 (ipykernel)",
   "language": "python",
   "name": "python3"
  },
  "language_info": {
   "codemirror_mode": {
    "name": "ipython",
    "version": 3
   },
   "file_extension": ".py",
   "mimetype": "text/x-python",
   "name": "python",
   "nbconvert_exporter": "python",
   "pygments_lexer": "ipython3",
   "version": "3.10.8"
  }
 },
 "nbformat": 4,
 "nbformat_minor": 5
}
