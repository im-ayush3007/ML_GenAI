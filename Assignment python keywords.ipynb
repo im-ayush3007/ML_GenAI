{
 "cells": [
  {
   "cell_type": "markdown",
   "id": "de5e4d34-72c0-425a-90d1-c6e8717fbb8a",
   "metadata": {},
   "source": [
    "PW Skills Assignment Solutions\n",
    "Assignment-03 Python keywords,Identifiers, comments Indentation and Statements"
   ]
  },
  {
   "cell_type": "markdown",
   "id": "c334da34-90ff-44cb-9f17-b8eabafae676",
   "metadata": {},
   "source": [
    "1. Explain the significance of Python keywords and provide examples of five keywords"
   ]
  },
  {
   "cell_type": "markdown",
   "id": "91182bd7-c350-478f-a05f-0f3acb34e773",
   "metadata": {},
   "source": [
    "Python Keywords are some predefined and reserved words in Python that have special meanings. Keywords are used to define the syntax of the coding. The keyword cannot be used as an identifier, function, or variable name.\n",
    "\n",
    "Example- False, True, lambda, return, break"
   ]
  },
  {
   "cell_type": "code",
   "execution_count": 3,
   "id": "fa58a8fc-1ab1-483f-9c18-64efe96c0a3b",
   "metadata": {},
   "outputs": [
    {
     "name": "stdout",
     "output_type": "stream",
     "text": [
      "\n",
      "Here is a list of the Python keywords.  Enter any keyword to get more help.\n",
      "\n",
      "False               class               from                or\n",
      "None                continue            global              pass\n",
      "True                def                 if                  raise\n",
      "and                 del                 import              return\n",
      "as                  elif                in                  try\n",
      "assert              else                is                  while\n",
      "async               except              lambda              with\n",
      "await               finally             nonlocal            yield\n",
      "break               for                 not                 \n",
      "\n"
     ]
    }
   ],
   "source": [
    "help(\"keywords\")"
   ]
  },
  {
   "cell_type": "markdown",
   "id": "71d7a377-ffe8-46b3-9a33-f778df760fa1",
   "metadata": {},
   "source": [
    "2. Describe the rules for defining identifiers in Python and provide an example"
   ]
  },
  {
   "cell_type": "markdown",
   "id": "5c434499-e29b-4d4f-84c0-83da3e54143e",
   "metadata": {},
   "source": [
    "Rules for Naming an Identifier\n",
    "1.Identifiers cannot be a keyword.\n",
    "2.Identifiers are case-sensitive.\n",
    "3.It can have a sequence of letters and digits. ...\n",
    "4.It's a convention to start an identifier with a letter rather _ .\n",
    "5.Whitespaces are not allowed.\n",
    "6.We cannot use special symbols like !, @, #, $, and so o\n",
    "\n",
    "\n",
    "example- valid identifiers: ans, x1, first_num, Ans etc.\n",
    "        invalididentifiers: 1ans, @your, first num etc."
   ]
  },
  {
   "cell_type": "markdown",
   "id": "21326636-de7c-4d2b-a0cf-342ae05464f7",
   "metadata": {},
   "source": [
    "3. What are comments in Python, and why are they useful? Provide an example"
   ]
  },
  {
   "cell_type": "markdown",
   "id": "6e4b0da6-d8c3-4b6f-b2fd-ea4fc8a3a128",
   "metadata": {},
   "source": [
    "Comments in Python is the inclusion of short descriptions along with the code to increase its readability. A developer uses them to write his or her thought process while writing the code. It explains the basic logic behind why a particular line of code was written.\n",
    "\n",
    "Eg-"
   ]
  },
  {
   "cell_type": "code",
   "execution_count": 6,
   "id": "83f94d42-2588-4d7e-9994-b6464b419108",
   "metadata": {},
   "outputs": [
    {
     "name": "stdin",
     "output_type": "stream",
     "text": [
      "Enter the first number: 3\n",
      "Enter the second number: 5\n"
     ]
    },
    {
     "name": "stdout",
     "output_type": "stream",
     "text": [
      "The sum is: 8\n"
     ]
    }
   ],
   "source": [
    "#This is a program to add two numbers\n",
    "n1=int(input(\"Enter the first number:\")) #Input first number\n",
    "n2=int(input(\"Enter the second number:\"))#input second number\n",
    "add=n1+n2 #adding two numbers using sum function\n",
    "print(\"The sum is:\",add) #printing output"
   ]
  },
  {
   "cell_type": "markdown",
   "id": "d5e76587-3b9c-4667-a13e-b4bb432bb6a7",
   "metadata": {},
   "source": [
    "4. Why is proper indentation important in Python?"
   ]
  },
  {
   "cell_type": "markdown",
   "id": "7a824074-a7b5-40da-b7f8-2a37614a773d",
   "metadata": {},
   "source": [
    "Python uses indentation to indicate a block of code. It aslo improves readability of code."
   ]
  },
  {
   "cell_type": "markdown",
   "id": "0dc3b8d1-20b9-4284-90a8-e594888e945f",
   "metadata": {},
   "source": [
    "5. What happens if indentation is incorrect in Python?"
   ]
  },
  {
   "cell_type": "markdown",
   "id": "f7e1bcf3-ea26-43e1-b522-845121d8b4e1",
   "metadata": {},
   "source": [
    "Python is a procedural language, so indentation error will occur"
   ]
  },
  {
   "cell_type": "markdown",
   "id": "810e839f-e9ee-46d6-a7ba-32e9106352b2",
   "metadata": {},
   "source": [
    "6. Differentiate between expression and statement in Python with examples"
   ]
  },
  {
   "cell_type": "markdown",
   "id": "d78c15b1-fbd7-4964-8bfa-f30d0ecd3d2d",
   "metadata": {},
   "source": [
    "#Statement in Python                 \t    #Expression in Python\n",
    "A statement can be an expression.\t         An expression is not a statement.\n",
    "Example : x = 3. Output : 3\t                 Example: x = 3 + 6 . Output : 9"
   ]
  },
  {
   "cell_type": "code",
   "execution_count": 9,
   "id": "85ab803e-691d-48d6-9069-f8bb124265bc",
   "metadata": {},
   "outputs": [
    {
     "name": "stdout",
     "output_type": "stream",
     "text": [
      "5\n",
      "10.0\n"
     ]
    }
   ],
   "source": [
    "#Statement in Python\n",
    "x=5\n",
    "print(x)\n",
    "#expression in Python\n",
    "y=(3**2)+(9/3)-2\n",
    "print(y)"
   ]
  },
  {
   "cell_type": "code",
   "execution_count": null,
   "id": "e797479f-6398-4e30-8b03-98d7dde02803",
   "metadata": {},
   "outputs": [],
   "source": []
  }
 ],
 "metadata": {
  "kernelspec": {
   "display_name": "Python 3 (ipykernel)",
   "language": "python",
   "name": "python3"
  },
  "language_info": {
   "codemirror_mode": {
    "name": "ipython",
    "version": 3
   },
   "file_extension": ".py",
   "mimetype": "text/x-python",
   "name": "python",
   "nbconvert_exporter": "python",
   "pygments_lexer": "ipython3",
   "version": "3.10.8"
  }
 },
 "nbformat": 4,
 "nbformat_minor": 5
}
